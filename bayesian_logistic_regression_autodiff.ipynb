{
 "cells": [
  {
   "attachments": {},
   "cell_type": "markdown",
   "metadata": {
    "colab_type": "text",
    "id": "view-in-github"
   },
   "source": [
    "<a href=\"https://colab.research.google.com/github/juankuntz/ParEM/blob/main/jax/bayesian_logistic_regression.ipynb\" target=\"_parent\"><img src=\"https://colab.research.google.com/assets/colab-badge.svg\" alt=\"Open In Colab\"/></a>"
   ]
  },
  {
   "attachments": {},
   "cell_type": "markdown",
   "metadata": {
    "id": "B5E8v2cZ6Zkf"
   },
   "source": [
    "**Description:** This notebook demonstrates the application of PGD, PQN, PMGD, SOUL, and VI to the Bayesian logistic regression example in Section 3.1 of [Particle algorithms for maximum likelihood training of latent\n",
    "variable models](https://juankuntz.github.io/publication/parem/) and reproduces Figure 3 and Table 1 therein. "
   ]
  },
  {
   "attachments": {},
   "cell_type": "markdown",
   "metadata": {
    "id": "XotQU1Ootpi6"
   },
   "source": [
    "# Figure 3"
   ]
  },
  {
   "cell_type": "code",
   "execution_count": 1,
   "metadata": {
    "cellView": "form",
    "id": "mENE7XXBNLf0"
   },
   "outputs": [],
   "source": [
    "#@title Load modules.\n",
    "\n",
    "# Install the wget package on Colab (if running the notebook locally,\n",
    "# comment the following line out).\n",
    "#!pip install wget\n",
    "\n",
    "# OS and wget to load dataset.\n",
    "import os\n",
    "import wget\n",
    "from scipy.stats import norm\n",
    "from scipy.spatial.distance import pdist, squareform\n",
    "\n",
    "# Numpy for computations.\n",
    "import autograd.numpy as np\n",
    "from autograd import grad\n",
    "\n",
    "# Pyplot for plots.\n",
    "import matplotlib.pyplot as plt \n",
    "\n",
    "#@title Load and normalize the Wisconsin Breast Cancer dataset.\n",
    "\n",
    "# Fetch dataset from repository:\n",
    "wget.download('https://archive.ics.uci.edu/ml/machine-learning-databases/breast-cancer-wisconsin/breast-cancer-wisconsin.data')\n",
    "\n",
    "# Load dataset:\n",
    "dataset = np.loadtxt('breast-cancer-wisconsin.data', dtype=str, delimiter=',')\n",
    "\n",
    "# Delete local copy of dataset to avoid duplicates with multiple notebook runs:\n",
    "os.remove('breast-cancer-wisconsin.data')\n",
    "\n",
    "# Remove datapoints with missing attributes and change dtype to float:\n",
    "dataset = dataset[~(dataset == '?').any(axis=1), :].astype(float)\n",
    "\n",
    "# Extract features and labels, and normalize features:\n",
    "features = np.array(dataset[:, 1:10] - dataset[:, 1:10].mean(0))\n",
    "features = features/features.std(0)\n",
    "labels = np.array([(dataset[:, 10]-2)/2]).transpose()"
   ]
  },
  {
   "cell_type": "code",
   "execution_count": 281,
   "metadata": {},
   "outputs": [],
   "source": [
    "from coinem.model import AbstractModel\n",
    "from jaxtyping import Array, Float\n",
    "from dataclasses import dataclass\n",
    "import jax.numpy as jnp\n",
    "\n",
    "from jax import grad, vmap\n",
    "\n",
    "@dataclass\n",
    "class LogisticRegression(AbstractModel):\n",
    "    \"\"\"Base class for p(θ, x).\"\"\"\n",
    "    X: Array # Inputs\n",
    "    y: Array # Outputs\n",
    "    \n",
    "    def log_prob(self, latent: Float[Array, \"D\"], theta: Float[Array, \"Q\"]) -> Float[Array, \"\"]:\n",
    "        \"\"\"Compute gradient of the objective function at x.\n",
    "\n",
    "        Args:\n",
    "            latent (Float[Array, \"D\"]): Input weights of shape (D,).\n",
    "            theta (Float[Array, \"Q\"]): Parameters of shape (Q,).\n",
    "\n",
    "        Returns:\n",
    "            Float[Array, \"\"]: log-probability of the data.\n",
    "        \"\"\"\n",
    "\n",
    "        # Compute linear predictor.\n",
    "        z = jnp.matmul(self.X, latent[:, None])\n",
    "\n",
    "        # Compute log-probability.\n",
    "        return jnp.sum(self.y * z - jnp.log(1.0 + jnp.exp(z))) - jnp.sum((latent[:, None]-theta)**2)/5"
   ]
  },
  {
   "attachments": {},
   "cell_type": "markdown",
   "metadata": {
    "id": "ErKddtPzM3_H"
   },
   "source": [
    "First, we load the modules that we will need:"
   ]
  },
  {
   "attachments": {},
   "cell_type": "markdown",
   "metadata": {
    "id": "kKT-6l_6urur"
   },
   "source": [
    "We run the algorithms using an 80/20 training/test split of the data:"
   ]
  },
  {
   "cell_type": "code",
   "execution_count": 285,
   "metadata": {
    "id": "5WG-_AlQR_S_"
   },
   "outputs": [],
   "source": [
    "from coinem.zoo import coinEM, pgd\n",
    "\n",
    "# Split data into 80/20 training and testing sets:\n",
    "from sklearn.model_selection import train_test_split\n",
    "ftrain, ftest, ltrain, ltest = train_test_split(features, labels, test_size=0.2, \n",
    "                                                random_state=0)\n",
    "\n",
    "likelihood = LogisticRegression(X=ftrain, y=ltrain)\n",
    "\n",
    "# Set approximation parameters:\n",
    "h = 1e-2 # Step-size. \n",
    "K = 400  # Number of steps.\n",
    "N = 100  # Number of particles.\n",
    "D = features[0, :].size  # Dimension of latent space.\n",
    "\n",
    "# Initialize parameter estimates and particle cloud, all at zero:\n",
    "\n",
    "\n",
    "import jax.random as jr\n",
    "th0 = jnp.array([[0.0]])  # Parameter estimate.\n",
    "key = jr.PRNGKey(42)\n",
    "X0 = jr.normal(key, (N, D))  # Particle cloud.\n",
    "\n",
    "# Run algorithms:\n",
    "# th_vi, X_vi, m_vi, s_vi = vi(ltrain, ftrain, h, K, N, th0, X0)\n",
    "# th_pgd, X_pgd = pgd(ltrain, ftrain, h, K, N, th0, X0)\n",
    "# th_pqn, X_pqn = pqn(ltrain, ftrain, h, K, N, th0, X0)\n",
    "# th_pmgd, X_pmgd = pmgd(ltrain, ftrain, h, K, N, th0, X0)\n",
    "# th_soul, X_soul = soul(ltrain, ftrain, h, K, N, th0, X0)\n",
    "X_coin, th_coin = coinEM(likelihood, X0, th0, K)\n",
    "X_pgd, th_pgd = pgd(likelihood, X0, th0, K, step_size=h)"
   ]
  },
  {
   "attachments": {},
   "cell_type": "markdown",
   "metadata": {
    "id": "6woA0pl4fEaB"
   },
   "source": [
    "And plot the parameter estimates as a function of k:"
   ]
  },
  {
   "cell_type": "code",
   "execution_count": 287,
   "metadata": {
    "colab": {
     "base_uri": "https://localhost:8080/",
     "height": 282
    },
    "id": "R1XfFt7HfPDQ",
    "outputId": "bb276909-3f43-4350-9925-e979e4997560"
   },
   "outputs": [
    {
     "data": {
      "text/plain": [
       "<matplotlib.legend.Legend at 0x2c32dc040>"
      ]
     },
     "execution_count": 287,
     "metadata": {},
     "output_type": "execute_result"
    },
    {
     "data": {
      "image/png": "[encoded data removed]",
      "text/plain": [
       "<Figure size 640x480 with 1 Axes>"
      ]
     },
     "metadata": {},
     "output_type": "display_data"
    }
   ],
   "source": [
    "plt.plot(th_pgd.squeeze(), label='PGD')\n",
    "plt.xlim([-K/100, K])\n",
    "plt.plot(th_coin.squeeze(), label='Coin')\n",
    "plt.legend(loc='upper right')"
   ]
  },
  {
   "attachments": {},
   "cell_type": "markdown",
   "metadata": {
    "id": "kgyOR3kTgIBG"
   },
   "source": [
    "The estimates produced by all five algorithms converge to the same limit after similar transients. To observe more significant differences between the algorithms' outputs, we examine the posterior approximations they return..."
   ]
  },
  {
   "attachments": {},
   "cell_type": "markdown",
   "metadata": {},
   "source": [
    "# Explicit version"
   ]
  },
  {
   "cell_type": "code",
   "execution_count": 290,
   "metadata": {},
   "outputs": [],
   "source": [
    "from coinem.model import AbstractModel\n",
    "from jaxtyping import Array, Float\n",
    "from dataclasses import dataclass\n",
    "import jax.numpy as jnp\n",
    "\n",
    "from jax import grad, vmap\n",
    "\n",
    "@dataclass\n",
    "class LogisticRegression(AbstractModel):\n",
    "    \"\"\"Base class for p(θ, x).\"\"\"\n",
    "    X: Array # Inputs\n",
    "    y: Array # Outputs\n",
    "    \n",
    "    def log_prob(self, latent: Float[Array, \"D\"], theta: Float[Array, \"Q\"]) -> Float[Array, \"N\"]:\n",
    "\n",
    "        # Compute linear predictor.\n",
    "        z = jnp.matmul(self.X, latent[:, None])\n",
    "\n",
    "        # Compute log-probability.\n",
    "        return jnp.sum(self.y * z - jnp.log(1.0 + jnp.exp(z))) - jnp.sum((latent[:, None]-theta)**2)/5\n",
    "    \n",
    "    def score_latent_particles(self, latent_particles: Float[Array, \"N D\"], theta: Float[Array, \"Q\"]) -> Float[Array, \"N\"]:\n",
    "        \"\"\"Returns x-gradient of log density vectorized over particles.\"\"\"\n",
    "        s = 1/(1+jnp.exp(- jnp.matmul(self.X, latent_particles.T)))\n",
    "        return (jnp.matmul((self.y-s).transpose(), self.X).transpose() - (latent_particles.T-theta)/5).T\n",
    "    \n",
    "    def average_score_theta(self, latent_particles: Float[Array, \"N D\"], theta: Float[Array, \"Q\"]) -> Float[Array, \"Q\"]:\n",
    "        \"\"\"Returns theta-gradient of log density averaged over particle cloud.\"\"\"\n",
    "\n",
    "        return jnp.array([[2 * (latent_particles.T-theta).sum(0).mean()/5]])\n",
    "    \n",
    "    \n",
    "    def theta_opt(self, latent_particles: Float[Array, \"N D\"]) -> Float[Array, \"Q\"]:\n",
    "        return latent_particles.mean()  # Return optimal parameter for particle cloud X.\n",
    "    \n",
    "    def average_hessian_theta(self, latent_particles: Float[Array, \"N D\"], theta: Float[Array, \"Q\"]):\n",
    "        \"\"\"Returns negative-theta-Hessian of log density averaged over particles.\"\"\"\n",
    "        return jnp.array([[latent_particles.shape[-1]/5]])"
   ]
  },
  {
   "cell_type": "code",
   "execution_count": 291,
   "metadata": {},
   "outputs": [],
   "source": [
    "from coinem.zoo import coinEM, pgd\n",
    "\n",
    "# Split data into 80/20 training and testing sets:\n",
    "from sklearn.model_selection import train_test_split\n",
    "ftrain, ftest, ltrain, ltest = train_test_split(features, labels, test_size=0.2, \n",
    "                                                random_state=0)\n",
    "\n",
    "likelihood = LogisticRegression(X=ftrain, y=ltrain)\n",
    "\n",
    "# Set approximation parameters:\n",
    "h = 1e-2 # Step-size. \n",
    "K = 400  # Number of steps.\n",
    "N = 100  # Number of particles.\n",
    "D = features[0, :].size  # Dimension of latent space.\n",
    "\n",
    "# Initialize parameter estimates and particle cloud, all at zero:\n",
    "\n",
    "\n",
    "import jax.random as jr\n",
    "th0 = jnp.array([[0.0]])  # Parameter estimate.\n",
    "key = jr.PRNGKey(42)\n",
    "X0 = jr.normal(key, (N, D))  # Particle cloud.\n",
    "\n",
    "# Run algorithms:\n",
    "# th_vi, X_vi, m_vi, s_vi = vi(ltrain, ftrain, h, K, N, th0, X0)\n",
    "# th_pgd, X_pgd = pgd(ltrain, ftrain, h, K, N, th0, X0)\n",
    "# th_pqn, X_pqn = pqn(ltrain, ftrain, h, K, N, th0, X0)\n",
    "# th_pmgd, X_pmgd = pmgd(ltrain, ftrain, h, K, N, th0, X0)\n",
    "# th_soul, X_soul = soul(ltrain, ftrain, h, K, N, th0, X0)\n",
    "X_coin, th_coin = coinEM(likelihood, X0, th0, K)\n",
    "X_pgd, th_pgd = pgd(likelihood, X0, th0, K, step_size=h)"
   ]
  },
  {
   "cell_type": "code",
   "execution_count": 292,
   "metadata": {},
   "outputs": [
    {
     "data": {
      "text/plain": [
       "<matplotlib.legend.Legend at 0x2c3b235e0>"
      ]
     },
     "execution_count": 292,
     "metadata": {},
     "output_type": "execute_result"
    },
    {
     "data": {
      "image/png": "[encoded data removed]",
      "text/plain": [
       "<Figure size 640x480 with 1 Axes>"
      ]
     },
     "metadata": {},
     "output_type": "display_data"
    }
   ],
   "source": [
    "plt.plot(th_pgd.squeeze(), label='PGD')\n",
    "plt.xlim([-K/100, K])\n",
    "plt.plot(th_coin.squeeze(), label='Coin')\n",
    "plt.legend(loc='upper right')"
   ]
  }
 ],
 "metadata": {
  "colab": {
   "include_colab_link": true,
   "provenance": []
  },
  "kernelspec": {
   "display_name": "Python 3 (ipykernel)",
   "language": "python",
   "name": "python3"
  },
  "language_info": {
   "codemirror_mode": {
    "name": "ipython",
    "version": 3
   },
   "file_extension": ".py",
   "mimetype": "text/x-python",
   "name": "python",
   "nbconvert_exporter": "python",
   "pygments_lexer": "ipython3",
   "version": "3.10.9"
  }
 },
 "nbformat": 4,
 "nbformat_minor": 1
}
