{
 "cells": [
  {
   "attachments": {},
   "cell_type": "markdown",
   "metadata": {
    "id": "XotQU1Ootpi6"
   },
   "source": [
    "# Bayesian neural network"
   ]
  },
  {
   "attachments": {},
   "cell_type": "markdown",
   "metadata": {
    "id": "ErKddtPzM3_H"
   },
   "source": [
    "First, we load the modules we need:"
   ]
  },
  {
   "cell_type": "code",
   "execution_count": 84,
   "metadata": {
    "cellView": "form",
    "id": "QRkQ4RDsIAGf"
   },
   "outputs": [],
   "source": [
    "import jax.numpy as jnp\n",
    "import jax\n",
    "from jaxtyping import Array, Float\n",
    "from dataclasses import dataclass\n",
    "\n",
    "import jax.numpy as jnp\n",
    "import jax.random as jr\n",
    "import matplotlib.pyplot as plt\n",
    "import distrax as dx\n",
    "\n",
    "from coinem.model import AbstractModel\n",
    "\n",
    "# Pyplot for plots.\n",
    "import matplotlib.pyplot as plt "
   ]
  },
  {
   "attachments": {},
   "cell_type": "markdown",
   "metadata": {
    "vscode": {
     "languageId": "plaintext"
    }
   },
   "source": [
    "## Model\n",
    "\n",
    "Decribe."
   ]
  },
  {
   "cell_type": "code",
   "execution_count": 130,
   "metadata": {},
   "outputs": [],
   "source": [
    "@dataclass\n",
    "class BayesNN(AbstractModel):\n",
    "    \"\"\"Base class for p(θ, x).\"\"\"\n",
    "    images: Array\n",
    "    labels: Array\n",
    "    w_shape: tuple[int, int] = (40, 784)\n",
    "    v_dim: tuple[int, int] = (2, 40)\n",
    "    \n",
    "    def log_prob(self, latent: Float[Array, \"D\"], theta: Float[Array, \"Q\"]) -> Float[Array, \"\"]:\n",
    "        \"\"\"Compute gradient of the objective function at x.\n",
    "\n",
    "        Args:\n",
    "            latent (Float[Array, \"D\"]): Input weights of shape (D,).\n",
    "            theta (Float[Array, \"Q\"]): Parameters of shape (2,).\n",
    "\n",
    "        Returns:\n",
    "            Float[Array, \"\"]: log-probability of the data.\n",
    "        \"\"\"\n",
    "\n",
    "        alpha, beta = theta\n",
    "\n",
    "        w_flat = latent[:self.w_shape[0] * self.w_shape[1]]\n",
    "        w = w_flat.reshape(self.w_shape)\n",
    "\n",
    "        v_flat = latent[self.w_shape[0] * self.w_shape[1]:]\n",
    "        v = v_flat.reshape(self.v_dim)\n",
    "\n",
    "\n",
    "        log_prior_w = dx.Normal(0.0, jnp.exp(2.0 * alpha)).log_prob(w_flat).sum()\n",
    "        log_prior_v = dx.Normal(0.0, jnp.exp(2.0 * beta)).log_prob(v_flat).sum()\n",
    "\n",
    "\n",
    "        def _log_nn(image):\n",
    "            # Log of the network's output when evaluated at image with weights w, v.\n",
    "            arg = jnp.dot(v, jnp.tanh(jnp.dot(w, image.flatten())))\n",
    "            return jax.nn.log_softmax(arg)\n",
    "\n",
    "\n",
    "        def _log_nn_vec(images):\n",
    "            # _log_nn vectorized over particles.\n",
    "            return jax.vmap(_log_nn)(images)\n",
    "\n",
    "\n",
    "        def _log_likelihood(images, labels):\n",
    "            # Log-likelihood for set of images and labels, vectorized over particles.\n",
    "            return (_log_nn_vec(images)[jnp.arange(labels.size), labels]).sum()\n",
    "\n",
    "        # Compute log-probability.\n",
    "        return _log_likelihood(self.images, self.labels) + log_prior_w + log_prior_v # log p(y|x) + log p(x|theta)"
   ]
  },
  {
   "cell_type": "code",
   "execution_count": 144,
   "metadata": {},
   "outputs": [
    {
     "ename": "IndexError",
     "evalue": "Too many indices for array: 2 non-None/Ellipsis indices for dim 1.",
     "output_type": "error",
     "traceback": [
      "\u001b[0;31m---------------------------------------------------------------------------\u001b[0m",
      "\u001b[0;31mIndexError\u001b[0m                                Traceback (most recent call last)",
      "Cell \u001b[0;32mIn[144], line 5\u001b[0m\n\u001b[1;32m      1\u001b[0m y \u001b[39m=\u001b[39m \u001b[39m0\u001b[39m\n\u001b[1;32m      3\u001b[0m v \u001b[39m=\u001b[39m jnp\u001b[39m.\u001b[39marray([\u001b[39m1.\u001b[39m, \u001b[39m2.\u001b[39m])\n\u001b[0;32m----> 5\u001b[0m v[\u001b[39m0\u001b[39;49m, :] \u001b[39m*\u001b[39m (\u001b[39m1\u001b[39m\u001b[39m-\u001b[39my) \u001b[39m+\u001b[39m v[\u001b[39m1\u001b[39m, :] \u001b[39m*\u001b[39m y\n",
      "File \u001b[0;32m~/miniconda3/lib/python3.10/site-packages/jax/_src/array.py:261\u001b[0m, in \u001b[0;36mArrayImpl.__getitem__\u001b[0;34m(self, idx)\u001b[0m\n\u001b[1;32m    258\u001b[0m \u001b[39mself\u001b[39m\u001b[39m.\u001b[39m_check_if_deleted()\n\u001b[1;32m    260\u001b[0m \u001b[39mif\u001b[39;00m dispatch\u001b[39m.\u001b[39mis_single_device_sharding(\u001b[39mself\u001b[39m\u001b[39m.\u001b[39msharding) \u001b[39mor\u001b[39;00m \u001b[39mself\u001b[39m\u001b[39m.\u001b[39mis_fully_replicated:\n\u001b[0;32m--> 261\u001b[0m   \u001b[39mreturn\u001b[39;00m lax_numpy\u001b[39m.\u001b[39;49m_rewriting_take(\u001b[39mself\u001b[39;49m, idx)\n\u001b[1;32m    262\u001b[0m \u001b[39m# TODO(yashkatariya): Make it work for other Shardings too wherever its\u001b[39;00m\n\u001b[1;32m    263\u001b[0m \u001b[39m# possible to not do data movement.\u001b[39;00m\n\u001b[1;32m    264\u001b[0m \u001b[39melif\u001b[39;00m \u001b[39misinstance\u001b[39m(\u001b[39mself\u001b[39m\u001b[39m.\u001b[39msharding, PmapSharding):\n",
      "File \u001b[0;32m~/miniconda3/lib/python3.10/site-packages/jax/_src/numpy/lax_numpy.py:3828\u001b[0m, in \u001b[0;36m_rewriting_take\u001b[0;34m(arr, idx, indices_are_sorted, unique_indices, mode, fill_value)\u001b[0m\n\u001b[1;32m   3825\u001b[0m       \u001b[39mreturn\u001b[39;00m lax\u001b[39m.\u001b[39mdynamic_index_in_dim(arr, idx, keepdims\u001b[39m=\u001b[39m\u001b[39mFalse\u001b[39;00m)\n\u001b[1;32m   3827\u001b[0m treedef, static_idx, dynamic_idx \u001b[39m=\u001b[39m _split_index_for_jit(idx, arr\u001b[39m.\u001b[39mshape)\n\u001b[0;32m-> 3828\u001b[0m \u001b[39mreturn\u001b[39;00m _gather(arr, treedef, static_idx, dynamic_idx, indices_are_sorted,\n\u001b[1;32m   3829\u001b[0m                unique_indices, mode, fill_value)\n",
      "File \u001b[0;32m~/miniconda3/lib/python3.10/site-packages/jax/_src/numpy/lax_numpy.py:3837\u001b[0m, in \u001b[0;36m_gather\u001b[0;34m(arr, treedef, static_idx, dynamic_idx, indices_are_sorted, unique_indices, mode, fill_value)\u001b[0m\n\u001b[1;32m   3834\u001b[0m \u001b[39mdef\u001b[39;00m \u001b[39m_gather\u001b[39m(arr, treedef, static_idx, dynamic_idx, indices_are_sorted,\n\u001b[1;32m   3835\u001b[0m             unique_indices, mode, fill_value):\n\u001b[1;32m   3836\u001b[0m   idx \u001b[39m=\u001b[39m _merge_static_and_dynamic_indices(treedef, static_idx, dynamic_idx)\n\u001b[0;32m-> 3837\u001b[0m   indexer \u001b[39m=\u001b[39m _index_to_gather(shape(arr), idx)  \u001b[39m# shared with _scatter_update\u001b[39;00m\n\u001b[1;32m   3838\u001b[0m   y \u001b[39m=\u001b[39m arr\n\u001b[1;32m   3840\u001b[0m   \u001b[39mif\u001b[39;00m fill_value \u001b[39mis\u001b[39;00m \u001b[39mnot\u001b[39;00m \u001b[39mNone\u001b[39;00m:\n",
      "File \u001b[0;32m~/miniconda3/lib/python3.10/site-packages/jax/_src/numpy/lax_numpy.py:3938\u001b[0m, in \u001b[0;36m_index_to_gather\u001b[0;34m(x_shape, idx, normalize_indices)\u001b[0m\n\u001b[1;32m   3936\u001b[0m \u001b[39mdef\u001b[39;00m \u001b[39m_index_to_gather\u001b[39m(x_shape, idx, normalize_indices\u001b[39m=\u001b[39m\u001b[39mTrue\u001b[39;00m):\n\u001b[1;32m   3937\u001b[0m   \u001b[39m# Remove ellipses and add trailing slice(None)s.\u001b[39;00m\n\u001b[0;32m-> 3938\u001b[0m   idx \u001b[39m=\u001b[39m _canonicalize_tuple_index(\u001b[39mlen\u001b[39;49m(x_shape), idx)\n\u001b[1;32m   3940\u001b[0m   \u001b[39m# Check for advanced indexing:\u001b[39;00m\n\u001b[1;32m   3941\u001b[0m   \u001b[39m# https://docs.scipy.org/doc/numpy/reference/arrays.indexing.html#advanced-indexing\u001b[39;00m\n\u001b[1;32m   3942\u001b[0m \n\u001b[1;32m   3943\u001b[0m   \u001b[39m# Do the advanced indexing axes appear contiguously? If not, NumPy semantics\u001b[39;00m\n\u001b[1;32m   3944\u001b[0m   \u001b[39m# move the advanced axes to the front.\u001b[39;00m\n\u001b[1;32m   3945\u001b[0m   advanced_axes_are_contiguous \u001b[39m=\u001b[39m \u001b[39mFalse\u001b[39;00m\n",
      "File \u001b[0;32m~/miniconda3/lib/python3.10/site-packages/jax/_src/numpy/lax_numpy.py:4271\u001b[0m, in \u001b[0;36m_canonicalize_tuple_index\u001b[0;34m(arr_ndim, idx, array_name)\u001b[0m\n\u001b[1;32m   4269\u001b[0m len_without_none \u001b[39m=\u001b[39m _sum(\u001b[39m1\u001b[39m \u001b[39mfor\u001b[39;00m e \u001b[39min\u001b[39;00m idx \u001b[39mif\u001b[39;00m e \u001b[39mis\u001b[39;00m \u001b[39mnot\u001b[39;00m \u001b[39mNone\u001b[39;00m \u001b[39mand\u001b[39;00m e \u001b[39mis\u001b[39;00m \u001b[39mnot\u001b[39;00m \u001b[39mEllipsis\u001b[39m)\n\u001b[1;32m   4270\u001b[0m \u001b[39mif\u001b[39;00m len_without_none \u001b[39m>\u001b[39m arr_ndim:\n\u001b[0;32m-> 4271\u001b[0m   \u001b[39mraise\u001b[39;00m \u001b[39mIndexError\u001b[39;00m(\n\u001b[1;32m   4272\u001b[0m       \u001b[39mf\u001b[39m\u001b[39m\"\u001b[39m\u001b[39mToo many indices for \u001b[39m\u001b[39m{\u001b[39;00marray_name\u001b[39m}\u001b[39;00m\u001b[39m: \u001b[39m\u001b[39m{\u001b[39;00mlen_without_none\u001b[39m}\u001b[39;00m\u001b[39m \u001b[39m\u001b[39m\"\u001b[39m\n\u001b[1;32m   4273\u001b[0m       \u001b[39mf\u001b[39m\u001b[39m\"\u001b[39m\u001b[39mnon-None/Ellipsis indices for dim \u001b[39m\u001b[39m{\u001b[39;00marr_ndim\u001b[39m}\u001b[39;00m\u001b[39m.\u001b[39m\u001b[39m\"\u001b[39m)\n\u001b[1;32m   4274\u001b[0m ellipses \u001b[39m=\u001b[39m (i \u001b[39mfor\u001b[39;00m i, elt \u001b[39min\u001b[39;00m \u001b[39menumerate\u001b[39m(idx) \u001b[39mif\u001b[39;00m elt \u001b[39mis\u001b[39;00m \u001b[39mEllipsis\u001b[39m)\n\u001b[1;32m   4275\u001b[0m ellipsis_index \u001b[39m=\u001b[39m \u001b[39mnext\u001b[39m(ellipses, \u001b[39mNone\u001b[39;00m)\n",
      "\u001b[0;31mIndexError\u001b[0m: Too many indices for array: 2 non-None/Ellipsis indices for dim 1."
     ]
    }
   ],
   "source": [
    "y = 0\n",
    "\n",
    "v = jnp.array([1., 2.])\n",
    "\n",
    "v[0, :] * (1-y) + v[1, :] * y"
   ]
  },
  {
   "attachments": {},
   "cell_type": "markdown",
   "metadata": {
    "id": "R6VBGWiUNBLA"
   },
   "source": [
    "Next, we load and curate the dataset:"
   ]
  },
  {
   "cell_type": "code",
   "execution_count": 131,
   "metadata": {
    "cellView": "form",
    "colab": {
     "base_uri": "https://localhost:8080/"
    },
    "id": "mENE7XXBNLf0",
    "outputId": "7fdc1f91-db87-4169-f19f-0ca00854e4eb"
   },
   "outputs": [],
   "source": [
    "#@title Load, subsample, and normalize MNIST dataset.\n",
    "import numpy as np\n",
    "\n",
    "# Load dataset:\n",
    "from keras.datasets import mnist\n",
    "(images, labels), _ = mnist.load_data()\n",
    "images = np.array(images).astype(float)\n",
    "labels = np.array(labels).astype(int)\n",
    "\n",
    "# Keep only datapoints with labels 4 and 9:\n",
    "indices = (labels == 4) | (labels == 9)\n",
    "labels = labels[indices]\n",
    "images = images[indices, :, :]\n",
    "\n",
    "# Relabel as 4 as 0 and 9 as 1:\n",
    "for n in range(labels.size):\n",
    "    if labels[n] == 4:\n",
    "        labels[n] = 0\n",
    "    else:\n",
    "        labels[n] = 1\n",
    "\n",
    "# Sub-sample 1000 images:\n",
    "from sklearn.model_selection import train_test_split\n",
    "images, _, labels, _ = train_test_split(images, labels, train_size=1000,\n",
    "                                        random_state=0)\n",
    "\n",
    "# Normalize non-zero entries so that they have mean zero and unit standard \n",
    "# across the dataset:'''\n",
    "i = images.std(0) != 0\n",
    "images[:, i] = (images[:, i] - images[:, i].mean(0))/images[:, i].std(0)"
   ]
  },
  {
   "attachments": {},
   "cell_type": "markdown",
   "metadata": {
    "id": "9Rf35vq3IC7T"
   },
   "source": [
    "We then implement the algorithms. They take in the following inputs:\n",
    "\n",
    "*   itrain : training set labels,\n",
    "*   itrain : training set images,\n",
    "*   itest : test set labels,\n",
    "*   itest : test set images,\n",
    "*   h : step-size,\n",
    "*   K : number of steps,\n",
    "*   N : number of particles,\n",
    "*   a : 1-dimensional vector with initial alpha guess,\n",
    "*   b : 1-dimensional vector with initial beta guess,\n",
    "*   w : Dw x N matrix storing the input layer weights of the initial particle cloud,\n",
    "*   v : Dv x N matrix storing the output layer weights of the initial particle cloud.\n",
    "\n",
    "They return the following outputs:\n",
    "\n",
    "*   a : K-dimensional vector of alpha estimates,\n",
    "*   b : K-dimensional vector of beta estimates,\n",
    "*   w : Dw x N matrix storing the input layer weights of the final particle cloud,\n",
    "*   v : Dv x N matrix storing the output layer weights of the final particle cloud,\n",
    "*   lppd : log pointwise predictive density (LPPD) as a function of k,\n",
    "*   error : test error as a function of k."
   ]
  },
  {
   "attachments": {},
   "cell_type": "markdown",
   "metadata": {
    "id": "kKT-6l_6urur"
   },
   "source": [
    "We can now run the algorithms using an 80/20 training/test split of the data:"
   ]
  },
  {
   "cell_type": "code",
   "execution_count": 132,
   "metadata": {
    "id": "8qZD69GRu0G2",
    "outputId": "c352999b-0472-4669-b53a-0bf44a4db099"
   },
   "outputs": [
    {
     "ename": "KeyboardInterrupt",
     "evalue": "",
     "output_type": "error",
     "traceback": [
      "\u001b[0;31m---------------------------------------------------------------------------\u001b[0m",
      "\u001b[0;31mKeyboardInterrupt\u001b[0m                         Traceback (most recent call last)",
      "Cell \u001b[0;32mIn[132], line 27\u001b[0m\n\u001b[1;32m     23\u001b[0m \u001b[39mfrom\u001b[39;00m \u001b[39mcoinem\u001b[39;00m\u001b[39m.\u001b[39;00m\u001b[39mzoo\u001b[39;00m \u001b[39mimport\u001b[39;00m coin_svgd\n\u001b[1;32m     26\u001b[0m model \u001b[39m=\u001b[39m BayesNN(itrain, ltrain)\n\u001b[0;32m---> 27\u001b[0m x_coin, theta_coin \u001b[39m=\u001b[39m coin_svgd(model, latent, theta, K, alpha\u001b[39m=\u001b[39;49m\u001b[39m100\u001b[39;49m)\n",
      "File \u001b[0;32m~/Desktop/CoinEM/coinem/zoo.py:58\u001b[0m, in \u001b[0;36mcoin_svgd\u001b[0;34m(model, latent_init, theta_init, num_steps, alpha)\u001b[0m\n\u001b[1;32m     55\u001b[0m     \u001b[39m# Return the carry, and the new params\u001b[39;00m\n\u001b[1;32m     56\u001b[0m     \u001b[39mreturn\u001b[39;00m carry, {\u001b[39m\"\u001b[39m\u001b[39mlatent\u001b[39m\u001b[39m\"\u001b[39m: latent, \u001b[39m\"\u001b[39m\u001b[39mtheta\u001b[39m\u001b[39m\"\u001b[39m: theta}\n\u001b[0;32m---> 58\u001b[0m _, hist \u001b[39m=\u001b[39m lax\u001b[39m.\u001b[39;49mscan(\n\u001b[1;32m     59\u001b[0m     step,\n\u001b[1;32m     60\u001b[0m     (latent_init, theta_init, latent_opt_state, theta_opt_state),\n\u001b[1;32m     61\u001b[0m     jnp\u001b[39m.\u001b[39;49marange(num_steps),\n\u001b[1;32m     62\u001b[0m )\n\u001b[1;32m     64\u001b[0m \u001b[39mreturn\u001b[39;00m hist[\u001b[39m\"\u001b[39m\u001b[39mlatent\u001b[39m\u001b[39m\"\u001b[39m], hist[\u001b[39m\"\u001b[39m\u001b[39mtheta\u001b[39m\u001b[39m\"\u001b[39m]\n",
      "    \u001b[0;31m[... skipping hidden 1 frame]\u001b[0m\n",
      "File \u001b[0;32m~/miniconda3/lib/python3.10/site-packages/jax/_src/lax/control_flow/loops.py:275\u001b[0m, in \u001b[0;36mscan\u001b[0;34m(f, init, xs, length, reverse, unroll)\u001b[0m\n\u001b[1;32m    271\u001b[0m \u001b[39mif\u001b[39;00m disallowed_effects:\n\u001b[1;32m    272\u001b[0m   \u001b[39mraise\u001b[39;00m \u001b[39mNotImplementedError\u001b[39;00m(\n\u001b[1;32m    273\u001b[0m       \u001b[39mf\u001b[39m\u001b[39m'\u001b[39m\u001b[39mEffects not supported in `scan`: \u001b[39m\u001b[39m{\u001b[39;00mdisallowed_effects\u001b[39m}\u001b[39;00m\u001b[39m'\u001b[39m)\n\u001b[0;32m--> 275\u001b[0m out \u001b[39m=\u001b[39m scan_p\u001b[39m.\u001b[39;49mbind(\u001b[39m*\u001b[39;49mconsts, \u001b[39m*\u001b[39;49min_flat,\n\u001b[1;32m    276\u001b[0m                   reverse\u001b[39m=\u001b[39;49mreverse, length\u001b[39m=\u001b[39;49mlength, jaxpr\u001b[39m=\u001b[39;49mjaxpr,\n\u001b[1;32m    277\u001b[0m                   num_consts\u001b[39m=\u001b[39;49m\u001b[39mlen\u001b[39;49m(consts), num_carry\u001b[39m=\u001b[39;49m\u001b[39mlen\u001b[39;49m(init_flat),\n\u001b[1;32m    278\u001b[0m                   linear\u001b[39m=\u001b[39;49m(\u001b[39mFalse\u001b[39;49;00m,) \u001b[39m*\u001b[39;49m (\u001b[39mlen\u001b[39;49m(consts) \u001b[39m+\u001b[39;49m \u001b[39mlen\u001b[39;49m(in_flat)),\n\u001b[1;32m    279\u001b[0m                   unroll\u001b[39m=\u001b[39;49munroll)\n\u001b[1;32m    280\u001b[0m \u001b[39mreturn\u001b[39;00m tree_unflatten(out_tree, out)\n",
      "File \u001b[0;32m~/miniconda3/lib/python3.10/site-packages/jax/_src/lax/control_flow/loops.py:999\u001b[0m, in \u001b[0;36mscan_bind\u001b[0;34m(*args, **params)\u001b[0m\n\u001b[1;32m    997\u001b[0m   _scan_typecheck(\u001b[39mTrue\u001b[39;00m, \u001b[39m*\u001b[39min_atoms, \u001b[39m*\u001b[39m\u001b[39m*\u001b[39mparams)\n\u001b[1;32m    998\u001b[0m   core\u001b[39m.\u001b[39mcheck_jaxpr(params[\u001b[39m'\u001b[39m\u001b[39mjaxpr\u001b[39m\u001b[39m'\u001b[39m]\u001b[39m.\u001b[39mjaxpr)\n\u001b[0;32m--> 999\u001b[0m \u001b[39mreturn\u001b[39;00m core\u001b[39m.\u001b[39;49mAxisPrimitive\u001b[39m.\u001b[39;49mbind(scan_p, \u001b[39m*\u001b[39;49margs, \u001b[39m*\u001b[39;49m\u001b[39m*\u001b[39;49mparams)\n",
      "File \u001b[0;32m~/miniconda3/lib/python3.10/site-packages/jax/core.py:2449\u001b[0m, in \u001b[0;36mAxisPrimitive.bind\u001b[0;34m(self, *args, **params)\u001b[0m\n\u001b[1;32m   2445\u001b[0m axis_main \u001b[39m=\u001b[39m \u001b[39mmax\u001b[39m((axis_frame(a)\u001b[39m.\u001b[39mmain_trace \u001b[39mfor\u001b[39;00m a \u001b[39min\u001b[39;00m used_axis_names(\u001b[39mself\u001b[39m, params)),\n\u001b[1;32m   2446\u001b[0m                 default\u001b[39m=\u001b[39m\u001b[39mNone\u001b[39;00m, key\u001b[39m=\u001b[39m\u001b[39mlambda\u001b[39;00m t: \u001b[39mgetattr\u001b[39m(t, \u001b[39m'\u001b[39m\u001b[39mlevel\u001b[39m\u001b[39m'\u001b[39m, \u001b[39m-\u001b[39m\u001b[39m1\u001b[39m))\n\u001b[1;32m   2447\u001b[0m top_trace \u001b[39m=\u001b[39m (top_trace \u001b[39mif\u001b[39;00m \u001b[39mnot\u001b[39;00m axis_main \u001b[39mor\u001b[39;00m axis_main\u001b[39m.\u001b[39mlevel \u001b[39m<\u001b[39m top_trace\u001b[39m.\u001b[39mlevel\n\u001b[1;32m   2448\u001b[0m              \u001b[39melse\u001b[39;00m axis_main\u001b[39m.\u001b[39mwith_cur_sublevel())\n\u001b[0;32m-> 2449\u001b[0m \u001b[39mreturn\u001b[39;00m \u001b[39mself\u001b[39;49m\u001b[39m.\u001b[39;49mbind_with_trace(top_trace, args, params)\n",
      "File \u001b[0;32m~/miniconda3/lib/python3.10/site-packages/jax/core.py:332\u001b[0m, in \u001b[0;36mPrimitive.bind_with_trace\u001b[0;34m(self, trace, args, params)\u001b[0m\n\u001b[1;32m    331\u001b[0m \u001b[39mdef\u001b[39;00m \u001b[39mbind_with_trace\u001b[39m(\u001b[39mself\u001b[39m, trace, args, params):\n\u001b[0;32m--> 332\u001b[0m   out \u001b[39m=\u001b[39m trace\u001b[39m.\u001b[39;49mprocess_primitive(\u001b[39mself\u001b[39;49m, \u001b[39mmap\u001b[39;49m(trace\u001b[39m.\u001b[39;49mfull_raise, args), params)\n\u001b[1;32m    333\u001b[0m   \u001b[39mreturn\u001b[39;00m \u001b[39mmap\u001b[39m(full_lower, out) \u001b[39mif\u001b[39;00m \u001b[39mself\u001b[39m\u001b[39m.\u001b[39mmultiple_results \u001b[39melse\u001b[39;00m full_lower(out)\n",
      "File \u001b[0;32m~/miniconda3/lib/python3.10/site-packages/jax/core.py:712\u001b[0m, in \u001b[0;36mEvalTrace.process_primitive\u001b[0;34m(self, primitive, tracers, params)\u001b[0m\n\u001b[1;32m    711\u001b[0m \u001b[39mdef\u001b[39;00m \u001b[39mprocess_primitive\u001b[39m(\u001b[39mself\u001b[39m, primitive, tracers, params):\n\u001b[0;32m--> 712\u001b[0m   \u001b[39mreturn\u001b[39;00m primitive\u001b[39m.\u001b[39;49mimpl(\u001b[39m*\u001b[39;49mtracers, \u001b[39m*\u001b[39;49m\u001b[39m*\u001b[39;49mparams)\n",
      "File \u001b[0;32m~/miniconda3/lib/python3.10/site-packages/jax/_src/dispatch.py:120\u001b[0m, in \u001b[0;36mapply_primitive\u001b[0;34m(prim, *args, **params)\u001b[0m\n\u001b[1;32m    117\u001b[0m \u001b[39m\u001b[39m\u001b[39m\"\"\"Impl rule that compiles and runs a single primitive 'prim' using XLA.\"\"\"\u001b[39;00m\n\u001b[1;32m    118\u001b[0m compiled_fun \u001b[39m=\u001b[39m xla_primitive_callable(prim, \u001b[39m*\u001b[39munsafe_map(arg_spec, args),\n\u001b[1;32m    119\u001b[0m                                       \u001b[39m*\u001b[39m\u001b[39m*\u001b[39mparams)\n\u001b[0;32m--> 120\u001b[0m \u001b[39mreturn\u001b[39;00m compiled_fun(\u001b[39m*\u001b[39;49margs)\n",
      "File \u001b[0;32m~/miniconda3/lib/python3.10/site-packages/jax/_src/profiler.py:314\u001b[0m, in \u001b[0;36mannotate_function.<locals>.wrapper\u001b[0;34m(*args, **kwargs)\u001b[0m\n\u001b[1;32m    311\u001b[0m \u001b[39m@wraps\u001b[39m(func)\n\u001b[1;32m    312\u001b[0m \u001b[39mdef\u001b[39;00m \u001b[39mwrapper\u001b[39m(\u001b[39m*\u001b[39margs, \u001b[39m*\u001b[39m\u001b[39m*\u001b[39mkwargs):\n\u001b[1;32m    313\u001b[0m   \u001b[39mwith\u001b[39;00m TraceAnnotation(name, \u001b[39m*\u001b[39m\u001b[39m*\u001b[39mdecorator_kwargs):\n\u001b[0;32m--> 314\u001b[0m     \u001b[39mreturn\u001b[39;00m func(\u001b[39m*\u001b[39;49margs, \u001b[39m*\u001b[39;49m\u001b[39m*\u001b[39;49mkwargs)\n\u001b[1;32m    315\u001b[0m   \u001b[39mreturn\u001b[39;00m wrapper\n",
      "File \u001b[0;32m~/miniconda3/lib/python3.10/site-packages/jax/interpreters/pxla.py:2136\u001b[0m, in \u001b[0;36mExecuteReplicated.__call__\u001b[0;34m(self, *args)\u001b[0m\n\u001b[1;32m   2134\u001b[0m   out_bufs \u001b[39m=\u001b[39m \u001b[39mself\u001b[39m\u001b[39m.\u001b[39m_call_with_tokens(input_bufs)\n\u001b[1;32m   2135\u001b[0m \u001b[39melse\u001b[39;00m:\n\u001b[0;32m-> 2136\u001b[0m   out_bufs \u001b[39m=\u001b[39m \u001b[39mself\u001b[39;49m\u001b[39m.\u001b[39;49mxla_executable\u001b[39m.\u001b[39;49mexecute_sharded_on_local_devices(\n\u001b[1;32m   2137\u001b[0m       input_bufs)\n\u001b[1;32m   2138\u001b[0m \u001b[39mif\u001b[39;00m dispatch\u001b[39m.\u001b[39mneeds_check_special():\n\u001b[1;32m   2139\u001b[0m   \u001b[39mfor\u001b[39;00m bufs \u001b[39min\u001b[39;00m out_bufs:\n",
      "\u001b[0;31mKeyboardInterrupt\u001b[0m: "
     ]
    }
   ],
   "source": [
    "# Split data into 80/20 training and testing sets:\n",
    "itrain, itest, ltrain, ltest = train_test_split(images, labels, test_size=0.2,\n",
    "                                                random_state=0)\n",
    "\n",
    "# Set approximation parameters:\n",
    "h = 1e-1 # Step-size. \n",
    "K = 10  # Number of steps.\n",
    "N = 10  # Number of particles.\n",
    "\n",
    "alpha = jnp.array(0.0)\n",
    "beta = jnp.array(0.0)\n",
    "theta = jnp.array([alpha, beta])\n",
    "key = jr.PRNGKey(42)\n",
    "\n",
    "\n",
    "# Initialize particle cloud by sampling prior:'\n",
    "w_flat = jnp.exp(alpha) * jr.normal(key, (N, 40 * 28**2))  # Input layer weights.\n",
    "v_flat = jnp.exp(beta) * jr.normal(key, (N, 2*40))  # Output layer weights.\n",
    "\n",
    "latent = jnp.concatenate((w_flat, v_flat), axis=1)\n",
    "\n",
    "\n",
    "from coinem.zoo import coin_svgd\n",
    "\n",
    "\n",
    "model = BayesNN(itrain, ltrain)\n",
    "x_coin, theta_coin = coin_svgd(model, latent, theta, K, alpha=100)"
   ]
  },
  {
   "cell_type": "code",
   "execution_count": 126,
   "metadata": {},
   "outputs": [],
   "source": [
    "from coinem.zoo import pgd\n",
    "model = BayesNN(itrain, ltrain)\n",
    "x_pgd, theta_pgd = pgd(model, latent, theta, 25, step_size=1e-4)"
   ]
  },
  {
   "cell_type": "code",
   "execution_count": 128,
   "metadata": {},
   "outputs": [
    {
     "data": {
      "text/plain": [
       "Array([[ 0.0000000e+00,  0.0000000e+00],\n",
       "       [-4.3047224e-03,  2.9330811e-05],\n",
       "       [ 1.0019090e-01, -4.6332563e-05],\n",
       "       [-1.9738113e+00, -2.1462904e-04],\n",
       "       [ 1.6817635e+04, -4.5987670e-04],\n",
       "       [           nan, -7.7647978e-04],\n",
       "       [           nan, -1.1532716e-03],\n",
       "       [           nan, -1.5947493e-03],\n",
       "       [           nan,            nan],\n",
       "       [           nan,            nan],\n",
       "       [           nan,            nan],\n",
       "       [           nan,            nan],\n",
       "       [           nan,            nan],\n",
       "       [           nan,            nan],\n",
       "       [           nan,            nan],\n",
       "       [           nan,            nan],\n",
       "       [           nan,            nan],\n",
       "       [           nan,            nan],\n",
       "       [           nan,            nan],\n",
       "       [           nan,            nan],\n",
       "       [           nan,            nan],\n",
       "       [           nan,            nan],\n",
       "       [           nan,            nan],\n",
       "       [           nan,            nan],\n",
       "       [           nan,            nan]], dtype=float32)"
      ]
     },
     "execution_count": 128,
     "metadata": {},
     "output_type": "execute_result"
    }
   ],
   "source": [
    "theta_pgd"
   ]
  },
  {
   "cell_type": "code",
   "execution_count": 112,
   "metadata": {},
   "outputs": [
    {
     "data": {
      "text/plain": [
       "[<matplotlib.lines.Line2D at 0x31e4350c0>]"
      ]
     },
     "execution_count": 112,
     "metadata": {},
     "output_type": "execute_result"
    },
    {
     "data": {
      "image/png": "[encoded data removed]",
      "text/plain": [
       "<Figure size 640x480 with 1 Axes>"
      ]
     },
     "metadata": {},
     "output_type": "display_data"
    }
   ],
   "source": [
    "# plt.plot(theta_coin[:, 0])\n",
    "plt.plot(theta_pgd[:, 1])\n",
    "# plt.plot(theta_coin[:, 1])\n",
    "# plt.plot(theta_pgd[:, 1])"
   ]
  },
  {
   "attachments": {},
   "cell_type": "markdown",
   "metadata": {
    "id": "8C0t3KlRxNON"
   },
   "source": [
    "As a sanity check, we plot the test error throughout training:"
   ]
  },
  {
   "cell_type": "code",
   "execution_count": null,
   "metadata": {
    "colab": {
     "base_uri": "https://localhost:8080/",
     "height": 283
    },
    "id": "aEbGhK_-xl9R",
    "outputId": "76f980ad-00f0-4a91-c3cf-d2c8ec4317df"
   },
   "outputs": [],
   "source": [
    "plt.plot(error_pgd, label='PGD') \n",
    "plt.plot(error_pqn, label='PQN')\n",
    "plt.plot(error_pmga, label='PMGD')\n",
    "plt.plot(error_soul, label='SOUL')\n",
    "plt.plot(error_coin, label='Coin')\n",
    "plt.xlim([-K/100, K])\n",
    "plt.legend(loc='upper right')"
   ]
  },
  {
   "attachments": {},
   "cell_type": "markdown",
   "metadata": {
    "id": "9ryFlORx3DDW"
   },
   "source": [
    "As expected, the error decreases during training for all four algorithms. PGD, PQN, PMGD achieve noticeably smaller errors:"
   ]
  },
  {
   "cell_type": "code",
   "execution_count": null,
   "metadata": {
    "colab": {
     "base_uri": "https://localhost:8080/",
     "height": 287
    },
    "id": "T-B7NxVV3bYJ",
    "outputId": "ed3ef35e-508a-4f6a-cb13-080e793f8924"
   },
   "outputs": [],
   "source": [
    "plt.plot(error_pgd, label='PGD') \n",
    "plt.plot(error_pqn, label='PQN')\n",
    "plt.plot(error_pmga, label='PMGD')\n",
    "plt.plot(error_soul, label='SOUL')\n",
    "plt.plot(error_coin, label='Coin')\n",
    "plt.ylim([0, 0.1])\n",
    "plt.xlim([-K/100, K])"
   ]
  },
  {
   "attachments": {},
   "cell_type": "markdown",
   "metadata": {
    "id": "PAMr6QD-ttmT"
   },
   "source": [
    "## Figure 4a"
   ]
  },
  {
   "attachments": {},
   "cell_type": "markdown",
   "metadata": {
    "id": "IbsyJhPv34Sw"
   },
   "source": [
    "The parameter estimates seem to converge to various local optima:"
   ]
  },
  {
   "cell_type": "code",
   "execution_count": null,
   "metadata": {
    "colab": {
     "base_uri": "https://localhost:8080/",
     "height": 281
    },
    "id": "0XNxrSsG4APV",
    "outputId": "e557489d-4d74-492a-9385-5f62ba7403bb"
   },
   "outputs": [
    {
     "data": {
      "image/png": "[encoded data removed]",
      "text/plain": [
       "<Figure size 432x288 with 2 Axes>"
      ]
     },
     "metadata": {
      "needs_background": "light"
     },
     "output_type": "display_data"
    }
   ],
   "source": [
    "plt.subplot(2, 1, 1)\n",
    "plt.plot(a_pgd, label='PGD') \n",
    "plt.plot(a_pqn, label='PQN')\n",
    "plt.plot(a_pmga, label='PMGD')\n",
    "plt.plot(a_soul, label='SOUL')\n",
    "plt.title('Alpha estimates as a function of k')\n",
    "plt.xlim([-K/100, K])\n",
    "plt.legend(loc='lower right', ncol=4)\n",
    "\n",
    "plt.subplot(2, 1, 2)\n",
    "plt.plot(b_pgd, label='PGD') \n",
    "plt.plot(b_pqn, label='PQN')\n",
    "plt.plot(b_pmga, label='PMGD')\n",
    "plt.plot(b_soul, label='SOUL')\n",
    "plt.title('Beta estimates as a function of k')\n",
    "plt.xlim([-K/100, K])\n",
    "\n",
    "plt.subplots_adjust(hspace=0.5)"
   ]
  },
  {
   "attachments": {},
   "cell_type": "markdown",
   "metadata": {
    "id": "KaMMf_Yu2TmH"
   },
   "source": [
    "## Figure 4b"
   ]
  },
  {
   "attachments": {},
   "cell_type": "markdown",
   "metadata": {
    "id": "iQLpNpkC4YGi"
   },
   "source": [
    "The posterior approximations produced by SOUL are more peaked than those produced by PGD, PQN, and PMGD:"
   ]
  },
  {
   "cell_type": "code",
   "execution_count": null,
   "metadata": {
    "colab": {
     "base_uri": "https://localhost:8080/",
     "height": 283
    },
    "id": "B502rUyo4kaU",
    "outputId": "9cf5e035-a6e5-44c9-ded3-9d9df9772476"
   },
   "outputs": [
    {
     "data": {
      "text/plain": [
       "<matplotlib.legend.Legend at 0x7fe9800d84f0>"
      ]
     },
     "execution_count": 8,
     "metadata": {},
     "output_type": "execute_result"
    },
    {
     "data": {
      "image/png": "[encoded data removed]",
      "text/plain": [
       "<Figure size 432x288 with 1 Axes>"
      ]
     },
     "metadata": {
      "needs_background": "light"
     },
     "output_type": "display_data"
    }
   ],
   "source": [
    "# Choose a random weight for the input layer:\n",
    "oi = np.random.randint(0, w0[:, 0, 0].size)  # Output index.\n",
    "ii = np.random.randint(0, w0[0, :, 0].size)  # Input index.\n",
    "\n",
    "# Generate KDEs:\n",
    "from scipy import stats\n",
    "\n",
    "kde_min = np.min([w_pgd[oi, ii, :], w_pqn[oi, ii, :], \n",
    "              w_pmga[oi, ii, :], w_soul[oi, ii, :]])\n",
    "kde_max = np.max([w_pgd[oi, ii, :], w_pqn[oi, ii, :],\n",
    "              w_pmga[oi, ii, :], w_soul[oi, ii, :]])\n",
    "xaxis = np.linspace(kde_min, kde_max, num=100)\n",
    "\n",
    "kde_pgd = stats.gaussian_kde(w_pgd[oi, ii, :])(xaxis)\n",
    "kde_pqn = stats.gaussian_kde(w_pqn[oi, ii, :])(xaxis)\n",
    "kde_pmga = stats.gaussian_kde(w_pmga[oi, ii, :])(xaxis)\n",
    "kde_soul = stats.gaussian_kde(w_soul[oi, ii, :])(xaxis)\n",
    "\n",
    "# Plot KDEs:\n",
    "plt.plot(xaxis, kde_pgd, label='PGD')\n",
    "plt.plot(xaxis, kde_pqn, label='PQN')\n",
    "plt.plot(xaxis, kde_pmga, label='PMGD')\n",
    "plt.plot(xaxis, kde_soul, label='SOUL')\n",
    "plt.ylim([0, 1.02*kde_soul.max()])\n",
    "plt.xlim([kde_min, kde_max])\n",
    "plt.legend(loc='upper left')"
   ]
  },
  {
   "attachments": {},
   "cell_type": "markdown",
   "metadata": {
    "id": "yJr5lfAX2U5U"
   },
   "source": [
    "## Figure 4c"
   ]
  },
  {
   "attachments": {},
   "cell_type": "markdown",
   "metadata": {
    "id": "cXLv7osg9pSm"
   },
   "source": [
    "This is likely the reason why PGD, PQN, and PMGD achieve lower errors than SOUL. We observe the same sort of behaviour if we plot log pointwise predictive densities rather than test errors:"
   ]
  },
  {
   "cell_type": "code",
   "execution_count": null,
   "metadata": {
    "colab": {
     "base_uri": "https://localhost:8080/",
     "height": 281
    },
    "id": "0asBF5qxAcmH",
    "outputId": "d6828e3b-683b-43c2-ee68-b3b6084ff593"
   },
   "outputs": [
    {
     "data": {
      "image/png": "[encoded data removed]",
      "text/plain": [
       "<Figure size 432x288 with 2 Axes>"
      ]
     },
     "metadata": {
      "needs_background": "light"
     },
     "output_type": "display_data"
    }
   ],
   "source": [
    "plt.subplot(2, 1, 1)\n",
    "plt.plot(lppd_pgd, label='PGD') \n",
    "plt.plot(lppd_pqn, label='PQN')\n",
    "plt.plot(lppd_pmga, label='PMGD')\n",
    "plt.plot(lppd_soul, label='SOUL')\n",
    "plt.title('LPPD as a function of k')\n",
    "plt.xlim([-K/100, K])\n",
    "plt.legend(loc='lower right', ncol=4)\n",
    "\n",
    "plt.subplot(2, 1, 2)\n",
    "plt.plot(lppd_pgd, label='PGD') \n",
    "plt.plot(lppd_pqn, label='PQN')\n",
    "plt.plot(lppd_pmga, label='PMGD')\n",
    "plt.plot(lppd_soul, label='SOUL')\n",
    "plt.title('LPPD as a function of k (zoomed-in)')\n",
    "plt.ylim([-0.16, -0.08])\n",
    "plt.xlim([-K/100, K])\n",
    "\n",
    "plt.subplots_adjust(hspace=0.5)"
   ]
  },
  {
   "attachments": {},
   "cell_type": "markdown",
   "metadata": {
    "id": "T62bmxVZ2V6q"
   },
   "source": [
    "# Table 2"
   ]
  },
  {
   "attachments": {},
   "cell_type": "markdown",
   "metadata": {
    "id": "C_STypNJCd0P"
   },
   "source": [
    "We benchmark the predictive performances and computation times of the algorithms by running them several times. To this end, we remove the per-time-step performance metric calculations from the algorithms: "
   ]
  },
  {
   "cell_type": "code",
   "execution_count": null,
   "metadata": {
    "cellView": "form",
    "id": "lc_eAPooDKdO"
   },
   "outputs": [],
   "source": [
    "#@title Algorithms without LPPD and test error computations.\n",
    "\n",
    "def pgd(ltrain, itrain, h, K, a, b, w, v):\n",
    "    # Extract dimensions of latent variables:\n",
    "    Dw = w[:, :, 0].size  # Dimension of w.\n",
    "    Dv = v[:, :, 0].size  # Dimension of v.\n",
    "\n",
    "    for k in range(K):\n",
    "        # Temporarily store current particle cloud:\n",
    "        wk = w  # w components.\n",
    "        vk = v  # v components.\n",
    "\n",
    "        # Update parameter estimates (note that we are using the heuristic \n",
    "        # discussed in Section 2 of the paper; i.e., dividing the alpha-gradient\n",
    "        # by Dw and the beta-gradient by Dv):'''\n",
    "        a = np.append(a, a[k] + h*ave_grad_param(wk, a[k])/Dw)  # Alpha.\n",
    "        b = np.append(b, b[k] + h*ave_grad_param(vk, b[k])/Dv)  # Beta.\n",
    "\n",
    "        # Update particle cloud:\n",
    "        w = (w + h*wgrad(wk, vk, a[k], b[k], itrain, ltrain) + jnp.sqrt(2*h) * np.random.normal(0, 1, w.shape)) \n",
    "        v = (v + h*vgrad(wk, vk, a[k], b[k], itrain, ltrain) + jnp.sqrt(2*h) * np.random.normal(0, 1, v.shape))\n",
    "\n",
    "    return a, b, w, v\n",
    "\n",
    "\n",
    "def pqn(ltrain, itrain, h, K, a, b, w, v):\n",
    "\n",
    "    for k in range(K):\n",
    "        # Temporarily store current particle cloud:\n",
    "        wk = w  # w components.\n",
    "        vk = v  # v components.\n",
    "\n",
    "        # Update parameter estimates:\n",
    "        a = np.append(a, a[k] + h*ave_grad_param(wk, a[k])\n",
    "                                  /ave_neg_hess_param(wk, a[k]))  # Alpha.\n",
    "        b = np.append(b, b[k] + h*ave_grad_param(vk, b[k])\n",
    "                                  /ave_neg_hess_param(vk, b[k]))  # Beta.\n",
    "        \n",
    "        # Update particle cloud:\n",
    "        w = (w + h*wgrad(wk, vk, a[k], b[k], itrain, ltrain)\n",
    "               + jnp.sqrt(2*h) * np.random.normal(0, 1, w.shape)) \n",
    "        v = (v + h*vgrad(wk, vk, a[k], b[k], itrain, ltrain)\n",
    "               + jnp.sqrt(2*h) * np.random.normal(0, 1, v.shape))\n",
    "\n",
    "    return a, b, w, v\n",
    "\n",
    "\n",
    "def pmga(ltrain, itrain, h, K, w, v):\n",
    "    # Compute initial parameter estimates:\n",
    "    a = np.array([optimal_param(w)])  # Alpha estimates.\n",
    "    b = np.array([optimal_param(v)])  # Beta estimates.\n",
    "\n",
    "    for k in range(K):\n",
    "        # Temporarily store current particle cloud:\n",
    "        wk = w  # w components.\n",
    "        vk = v  # v components.\n",
    "        \n",
    "        # Update particle cloud:\n",
    "        w = (w + h*wgrad(wk, vk, a[k], b[k], itrain, ltrain)\n",
    "               + jnp.sqrt(2*h) * np.random.normal(0, 1, w.shape)) \n",
    "        v = (v + h*vgrad(wk, vk, a[k], b[k], itrain, ltrain)\n",
    "               + jnp.sqrt(2*h) * np.random.normal(0, 1, v.shape))\n",
    "\n",
    "        # Update parameter estimates:\n",
    "        a = np.append(a, optimal_param(w))  # Alpha.\n",
    "        b = np.append(b, optimal_param(v))  # Beta.\n",
    "\n",
    "    return a, b, w, v\n",
    "\n",
    "\n",
    "def soul(ltrain, itrain, h, K, a, b, w, v):\n",
    "    # Extract dimensions of latent variables:\n",
    "    Dw = w[:, :, 0].size  # Dimension of w.\n",
    "    Dv = v[:, :, 0].size  # Dimension of v.\n",
    "\n",
    "    for k in range(K):\n",
    "        # Initliaze new ULA chain at final state of previous ULA chain:\n",
    "        wkn = w[:, :, -1].reshape((w[:, 0, 0].size, w[0, :, 0].size, 1))\n",
    "        vkn = v[:, :, -1].reshape((v[:, 0, 0].size, v[0, :, 0].size, 1))\n",
    "\n",
    "        # Run ULA chain:\n",
    "        for n in range(w[0, 0, :].size):\n",
    "            # Take a step:\n",
    "            wkn = (wkn + h*wgrad(wkn, vkn, a[k], b[k], itrain, ltrain)\n",
    "                       + jnp.sqrt(2*h) * np.random.normal(0, 1, wkn.shape))\n",
    "            vkn = (vkn + h*vgrad(wkn, vkn, a[k], b[k], itrain, ltrain)\n",
    "                       + jnp.sqrt(2*h) * np.random.normal(0, 1, vkn.shape))\n",
    "            \n",
    "            # Store state:\n",
    "            w[:, :, n] = wkn.reshape(w[:, :, 0].shape)\n",
    "            v[:, :, n] = vkn.reshape(v[:, :, 0].shape)\n",
    "\n",
    "        # Update parameter estimates (note that we are using the heuristic \n",
    "        # discussed in Section 2 of the paper; i.e., dividing the \n",
    "        # alpha-gradient by Dw and the beta-gradient by Dv):\n",
    "        a = np.append(a, a[k] + h*ave_grad_param(w, a[k])/Dw)  # Alpha.\n",
    "        b = np.append(b, b[k] + h*ave_grad_param(v, b[k])/Dv)  # Beta.\n",
    "\n",
    "    return a, b, w, v"
   ]
  },
  {
   "attachments": {},
   "cell_type": "markdown",
   "metadata": {
    "id": "NHf8uU4FUMhr"
   },
   "source": [
    "## Predictive performance"
   ]
  },
  {
   "attachments": {},
   "cell_type": "markdown",
   "metadata": {
    "id": "evxgxACjMhfc"
   },
   "source": [
    "We start with the performances:"
   ]
  },
  {
   "cell_type": "code",
   "execution_count": null,
   "metadata": {
    "colab": {
     "base_uri": "https://localhost:8080/"
    },
    "id": "nO6q_z88Mlyh",
    "outputId": "35e99d26-0f3f-46b2-caa0-e5c4f59d5be5"
   },
   "outputs": [
    {
     "name": "stdout",
     "output_type": "stream",
     "text": [
      "Run 0 out of 10.\n"
     ]
    },
    {
     "ename": "NameError",
     "evalue": "name 'a0' is not defined",
     "output_type": "error",
     "traceback": [
      "\u001b[0;31m---------------------------------------------------------------------------\u001b[0m",
      "\u001b[0;31mNameError\u001b[0m                                 Traceback (most recent call last)",
      "Cell \u001b[0;32mIn [10], line 19\u001b[0m\n\u001b[1;32m     16\u001b[0m \u001b[38;5;28mprint\u001b[39m(\u001b[38;5;124m'\u001b[39m\u001b[38;5;124mRun \u001b[39m\u001b[38;5;124m'\u001b[39m \u001b[38;5;241m+\u001b[39m \u001b[38;5;28mstr\u001b[39m(m) \u001b[38;5;241m+\u001b[39m \u001b[38;5;124m'\u001b[39m\u001b[38;5;124m out of \u001b[39m\u001b[38;5;124m'\u001b[39m \u001b[38;5;241m+\u001b[39m \u001b[38;5;28mstr\u001b[39m(M) \u001b[38;5;241m+\u001b[39m \u001b[38;5;124m'\u001b[39m\u001b[38;5;124m.\u001b[39m\u001b[38;5;124m'\u001b[39m)\n\u001b[1;32m     18\u001b[0m \u001b[38;5;66;03m# Randomize the initialization of the particle cloud:\u001b[39;00m\n\u001b[0;32m---> 19\u001b[0m w0 \u001b[38;5;241m=\u001b[39m np\u001b[38;5;241m.\u001b[39mexp(\u001b[43ma0\u001b[49m)\u001b[38;5;241m*\u001b[39mnp\u001b[38;5;241m.\u001b[39mrandom\u001b[38;5;241m.\u001b[39mnormal(\u001b[38;5;241m0\u001b[39m, \u001b[38;5;241m1\u001b[39m, (\u001b[38;5;241m40\u001b[39m, \u001b[38;5;241m28\u001b[39m\u001b[38;5;241m*\u001b[39m\u001b[38;5;241m*\u001b[39m\u001b[38;5;241m2\u001b[39m, N))  \u001b[38;5;66;03m# w-components.\u001b[39;00m\n\u001b[1;32m     20\u001b[0m v0 \u001b[38;5;241m=\u001b[39m np\u001b[38;5;241m.\u001b[39mexp(b0)\u001b[38;5;241m*\u001b[39mnp\u001b[38;5;241m.\u001b[39mrandom\u001b[38;5;241m.\u001b[39mnormal(\u001b[38;5;241m0\u001b[39m, \u001b[38;5;241m1\u001b[39m, (\u001b[38;5;241m2\u001b[39m, \u001b[38;5;241m40\u001b[39m, N))  \u001b[38;5;66;03m# v-components.\u001b[39;00m\n\u001b[1;32m     22\u001b[0m \u001b[38;5;66;03m# Randomize the 80/20 testing/training split of the data:\u001b[39;00m\n",
      "\u001b[0;31mNameError\u001b[0m: name 'a0' is not defined"
     ]
    }
   ],
   "source": [
    "M = 10 # Number of runs.\n",
    "N = 100 # Number of particles.\n",
    "\n",
    "# Initialize arrays storing the LPPDs and test errors:\n",
    "lppd_pgd = np.zeros((M))\n",
    "lppd_pqn = np.zeros((M))\n",
    "lppd_pmga = np.zeros((M))\n",
    "lppd_soul = np.zeros((M))\n",
    "\n",
    "error_pgd = np.zeros((M))\n",
    "error_pqn = np.zeros((M))\n",
    "error_pmga = np.zeros((M))\n",
    "error_soul = np.zeros((M))\n",
    "\n",
    "for m in range(M):\n",
    "    print('Run ' + str(m) + ' out of ' + str(M) + '.')\n",
    "    \n",
    "    # Randomize the initialization of the particle cloud:\n",
    "    w0 = np.exp(a0)*np.random.normal(0, 1, (40, 28**2, N))  # w-components.\n",
    "    v0 = np.exp(b0)*np.random.normal(0, 1, (2, 40, N))  # v-components.\n",
    "    \n",
    "    # Randomize the 80/20 testing/training split of the data:\n",
    "    itrain, itest, ltrain, ltest = train_test_split(images, labels, \n",
    "                                                    test_size=0.2,\n",
    "                                                    random_state=m)\n",
    "\n",
    "    # Run the algorithms:\n",
    "    _, _, w_pgd, v_pgd = pgd(ltrain, itrain, h, K, a0, b0, w0, v0)\n",
    "    _, _, w_pqn, v_pqn = pqn(ltrain, itrain, h, K, a0, b0, w0, v0)\n",
    "    _, _, w_pmga, v_pmga = pmga(ltrain, itrain, h, K, w0, v0)\n",
    "    _, _, w_soul, v_soul = soul(ltrain, itrain, h, K, a0, b0, w0, v0)\n",
    "\n",
    "    # Compute LPPDs:\n",
    "    lppd_pgd[m] = log_pointwise_predrictive_density(w_pgd, v_pgd, itest, ltest)\n",
    "    lppd_pqn[m] = log_pointwise_predrictive_density(w_pqn, v_pqn, itest, ltest)\n",
    "    lppd_pmga[m] = log_pointwise_predrictive_density(w_pmga, v_pmga, itest, ltest)\n",
    "    lppd_soul[m] = log_pointwise_predrictive_density(w_soul, v_soul, itest, ltest)\n",
    "\n",
    "    # Compute test errors:\n",
    "    error_pgd[m] = test_error(w_pgd, v_pgd, itest, ltest)\n",
    "    error_pqn[m] = test_error(w_pqn, v_pqn, itest, ltest)\n",
    "    error_pmga[m] = test_error(w_pmga, v_pmga, itest, ltest)\n",
    "    error_soul[m] = test_error(w_soul, v_soul, itest, ltest)\n",
    "\n",
    "# Print statistics (mean +- standard deviation):\n",
    "print('LPPDs:')\n",
    "print('PGD: '+str(lppd_pgd.mean())+' \\u00B1 '+str(lppd_pgd.std())+'.')\n",
    "print('PQN: '+str(lppd_pqn.mean())+' \\u00B1 '+str(lppd_pqn.std())+'.')\n",
    "print('PMGD: '+str(lppd_pmga.mean())+' \\u00B1 '+str(lppd_pmga.std())+'.')\n",
    "print('SOUL: '+str(lppd_soul.mean())+' \\u00B1 '+str(lppd_soul.std())+'.')\n",
    "\n",
    "print('Test errors:')\n",
    "print('PGD: '+str(error_pgd.mean())+' \\u00B1 '+str(error_pgd.std())+'.')\n",
    "print('PQN: '+str(error_pqn.mean())+' \\u00B1 '+str(error_pqn.std())+'.')\n",
    "print('PMGD: '+str(error_pmga.mean())+' \\u00B1 '+str(error_pmga.std())+'.')\n",
    "print('SOUL: '+str(error_soul.mean())+' \\u00B1 '+str(error_soul.std())+'.')"
   ]
  },
  {
   "attachments": {},
   "cell_type": "markdown",
   "metadata": {
    "id": "hb2K-quMUSHt"
   },
   "source": [
    "## Runtime"
   ]
  },
  {
   "attachments": {},
   "cell_type": "markdown",
   "metadata": {
    "id": "a9qax-8sEifB"
   },
   "source": [
    "Lastly, we obtain runtime statistics using IPython's timeit magic (note that Colab can be set to run on a CPU, GPU, or TPU by selecting Runtime --> Change runtime type --> Hardware accelerator):"
   ]
  },
  {
   "cell_type": "code",
   "execution_count": null,
   "metadata": {
    "id": "t9OEhxkTYZhD",
    "outputId": "cefe4668-8ca0-4621-9052-3087c9d02209"
   },
   "outputs": [
    {
     "name": "stdout",
     "output_type": "stream",
     "text": [
      "Runtimes:\n",
      "PGD: 74.76778770000018 ± 1.412497029258898.\n",
      "PQN: 77.87597586999982 ± 0.9440582033750415.\n",
      "PMGD: 76.48166515999984 ± 0.876956851171763.\n",
      "SOUL: 185.37313661000007 ± 5.5230289929147105.\n"
     ]
    }
   ],
   "source": [
    "from timeit import repeat\n",
    "\n",
    "# Time the algorithms:\n",
    "t_pgd = np.array(repeat(stmt='pgd(ltrain, itrain, h, K, a0, b0, w0, v0)',\n",
    "                       number=1, repeat=M, globals=globals()))\n",
    "t_pqn = np.array(repeat(stmt='pqn(ltrain, itrain, h, K, a0, b0, w0, v0)',\n",
    "                       number=1, repeat=M, globals=globals()))\n",
    "t_pmga = np.array(repeat(stmt='pmga(ltrain, itrain, h, K, w0, v0)',\n",
    "                        number=1, repeat=M, globals=globals()))\n",
    "t_soul = np.array(repeat(stmt='soul(ltrain, itrain, h, K, a0, b0, w0, v0)',\n",
    "                        number=1, repeat=M, globals=globals()))\n",
    "\n",
    "# Print statistics (mean +- standard deviation):\n",
    "print('Runtimes:')\n",
    "print('PGD: '+str(t_pgd.mean())+' \\u00B1 '+str(t_pgd.std())+'.')\n",
    "print('PQN: '+str(t_pqn.mean())+' \\u00B1 '+str(t_pqn.std())+'.')\n",
    "print('PMGD: '+str(t_pmga.mean())+' \\u00B1 '+str(t_pmga.std())+'.')\n",
    "print('SOUL: '+str(t_soul.mean())+' \\u00B1 '+str(t_soul.std())+'.')"
   ]
  }
 ],
 "metadata": {
  "accelerator": "GPU",
  "colab": {
   "collapsed_sections": [
    "PAMr6QD-ttmT",
    "KaMMf_Yu2TmH",
    "yJr5lfAX2U5U",
    "T62bmxVZ2V6q"
   ],
   "include_colab_link": true,
   "name": "Bayesian Neural Network.ipynb",
   "provenance": []
  },
  "kernelspec": {
   "display_name": "Python 3 (ipykernel)",
   "language": "python",
   "name": "python3"
  },
  "language_info": {
   "codemirror_mode": {
    "name": "ipython",
    "version": 3
   },
   "file_extension": ".py",
   "mimetype": "text/x-python",
   "name": "python",
   "nbconvert_exporter": "python",
   "pygments_lexer": "ipython3",
   "version": "3.10.9"
  }
 },
 "nbformat": 4,
 "nbformat_minor": 1
}
