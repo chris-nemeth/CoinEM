{
 "cells": [
  {
   "attachments": {},
   "cell_type": "markdown",
   "metadata": {
    "id": "XotQU1Ootpi6",
    "vscode": {
     "languageId": "plaintext"
    }
   },
   "source": [
    "# Bayesian logistic regression:"
   ]
  },
  {
   "cell_type": "code",
   "execution_count": 1,
   "metadata": {},
   "outputs": [
    {
     "name": "stderr",
     "output_type": "stream",
     "text": [
      "/Users/danieldodd/miniconda3/lib/python3.10/site-packages/flax/core/frozen_dict.py:169: FutureWarning: jax.tree_util.register_keypaths is deprecated, and will be removed in a future release. Please use `register_pytree_with_keys()` instead.\n",
      "  jax.tree_util.register_keypaths(\n"
     ]
    }
   ],
   "source": [
    "import jax.numpy as jnp\n",
    "from jaxtyping import Array, Float\n",
    "from dataclasses import dataclass\n",
    "\n",
    "import jax.numpy as jnp\n",
    "import jax.random as jr\n",
    "import matplotlib.pyplot as plt\n",
    "\n",
    "from coinem.model import AbstractModel"
   ]
  },
  {
   "cell_type": "code",
   "execution_count": 2,
   "metadata": {},
   "outputs": [],
   "source": [
    "from sklearn.datasets import fetch_covtype\n",
    "from coinem.dataset import Dataset\n",
    "\n",
    "# Load in the Covertype dataset\n",
    "data = fetch_covtype()\n",
    "\n",
    "# Get the features and target variable\n",
    "X =  jnp.array(data.data)\n",
    "y =  jnp.array(data.target == 2).astype(float)\n",
    "D = Dataset(X, y)"
   ]
  },
  {
   "cell_type": "code",
   "execution_count": 4,
   "metadata": {},
   "outputs": [],
   "source": [
    "import tensorflow_probability.substrates.jax.distributions as tfd\n",
    "\n",
    "@dataclass\n",
    "class LogisticRegression(AbstractModel):\n",
    "    \"\"\"Base class for p(θ, x).\"\"\"\n",
    "    \n",
    "    def log_prob(self, latent: Float[Array, \"D 1\"], theta: Float[Array, \"Q\"], data: Dataset) -> Float[Array, \"\"]:\n",
    "        \"\"\"Compute gradient of the objective function at x.\n",
    "\n",
    "        Args:\n",
    "            latent (Float[Array, \"D\"]): Input weights of shape (D,).\n",
    "            theta (Float[Array, \"Q\"]): Parameters of shape (Q,).\n",
    "\n",
    "        Returns:\n",
    "            Float[Array, \"\"]: log-probability of the data.\n",
    "        \"\"\"\n",
    "        alpha = jnp.exp(latent[0])\n",
    "        beta = latent[1:]\n",
    "\n",
    "\n",
    "        # likelihood\n",
    "        z = jnp.matmul(data.X, beta)\n",
    "        log_lik = tfd.Bernoulli(logits=z).log_prob(data.y.squeeze()).sum()\n",
    "        \n",
    "\n",
    "        # Compute linear predictor.\n",
    "        z = jnp.matmul(data.X, beta)\n",
    "\n",
    "        # Prior\n",
    "        log_prior = tfd.Normal(loc=0.0, scale=1.0/jnp.sqrt(alpha)).log_prob(beta).sum().squeeze()\n",
    "        log_prior_alpha = tfd.Gamma(concentration=jnp.exp(theta[0]), rate=jnp.exp(theta[1])).log_prob(alpha).sum().squeeze()\n",
    "\n",
    "\n",
    "        # Compute log-probability.\n",
    "        return log_lik + log_prior + log_prior_alpha"
   ]
  },
  {
   "cell_type": "code",
   "execution_count": 10,
   "metadata": {
    "id": "5WG-_AlQR_S_"
   },
   "outputs": [
    {
     "data": {
      "text/plain": [
       "[<matplotlib.lines.Line2D at 0x2ea5b7850>]"
      ]
     },
     "execution_count": 10,
     "metadata": {},
     "output_type": "execute_result"
    },
    {
     "data": {
      "image/png": "[encoded data removed]",
      "text/plain": [
       "<Figure size 640x480 with 1 Axes>"
      ]
     },
     "metadata": {},
     "output_type": "display_data"
    }
   ],
   "source": [
    "likelihood = LogisticRegression()\n",
    "\n",
    "\n",
    "# Set approximation parameters:\n",
    "K = 10000  # Number of steps.\n",
    "N = 20  # Number of particles.\n",
    "\n",
    "# Initialize parameter estimates and particle cloud, all at zero:\n",
    "import jax.random as jr\n",
    "key = jr.PRNGKey(123)\n",
    "\n",
    "th0 = jnp.log(jnp.array([1.0, 1e-3]))  # Parameter estimate.\n",
    "X0 = jr.normal(key, (N, 1 + D.X.shape[-1]))  # Particle cloud.\n",
    "\n",
    "\n",
    "from coinem.zoo import coin_svgd\n",
    "\n",
    "X_coin, th_coin = coin_svgd(likelihood, D, X0, th0, K, batch_size=500)\n",
    "\n",
    "plt.plot(th_coin[:, 0])\n",
    "plt.plot(th_coin[:, 1])"
   ]
  }
 ],
 "metadata": {
  "colab": {
   "include_colab_link": true,
   "provenance": []
  },
  "kernelspec": {
   "display_name": "Python 3 (ipykernel)",
   "language": "python",
   "name": "python3"
  },
  "language_info": {
   "codemirror_mode": {
    "name": "ipython",
    "version": 3
   },
   "file_extension": ".py",
   "mimetype": "text/x-python",
   "name": "python",
   "nbconvert_exporter": "python",
   "pygments_lexer": "ipython3",
   "version": "3.10.9"
  }
 },
 "nbformat": 4,
 "nbformat_minor": 1
}
