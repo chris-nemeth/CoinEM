{
 "cells": [
  {
   "attachments": {},
   "cell_type": "markdown",
   "metadata": {
    "id": "XotQU1Ootpi6",
    "vscode": {
     "languageId": "plaintext"
    }
   },
   "source": [
    "# Bayesian logistic regression:"
   ]
  },
  {
   "cell_type": "code",
   "execution_count": 36,
   "metadata": {},
   "outputs": [],
   "source": [
    "import jax.numpy as jnp\n",
    "from jaxtyping import Array, Float\n",
    "from dataclasses import dataclass\n",
    "\n",
    "import jax.numpy as jnp\n",
    "import jax.random as jr\n",
    "import matplotlib.pyplot as plt\n",
    "\n",
    "from coinem.model import AbstractModel\n",
    "from coinem.dataset import Dataset"
   ]
  },
  {
   "attachments": {},
   "cell_type": "markdown",
   "metadata": {},
   "source": [
    "# Model"
   ]
  },
  {
   "attachments": {},
   "cell_type": "markdown",
   "metadata": {},
   "source": [
    "Consider two variants of the logistic regression model considered by Liu and Wang (2016). One where the parameters of the Gamma distribution on the prior of $\\alpha$ are fixed, and the other where we learn them."
   ]
  },
  {
   "cell_type": "code",
   "execution_count": 37,
   "metadata": {},
   "outputs": [],
   "source": [
    "from jaxtyping import Array, Float, PyTree\n",
    "import tensorflow_probability.substrates.jax.distributions as tfd\n",
    "from jax.scipy import optimize\n",
    "\n",
    "@dataclass\n",
    "class LogisticRegressionLearnTheta(AbstractModel):\n",
    "    \"\"\"Base class for p(θ, x).\"\"\"\n",
    "    num_datapoints: int\n",
    "    \n",
    "    def log_prob(self, latent: Float[Array, \"D 1\"], theta: Float[Array, \"Q\"], batch: Dataset) -> Float[Array, \"\"]:\n",
    "        \"\"\"Compute gradient of the objective function at x.\n",
    "\n",
    "        Args:\n",
    "            latent (Float[Array, \"D\"]): Input weights of shape (D,).\n",
    "            theta (Float[Array, \"Q\"]): Parameters of shape (Q,).\n",
    "\n",
    "        Returns:\n",
    "            Float[Array, \"\"]: log-probability of the data.\n",
    "        \"\"\"\n",
    "        alpha = jnp.exp(latent[\"alpha\"])\n",
    "        beta = latent[\"beta\"]\n",
    "        a0 = jnp.exp(theta[\"a0\"])\n",
    "        b0 = jnp.exp(theta[\"b0\"])\n",
    "\n",
    "\n",
    "        # likelihood\n",
    "        z = jnp.matmul(batch.X, beta)\n",
    "        log_lik = tfd.Bernoulli(logits=z.squeeze()).log_prob(batch.y.squeeze()).sum()\n",
    "        \n",
    "\n",
    "        # Compute linear predictor.\n",
    "        z = jnp.matmul(batch.X, beta)\n",
    "\n",
    "        # Prior\n",
    "        log_prior = tfd.Normal(loc=0.0, scale=1.0/jnp.sqrt(alpha)).log_prob(beta).sum().squeeze()\n",
    "        log_prior_alpha = tfd.Gamma(a0, rate=b0).log_prob(alpha).sum().squeeze()\n",
    "\n",
    "\n",
    "        # Compute log-probability.\n",
    "        return (log_lik * self.num_datapoints / batch.n + log_prior + log_prior_alpha).squeeze()\n",
    "    \n",
    "    def optimal_theta(self, latent_particles: PyTree[Float[Array, \"N D *\"]]) -> PyTree[Float[Array, \"Q *\"]]:\n",
    "        samples = jnp.exp(latent_particles[\"alpha\"])\n",
    "\n",
    "        def gamma_pdf(log_a):\n",
    "            a = jnp.exp(log_a)\n",
    "            b = a/samples.mean()\n",
    "            return -tfd.Gamma(a, b).log_prob(samples).sum()\n",
    "\n",
    "\n",
    "        log_a_estimate, *_ = optimize.minimize(gamma_pdf, jnp.array([1.0]), method='BFGS')\n",
    "        log_b_estimte = log_a_estimate - jnp.log(samples.mean())\n",
    "\n",
    "        return {\"a0\": log_a_estimate.squeeze(), \"b0\": log_b_estimte.squeeze()}\n",
    "    \n",
    "\n",
    "@dataclass\n",
    "class LogisticRegressionFixedTheta(AbstractModel):\n",
    "    \"\"\"Base class for p(θ, x).\"\"\"\n",
    "    num_datapoints: int\n",
    "    \n",
    "    def log_prob(self, latent: Float[Array, \"D 1\"], theta: Float[Array, \"Q\"], batch: Dataset) -> Float[Array, \"\"]:\n",
    "        \"\"\"Compute gradient of the objective function at x.\n",
    "\n",
    "        Args:\n",
    "            latent (Float[Array, \"D\"]): Input weights of shape (D,).\n",
    "            theta (Float[Array, \"Q\"]): Parameters of shape (Q,).\n",
    "\n",
    "        Returns:\n",
    "            Float[Array, \"\"]: log-probability of the data.\n",
    "        \"\"\"\n",
    "        alpha = jnp.exp(latent[\"alpha\"])\n",
    "        beta = latent[\"beta\"]\n",
    "\n",
    "\n",
    "        # likelihood\n",
    "        z = jnp.matmul(batch.X, beta)\n",
    "        log_lik = tfd.Bernoulli(logits=z.squeeze()).log_prob(batch.y.squeeze()).sum()\n",
    "        \n",
    "\n",
    "        # Compute linear predictor.\n",
    "        z = jnp.matmul(batch.X, beta)\n",
    "\n",
    "        # Prior\n",
    "        log_prior = tfd.Normal(loc=0.0, scale=1.0/jnp.sqrt(alpha)).log_prob(beta).sum().squeeze()\n",
    "        log_prior_alpha = tfd.Gamma(concentration=1.0, rate=0.01).log_prob(alpha).sum().squeeze()\n",
    "\n",
    "\n",
    "        # Compute log-probability.\n",
    "        return (log_lik * self.num_datapoints / batch.n  + log_prior + log_prior_alpha).squeeze()\n",
    "    "
   ]
  },
  {
   "attachments": {},
   "cell_type": "markdown",
   "metadata": {},
   "source": [
    "# Train the models on covertype"
   ]
  },
  {
   "cell_type": "code",
   "execution_count": 38,
   "metadata": {},
   "outputs": [],
   "source": [
    "import scipy \n",
    "import numpy as np\n",
    "from sklearn.model_selection import train_test_split\n",
    "\n",
    "data = scipy.io.loadmat('data/covertype.mat')\n",
    "    \n",
    "X_input = data['covtype'][:, 1:]\n",
    "y_input = data['covtype'][:, 0]\n",
    "y_input[y_input == 2] = 0\n",
    "\n",
    "N = X_input.shape[0]\n",
    "X_input = np.hstack([X_input, np.ones([N, 1])])\n",
    "\n",
    "# split the dataset into training and testing\n",
    "X_train, X_test, y_train, y_test = train_test_split(X_input, y_input, test_size=0.2, random_state=42)\n",
    "\n",
    "train_data = Dataset(jnp.array(X_train), jnp.array(y_train).reshape(-1, 1))"
   ]
  },
  {
   "cell_type": "code",
   "execution_count": 39,
   "metadata": {
    "id": "5WG-_AlQR_S_"
   },
   "outputs": [],
   "source": [
    "from coinem.zoo import coin_svgd\n",
    "from coinem.marginal_zoo import marginal_coin_svgd\n",
    "from jax import vmap\n",
    "import jax.random as jr\n",
    "import jax.tree_util as jtu\n",
    "\n",
    "# Set approximation parameters:\n",
    "K = 1000  # Number of steps.\n",
    "N = 100  # number of particles.\n",
    "\n",
    "# 😈 Rough numpy code for initialization\n",
    "np.random.seed(42)\n",
    "dim = X_train.shape[-1]\n",
    "a0 = 1.0\n",
    "b0 = 0.01\n",
    "beta0 = np.zeros([N, dim])\n",
    "alpha0 = np.random.gamma(a0, b0, N).reshape(-1, 1)\n",
    "for i in range(N):\n",
    "    beta0[i, :] = np.random.normal(0, np.sqrt(1 / alpha0[i]), dim)\n",
    "# 😈 \n",
    "\n",
    "# Create initial state:\n",
    "th0 = {\"a0\": jnp.log(a0), \"b0\": jnp.log(b0)}\n",
    "X0 = {\"alpha\": jnp.array(alpha0), \"beta\": jnp.array(beta0)}\n",
    "\n",
    "fixed_theta = LogisticRegressionFixedTheta(train_data.n)\n",
    "learn_theta = LogisticRegressionLearnTheta(train_data.n)\n",
    "\n",
    "\n",
    "# Run SVGD:\n",
    "x_coin_fixed, theta_coin_fixed = coin_svgd(fixed_theta, train_data, X0, th0, K, batch_size=100)\n",
    "x_coin_learn, theta_coin_learn = coin_svgd(learn_theta, train_data, X0, th0, K, batch_size=100)\n",
    "\n",
    "x_coin_learn_marginal, theta_coin_learn_marginal = marginal_coin_svgd(learn_theta, train_data, X0, th0, K, batch_size=100)"
   ]
  },
  {
   "cell_type": "code",
   "execution_count": 40,
   "metadata": {},
   "outputs": [
    {
     "data": {
      "image/png": "[encoded data removed]",
      "text/plain": [
       "<Figure size 640x480 with 1 Axes>"
      ]
     },
     "metadata": {},
     "output_type": "display_data"
    },
    {
     "data": {
      "image/png": "[encoded data removed]",
      "text/plain": [
       "<Figure size 640x480 with 1 Axes>"
      ]
     },
     "metadata": {},
     "output_type": "display_data"
    }
   ],
   "source": [
    "plt.plot(theta_coin_fixed[\"a0\"], label=\"fixed\")\n",
    "plt.plot(theta_coin_learn[\"a0\"], label=\"learn\")\n",
    "plt.plot(theta_coin_learn_marginal[\"a0\"], label=\"learn marginal\")\n",
    "plt.legend()\n",
    "plt.show()\n",
    "\n",
    "plt.plot(theta_coin_fixed[\"b0\"], label=\"fixed\")\n",
    "plt.plot(theta_coin_learn[\"b0\"], label=\"learn\")\n",
    "plt.plot(theta_coin_learn_marginal[\"b0\"], label=\"learn marginal\")\n",
    "plt.legend()\n",
    "plt.show()"
   ]
  },
  {
   "cell_type": "code",
   "execution_count": 41,
   "metadata": {},
   "outputs": [
    {
     "name": "stdout",
     "output_type": "stream",
     "text": [
      "Coin Fixed AUC: 0.8136471156116583\n",
      "Coin Learn AUC: 0.8140640051736924\n",
      "Coin Learn Marginal AUC: 0.8137289199531783\n"
     ]
    }
   ],
   "source": [
    "# Compute AUC:\n",
    "from sklearn.metrics import roc_auc_score\n",
    "\n",
    "def predict_prob(test_inputs, latent):\n",
    "    \"\"\"Returns label maximizing the approximate posterior predictive \n",
    "    distribution defined by the cloud X, vectorized over feature vectors f.\n",
    "    \"\"\"\n",
    "    s = vmap(lambda x: tfd.Bernoulli(logits=jnp.matmul(test_inputs, x)).mean())(latent).mean(0)\n",
    "    return s\n",
    "\n",
    "coin_fixed_auc = roc_auc_score(y_test, predict_prob(X_test, x_coin_fixed[\"beta\"][-1]))\n",
    "coin_learn_auc = roc_auc_score(y_test, predict_prob(X_test, x_coin_learn[\"beta\"][-1]))\n",
    "\n",
    "x_coin_learn_marginal_auc = roc_auc_score(y_test, predict_prob(X_test, x_coin_learn_marginal[\"beta\"][-1]))\n",
    "\n",
    "print(f\"Coin Fixed AUC: {coin_fixed_auc}\")\n",
    "print(f\"Coin Learn AUC: {coin_learn_auc}\")\n",
    "print(f\"Coin Learn Marginal AUC: {x_coin_learn_marginal_auc}\")"
   ]
  }
 ],
 "metadata": {
  "colab": {
   "include_colab_link": true,
   "provenance": []
  },
  "kernelspec": {
   "display_name": "Python 3 (ipykernel)",
   "language": "python",
   "name": "python3"
  },
  "language_info": {
   "codemirror_mode": {
    "name": "ipython",
    "version": 3
   },
   "file_extension": ".py",
   "mimetype": "text/x-python",
   "name": "python",
   "nbconvert_exporter": "python",
   "pygments_lexer": "ipython3",
   "version": "3.10.9"
  }
 },
 "nbformat": 4,
 "nbformat_minor": 1
}
