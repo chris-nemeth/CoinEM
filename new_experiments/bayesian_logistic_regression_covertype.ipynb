{
 "cells": [
  {
   "attachments": {},
   "cell_type": "markdown",
   "metadata": {
    "id": "XotQU1Ootpi6",
    "vscode": {
     "languageId": "plaintext"
    }
   },
   "source": [
    "# Bayesian logistic regression:"
   ]
  },
  {
   "cell_type": "code",
   "execution_count": 90,
   "metadata": {},
   "outputs": [],
   "source": [
    "import jax.numpy as jnp\n",
    "from jaxtyping import Array, Float\n",
    "from dataclasses import dataclass\n",
    "\n",
    "import jax.numpy as jnp\n",
    "import jax.random as jr\n",
    "import matplotlib.pyplot as plt\n",
    "\n",
    "from coinem.model import AbstractModel"
   ]
  },
  {
   "cell_type": "code",
   "execution_count": 91,
   "metadata": {},
   "outputs": [],
   "source": [
    "from sklearn.datasets import fetch_covtype\n",
    "from coinem.dataset import Dataset\n",
    "\n",
    "# Load in the Covertype dataset\n",
    "data = fetch_covtype()\n",
    "\n",
    "# Get the features and target variable\n",
    "X =  jnp.array(data.data)\n",
    "y =  jnp.array(data.target == 2).astype(float)\n",
    "\n",
    "\n",
    "D = Dataset(X, y)"
   ]
  },
  {
   "cell_type": "code",
   "execution_count": 109,
   "metadata": {},
   "outputs": [],
   "source": [
    "import tensorflow_probability.substrates.jax.distributions as tfd\n",
    "\n",
    "@dataclass\n",
    "class LogisticRegression(AbstractModel):\n",
    "    \"\"\"Base class for p(θ, x).\"\"\"\n",
    "    \n",
    "    def log_prob(self, latent: Float[Array, \"D 1\"], theta: Float[Array, \"Q\"], data: Dataset) -> Float[Array, \"\"]:\n",
    "        \"\"\"Compute gradient of the objective function at x.\n",
    "\n",
    "        Args:\n",
    "            latent (Float[Array, \"D\"]): Input weights of shape (D,).\n",
    "            theta (Float[Array, \"Q\"]): Parameters of shape (Q,).\n",
    "\n",
    "        Returns:\n",
    "            Float[Array, \"\"]: log-probability of the data.\n",
    "        \"\"\"\n",
    "        beta = latent\n",
    "\n",
    "\n",
    "        # likelihood\n",
    "        z = jnp.matmul(data.X, beta)\n",
    "        log_lik = tfd.Bernoulli(logits=z).log_prob(data.y.squeeze()).sum()\n",
    "        \n",
    "\n",
    "        # Compute linear predictor.\n",
    "        z = jnp.matmul(data.X, beta)\n",
    "\n",
    "        # Prior\n",
    "        log_prior = tfd.Normal(loc=theta[0], scale=jnp.exp(theta[1])).log_prob(beta.squeeze()).sum().squeeze()\n",
    "\n",
    "\n",
    "        # Compute log-probability.\n",
    "        return (log_lik + log_prior) * 1000 / data.X.shape[0]"
   ]
  },
  {
   "cell_type": "code",
   "execution_count": 190,
   "metadata": {
    "id": "5WG-_AlQR_S_"
   },
   "outputs": [],
   "source": [
    "from coinem.zoo import coin_svgd, pgd\n",
    "from jax import vmap\n",
    "from sklearn.metrics import roc_auc_score\n",
    "\n",
    "likelihood = LogisticRegression()\n",
    "\n",
    "from sklearn.model_selection import train_test_split\n",
    "Xtrain, Xtest, ytrain, ytest = train_test_split(X, y, test_size=0.2, \n",
    "                                                random_state=0)\n",
    "\n",
    "D = Dataset(Xtrain, ytrain)\n",
    "\n",
    "# Initialize parameter estimates and particle cloud, all at zero:\n",
    "import jax.random as jr\n",
    "key = jr.PRNGKey(123)\n",
    "\n",
    "# Set approximation parameters:\n",
    "K = 1000  # Number of steps.\n",
    "N = 1000  # Number of particles.\n",
    "th0 = jnp.array([0.0, 0.0])  # Parameter estimate.\n",
    "X0 = jr.normal(key, (N, D.X.shape[-1]))  # Particle cloud.\n",
    "\n",
    "def predict_prob(test_inputs, latent):\n",
    "    \"\"\"Returns label maximizing the approximate posterior predictive \n",
    "    distribution defined by the cloud X, vectorized over feature vectors f.\n",
    "    \"\"\"\n",
    "    s = vmap(lambda x: tfd.Bernoulli(logits=jnp.matmul(test_inputs, x)).mean())(latent).mean(0)\n",
    "    return s\n",
    "\n",
    "\n",
    "X_coin, th_coin = coin_svgd(likelihood, D, X0, th0, K, batch_size=100)\n",
    "\n",
    "coin_auc = roc_auc_score(ytest, predict_prob(Xtest, X_coin[-1]))\n",
    "\n",
    "pdg_acus = []\n",
    "\n",
    "for h in jnp.logspace(-15, -3, 20):\n",
    "    X_pgd, th_pgd = pgd(likelihood, D, X0, th0, K, batch_size=100, latent_step_size=h, theta_step_size=h)\n",
    "    try:\n",
    "        pdg_auc = roc_auc_score(ytest, predict_prob(Xtest, X_pgd[-1]))\n",
    "    except:\n",
    "        pdg_auc = 0\n",
    "\n",
    "    pdg_acus.append(pdg_auc)"
   ]
  },
  {
   "cell_type": "code",
   "execution_count": 192,
   "metadata": {},
   "outputs": [
    {
     "data": {
      "text/plain": [
       "[<matplotlib.lines.Line2D at 0x392e76800>]"
      ]
     },
     "execution_count": 192,
     "metadata": {},
     "output_type": "execute_result"
    },
    {
     "data": {
      "image/png": "[encoded data removed]",
      "text/plain": [
       "<Figure size 640x480 with 1 Axes>"
      ]
     },
     "metadata": {},
     "output_type": "display_data"
    }
   ],
   "source": [
    "plt.axhline(coin_auc, color='r')\n",
    "plt.plot(pdg_acus)"
   ]
  }
 ],
 "metadata": {
  "colab": {
   "include_colab_link": true,
   "provenance": []
  },
  "kernelspec": {
   "display_name": "Python 3 (ipykernel)",
   "language": "python",
   "name": "python3"
  },
  "language_info": {
   "codemirror_mode": {
    "name": "ipython",
    "version": 3
   },
   "file_extension": ".py",
   "mimetype": "text/x-python",
   "name": "python",
   "nbconvert_exporter": "python",
   "pygments_lexer": "ipython3",
   "version": "3.10.9"
  }
 },
 "nbformat": 4,
 "nbformat_minor": 1
}
