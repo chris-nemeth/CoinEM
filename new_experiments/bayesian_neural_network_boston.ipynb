{
 "cells": [
  {
   "attachments": {},
   "cell_type": "markdown",
   "metadata": {
    "id": "XotQU1Ootpi6"
   },
   "source": [
    "# Bayesian neural network"
   ]
  },
  {
   "attachments": {},
   "cell_type": "markdown",
   "metadata": {
    "id": "ErKddtPzM3_H"
   },
   "source": [
    "First, we load the modules we need:"
   ]
  },
  {
   "cell_type": "code",
   "execution_count": 28,
   "metadata": {
    "cellView": "form",
    "id": "QRkQ4RDsIAGf"
   },
   "outputs": [],
   "source": [
    "import jax.numpy as jnp\n",
    "import jax\n",
    "from jaxtyping import Array, Float\n",
    "from dataclasses import dataclass\n",
    "\n",
    "import jax.numpy as jnp\n",
    "import jax.random as jr\n",
    "import matplotlib.pyplot as plt\n",
    "\n",
    "from coinem.model import AbstractModel\n",
    "from coinem.dataset import Dataset\n",
    "\n",
    "# Pyplot for plots.\n",
    "import matplotlib.pyplot as plt \n",
    "\n",
    "from jax import vmap"
   ]
  },
  {
   "cell_type": "code",
   "execution_count": 29,
   "metadata": {},
   "outputs": [
    {
     "data": {
      "text/plain": [
       "(455, 13)"
      ]
     },
     "execution_count": 29,
     "metadata": {},
     "output_type": "execute_result"
    }
   ],
   "source": [
    "import numpy as np\n",
    "import random\n",
    "\n",
    "np.random.seed(1)\n",
    "''' load data file '''\n",
    "data = np.loadtxt('data/boston_housing')\n",
    "\n",
    "# Please make sure that the last column is the label and the other columns are features\n",
    "X_input = data[ :, range(data.shape[ 1 ] - 1) ]\n",
    "y_input = data[ :, data.shape[ 1 ] - 1 ]\n",
    "\n",
    "''' build the training and testing data set'''\n",
    "train_ratio = 0.9 # We create the train and test sets with 90% and 10% of the data\n",
    "permutation = np.arange(X_input.shape[0])\n",
    "random.shuffle(permutation) \n",
    "\n",
    "size_train = int(np.round(X_input.shape[ 0 ] * train_ratio))\n",
    "index_train = permutation[ 0 : size_train]\n",
    "index_test = permutation[ size_train : ]\n",
    "\n",
    "X_train, y_train = X_input[ index_train, : ], y_input[ index_train ]\n",
    "X_test, y_test = X_input[ index_test, : ], y_input[ index_test ]\n",
    "\n",
    "from sklearn.preprocessing import StandardScaler\n",
    "\n",
    "scaler = StandardScaler()\n",
    "X_train = scaler.fit_transform(X_train)\n",
    "X_test = scaler.transform(X_test)\n",
    "\n",
    "train_data = Dataset(jnp.array(X_train), jnp.array(y_train).reshape(-1, 1))\n",
    "X_train.shape"
   ]
  },
  {
   "attachments": {},
   "cell_type": "markdown",
   "metadata": {
    "vscode": {
     "languageId": "plaintext"
    }
   },
   "source": [
    "## Model\n",
    "\n",
    "Decribe."
   ]
  },
  {
   "cell_type": "code",
   "execution_count": 30,
   "metadata": {},
   "outputs": [],
   "source": [
    "import tensorflow_probability.substrates.jax.distributions as tfd\n",
    "\n",
    "@dataclass\n",
    "class BayesianNeuralNetwork(AbstractModel):\n",
    "    \"\"\"Bayesian Neural Network for regression.\"\"\"\n",
    "    num_datapoints: int\n",
    "    feature_dim: int\n",
    "    num_hidden: int = 50\n",
    "    \n",
    "\n",
    "    def init_params(self, num_particles, a0=1.0, b0=0.1, key=jr.PRNGKey(42)):     \n",
    "        \n",
    "        key_w1, key_b1, key_w2, key_b2, key_gamma, key_lambda = jr.split(key, 6)\n",
    "\n",
    "        w1 = 1.0 / jnp.sqrt(self.feature_dim + 1) * jr.normal(key_w1, (num_particles, self.feature_dim, self.num_hidden))\n",
    "        b1 = jr.normal(key_b1, (num_particles, self.num_hidden))\n",
    "    \n",
    "        w2 = 1.0 / jnp.sqrt(self.num_hidden + 1) *  jr.normal(key_w2, (num_particles, self.num_hidden ))\n",
    "        b2 = jr.normal(key_b2, (num_particles, 1))\n",
    "        \n",
    "        log_gamma = jnp.log(tfd.Gamma(a0, b0).sample(seed=key_gamma, sample_shape=(num_particles, 1)))\n",
    "        log_lambda = jnp.log(tfd.Gamma(a0, b0).sample(seed=key_lambda, sample_shape=(num_particles, 1)))\n",
    "\n",
    "        latent = {'w1': w1, 'b1': b1, 'w2': w2, 'b2': b2, 'log_gamma': log_gamma, 'log_lambda': log_lambda}\n",
    "        theta = {\"a0\": jnp.log(a0), \"b0\": jnp.log(b0)}\n",
    "        return latent, theta\n",
    "    \n",
    "    def predict(self, latent, X_test):\n",
    "        foward = jnp.dot(jax.nn.relu(jnp.dot(X_test, latent[\"w1\"])+ latent[\"b1\"]), latent[\"w2\"]) + latent[\"b2\"]\n",
    "        return foward\n",
    "\n",
    "    def log_prob(self, latent, theta, batch):\n",
    "        X, y = batch.X, batch.y\n",
    "\n",
    "        theta = {\"a0\": jnp.log(1.0), \"b0\": jnp.log(0.1)}\n",
    "\n",
    "        num_vars = self.feature_dim * self.num_hidden + self.num_hidden * 2 + 3  # w1: d*n_hidden; b1: n_hidden; w2 = n_hidden; b2 = 1; 2 variances\n",
    "\n",
    "        foward = jnp.dot(jax.nn.relu(jnp.dot(X, latent[\"w1\"])+ latent[\"b1\"]), latent[\"w2\"]) + latent[\"b2\"]\n",
    "        log_lik_data = -0.5 * X.shape[0] * (jnp.log(2*jnp.pi) - latent[\"log_gamma\"]) - (jnp.exp(latent[\"log_gamma\"])/2) * jnp.sum(jnp.power(foward.squeeze() - y.squeeze(), 2))\n",
    "        log_prior_data = (jnp.exp(theta[\"a0\"]) - 1) * latent[\"log_gamma\"] - jnp.exp(theta[\"b0\"]) * jnp.exp(latent[\"log_gamma\"]) + latent[\"log_gamma\"]\n",
    "        log_prior_w = -0.5 * (num_vars-2.0) * (jnp.log(2.0*jnp.pi)-latent[\"log_lambda\"]) - (jnp.exp(latent[\"log_lambda\"])/2.0)*((latent[\"w1\"]**2).sum() + (latent[\"w2\"]**2).sum() + (latent[\"b1\"]**2).sum() + latent[\"b2\"]**2)  \\\n",
    "                        + (jnp.exp(theta[\"a0\"])-1) * latent[\"log_lambda\"] - jnp.exp(theta[\"b0\"]) * jnp.exp(latent[\"log_lambda\"]) + latent[\"log_lambda\"]\n",
    "\n",
    "        # # sub-sampling mini-batches of data, where (X, y) is the batch data, and N is the number of whole observations\n",
    "\n",
    "        #penalty = jnp.sum((theta[\"a0\"]) ** 2 + (theta[\"b0\"])**2)\n",
    "\n",
    "        return (log_lik_data * self.num_datapoints / batch.n + log_prior_data + log_prior_w).squeeze()"
   ]
  },
  {
   "attachments": {},
   "cell_type": "markdown",
   "metadata": {
    "id": "9Rf35vq3IC7T"
   },
   "source": [
    "We then implement the algorithms. They take in the following inputs:\n",
    "\n",
    "*   itrain : training set labels,\n",
    "*   itrain : training set images,\n",
    "*   itest : test set labels,\n",
    "*   itest : test set images,\n",
    "*   h : step-size,\n",
    "*   K : number of steps,\n",
    "*   N : number of particles,\n",
    "*   a : 1-dimensional vector with initial alpha guess,\n",
    "*   b : 1-dimensional vector with initial beta guess,\n",
    "*   w : Dw x N matrix storing the input layer weights of the initial particle cloud,\n",
    "*   v : Dv x N matrix storing the output layer weights of the initial particle cloud.\n",
    "\n",
    "They return the following outputs:\n",
    "\n",
    "*   a : K-dimensional vector of alpha estimates,\n",
    "*   b : K-dimensional vector of beta estimates,\n",
    "*   w : Dw x N matrix storing the input layer weights of the final particle cloud,\n",
    "*   v : Dv x N matrix storing the output layer weights of the final particle cloud,\n",
    "*   lppd : log pointwise predictive density (LPPD) as a function of k,\n",
    "*   error : test error as a function of k."
   ]
  },
  {
   "attachments": {},
   "cell_type": "markdown",
   "metadata": {
    "id": "kKT-6l_6urur"
   },
   "source": [
    "We can now run the algorithms using an 80/20 training/test split of the data:"
   ]
  },
  {
   "cell_type": "code",
   "execution_count": 31,
   "metadata": {},
   "outputs": [],
   "source": [
    "import jax.tree_util as jtu\n",
    "# Set approximation parameters:\n",
    "h = 1e-1 # Step-size. \n",
    "K = 1000  # Number of steps.\n",
    "N = 100  # Number of particles.\n",
    "\n",
    "key = jr.PRNGKey(42)\n",
    "\n",
    "model = BayesianNeuralNetwork(num_datapoints=train_data.n, feature_dim=train_data.X.shape[-1], num_hidden=50)\n",
    "\n",
    "latent, theta = model.init_params(N)"
   ]
  },
  {
   "cell_type": "code",
   "execution_count": 32,
   "metadata": {
    "id": "8qZD69GRu0G2",
    "outputId": "c352999b-0472-4669-b53a-0bf44a4db099"
   },
   "outputs": [],
   "source": [
    "from coinem.zoo import coin_svgd, pgd, adam_svgd, soul\n",
    "\n",
    "x_coin, theta_coin = coin_svgd(model, train_data, latent, theta, K, alpha=100.0)\n",
    "#x_pgd, theta_pgd = pgd(model, train_data, latent, theta, K, latent_step_size=1e-3, theta_step_size=1e-3)\n",
    "x_adam, theta_adam = adam_svgd(model, train_data, latent, theta, K, latent_step_size=1e-1, theta_step_size=1e-1)\n",
    "#x_soul, theta_soul = soul(model, train_data, latent, theta, K, latent_step_size=1e-3, theta_step_size=1e-3)\n"
   ]
  },
  {
   "cell_type": "code",
   "execution_count": 33,
   "metadata": {},
   "outputs": [
    {
     "data": {
      "text/plain": [
       "<matplotlib.legend.Legend at 0x2f21d5e10>"
      ]
     },
     "execution_count": 33,
     "metadata": {},
     "output_type": "execute_result"
    },
    {
     "data": {
      "image/png": "[encoded data removed]",
      "text/plain": [
       "<Figure size 640x480 with 1 Axes>"
      ]
     },
     "metadata": {},
     "output_type": "display_data"
    }
   ],
   "source": [
    "def rmse_trace(particles):\n",
    "    return vmap(lambda x_hat: jnp.sqrt(jnp.mean((y_test - vmap(lambda x: model.predict(x, X_test))(x_hat).mean(0)) ** 2)))(particles)\n",
    "\n",
    "plt.plot(rmse_trace(x_coin), label=\"Coin SVGD\")\n",
    "#plt.plot(rmse_trace(x_pgd), label=\"PGD\")\n",
    "plt.plot(rmse_trace(x_adam), label=\"Adam SVGD\")\n",
    "#plt.plot(rmse_trace(x_soul), label=\"Soul\")\n",
    "\n",
    "plt.xlabel(\"Iteration\")\n",
    "plt.ylabel(\"RMSE\")\n",
    "plt.legend()"
   ]
  },
  {
   "cell_type": "code",
   "execution_count": 35,
   "metadata": {},
   "outputs": [
    {
     "data": {
      "text/plain": [
       "Array([23.387274 , 23.001022 , 22.634966 , 22.26111  , 21.866026 ,\n",
       "       21.433994 , 20.950958 , 20.396832 , 19.752533 , 18.991177 ,\n",
       "       18.08087  , 16.986338 , 15.663125 , 14.1028385, 12.360562 ,\n",
       "       10.633447 ,  9.116371 ,  7.8562665,  6.8814273,  6.150949 ,\n",
       "        5.5832176,  5.128361 ,  4.768574 ,  4.4932113,  4.287288 ,\n",
       "        4.137098 ,  4.028047 ,  3.9489598,  3.8901045,  3.84455  ,\n",
       "        3.8069208,  3.7743459,  3.7452826,  3.7184289,  3.6924918,\n",
       "        3.6674569,  3.643396 ,  3.619662 ,  3.5960584,  3.5730586,\n",
       "        3.5507371,  3.5289662,  3.5087934,  3.4880998,  3.4697337,\n",
       "        3.4487412,  3.4329278,  3.4109573,  3.4014924,  3.383668 ,\n",
       "        3.3684285,  3.347155 ,  3.3372595,  3.3116603,  3.3124635,\n",
       "        3.2795746,  3.2865987,  3.248205 ,  3.268885 ,  3.2094898,\n",
       "        3.265436 ,  3.1798778,  3.2392306,  3.1555114,  3.2232254,\n",
       "        3.1318197,  3.2015958,  3.108215 ,  3.1891932,  3.0773134,\n",
       "        3.1875987,  3.0482852,  3.1839008,  3.0188437,  3.187797 ,\n",
       "        2.993554 ,  3.1912262,  2.969658 ,  3.1886597,  2.9503653,\n",
       "        3.1944635,  2.9266987,  3.2004492,  2.9095209,  3.195706 ,\n",
       "        2.896573 ,  3.1954947,  2.885448 ,  3.1938038,  2.8731217,\n",
       "        3.1932156,  2.8620756,  3.1940227,  2.8517992,  3.1927001,\n",
       "        2.8413467,  3.1923304,  2.8298078,  3.1900268,  2.8208258,\n",
       "        3.1863065,  2.8135138,  3.1847212,  2.806054 ,  3.1841455,\n",
       "        2.798717 ,  3.1831148,  2.7917516,  3.181123 ,  2.7859135,\n",
       "        3.1786754,  2.7805288,  3.17636  ,  2.7757123,  3.1717799,\n",
       "        2.77121  ,  3.1682775,  2.7663114,  3.166581 ,  2.7614815,\n",
       "        3.1610808,  2.7582607,  3.154791 ,  2.754245 ,  3.150488 ,\n",
       "        2.7498214,  3.1491368,  2.744383 ,  3.1494696,  2.7407618,\n",
       "        3.1454883,  2.7373273,  3.1426609,  2.7334943,  3.1412733,\n",
       "        2.7297425,  3.1377764,  2.7265222,  3.1354458,  2.7229807,\n",
       "        3.1337547,  2.719941 ,  3.1311114,  2.7176101,  3.126578 ,\n",
       "        2.7150514,  3.1241784,  2.7109802,  3.1221335,  2.7087808,\n",
       "        3.120424 ,  2.7059486,  3.1211677,  2.7036572,  3.1140594,\n",
       "        2.702885 ,  3.108226 ,  2.7021098,  3.1021917,  2.7026875,\n",
       "        3.0946045,  2.7022243,  3.0896711,  2.7004738,  3.089317 ,\n",
       "        2.697597 ,  3.0904357,  2.693929 ,  3.0884168,  2.6928868,\n",
       "        3.0848477,  2.6913996,  3.078642 ,  2.692401 ,  3.0688043,\n",
       "        2.6930034,  3.060221 ,  2.6948333,  3.0493739,  2.695053 ,\n",
       "        3.043449 ,  2.6952221,  3.0387495,  2.6952665,  3.0331876,\n",
       "        2.6944392,  3.0271215,  2.6962976,  3.0183213,  2.6966689,\n",
       "        3.012654 ,  2.6958382,  3.0106986,  2.6940703,  3.0080073,\n",
       "        2.6935217,  3.0065243,  2.6916783,  3.0023618,  2.691148 ,\n",
       "        2.9979458,  2.6910026,  2.9949899,  2.6907616,  2.9915752,\n",
       "        2.6892354,  2.9886072,  2.6896114,  2.983604 ,  2.6890528,\n",
       "        2.9806144,  2.6892521,  2.9773157,  2.688905 ,  2.9736395,\n",
       "        2.6885917,  2.9739482,  2.6860626,  2.9745314,  2.6843815,\n",
       "        2.9758413,  2.6800716,  2.977717 ,  2.6808348,  2.9756458,\n",
       "        2.680047 ,  2.9695973,  2.681293 ,  2.9629486,  2.6824825,\n",
       "        2.9572303,  2.6840165,  2.9518392,  2.6848183,  2.9468017,\n",
       "        2.6860514,  2.9412804,  2.687295 ,  2.9341986,  2.6898682,\n",
       "        2.9306648,  2.6889017,  2.9282453,  2.6871557,  2.9283   ,\n",
       "        2.6867402,  2.9265525,  2.6864085,  2.9268336,  2.6839752,\n",
       "        2.9294467,  2.6808958,  2.9318573,  2.67811  ,  2.933407 ,\n",
       "        2.6763103,  2.9331193,  2.6752667,  2.9289322,  2.67679  ,\n",
       "        2.9218707,  2.6783147,  2.915241 ,  2.6813588,  2.9078772,\n",
       "        2.6831212,  2.9039838,  2.6841917,  2.9003568,  2.6844072,\n",
       "        2.9002442,  2.6828837,  2.9017937,  2.679481 ,  2.9043734,\n",
       "        2.6770601,  2.9066005,  2.6751738,  2.9045475,  2.6747782,\n",
       "        2.9035316,  2.6751237,  2.8987231,  2.6774569,  2.8935366,\n",
       "        2.6788285,  2.8907053,  2.6795278,  2.8874028,  2.6815002,\n",
       "        2.8843348,  2.681847 ,  2.881054 ,  2.6830056,  2.8760853,\n",
       "        2.6847277,  2.873801 ,  2.685368 ,  2.8703935,  2.6865788,\n",
       "        2.8694885,  2.6852088,  2.8687112,  2.68463  ,  2.8691578,\n",
       "        2.683433 ,  2.8699281,  2.6821232,  2.8699853,  2.681616 ,\n",
       "        2.8699024,  2.6808512,  2.869185 ,  2.6815126,  2.8689768,\n",
       "        2.6801727,  2.866675 ,  2.6811345,  2.865379 ,  2.680424 ,\n",
       "        2.8647156,  2.679543 ,  2.8638022,  2.6796653,  2.8634825,\n",
       "        2.678697 ,  2.8630934,  2.6783354,  2.8619833,  2.6777313,\n",
       "        2.8606653,  2.6778803,  2.859774 ,  2.677655 ,  2.8599644,\n",
       "        2.6757848,  2.8615239,  2.674099 ,  2.860963 ,  2.673487 ,\n",
       "        2.8605273,  2.6731842,  2.8596702,  2.6728344,  2.8599417,\n",
       "        2.6722987,  2.8584485,  2.671946 ,  2.8571646,  2.671351 ,\n",
       "        2.8562644,  2.6707284,  2.856089 ,  2.6694338,  2.8551207,\n",
       "        2.6699402,  2.8545394,  2.6703146,  2.8521724,  2.6708987,\n",
       "        2.8506577,  2.6709304,  2.8469012,  2.672401 ,  2.8459065,\n",
       "        2.6719854,  2.8441973,  2.6734571,  2.8416777,  2.6741226,\n",
       "        2.8387423,  2.6751282,  2.8378294,  2.674849 ,  2.8362043,\n",
       "        2.6750236,  2.8350053,  2.67451  ,  2.8350003,  2.6735294,\n",
       "        2.8351371,  2.673177 ,  2.834891 ,  2.6727471,  2.8346558,\n",
       "        2.671312 ,  2.83639  ,  2.669604 ,  2.835418 ,  2.669255 ,\n",
       "        2.8354475,  2.6683037,  2.8357825,  2.6681423,  2.8318195,\n",
       "        2.669712 ,  2.829639 ,  2.6719773,  2.8241398,  2.6742756,\n",
       "        2.8193204,  2.6774504,  2.8148172,  2.6784163,  2.8124168,\n",
       "        2.6790862,  2.8111258,  2.6793342,  2.8089767,  2.680403 ,\n",
       "        2.8068385,  2.6794224,  2.8076715,  2.6781368,  2.808385 ,\n",
       "        2.6757202,  2.8123193,  2.67135  ,  2.8166142,  2.6690164,\n",
       "        2.818554 ,  2.6660728,  2.8214898,  2.6647222,  2.822548 ,\n",
       "        2.6636386,  2.8212004,  2.664229 ,  2.8199966,  2.6640773,\n",
       "        2.8174968,  2.6653557,  2.8161466,  2.6657462,  2.8133824,\n",
       "        2.6673598,  2.8102386,  2.6692536,  2.8062322,  2.67313  ,\n",
       "        2.8010027,  2.6755977,  2.7986176,  2.6758175,  2.7962658,\n",
       "        2.67582  ,  2.7971933,  2.6745136,  2.7973619,  2.672692 ,\n",
       "        2.799559 ,  2.6707964,  2.8013842,  2.6675575,  2.8054175,\n",
       "        2.664663 ,  2.8070233,  2.6630123,  2.808988 ,  2.6627607,\n",
       "        2.805367 ,  2.6639156,  2.8028846,  2.6658714,  2.7981055,\n",
       "        2.6676505,  2.7954562,  2.6690629,  2.7923515,  2.6695883,\n",
       "        2.7914493,  2.6691587,  2.7907877,  2.6695213,  2.78934  ,\n",
       "        2.6703594,  2.7880235,  2.6697369,  2.786884 ,  2.6677504,\n",
       "        2.7878447,  2.666582 ,  2.7888231,  2.666614 ,  2.7879722,\n",
       "        2.666912 ,  2.7865126,  2.6669004,  2.7854574,  2.6678653,\n",
       "        2.783112 ,  2.6685908,  2.781903 ,  2.6681151,  2.7824764,\n",
       "        2.668639 ,  2.780214 ,  2.6690688,  2.7800827,  2.6682813,\n",
       "        2.7807796,  2.667094 ,  2.7817276,  2.6660206,  2.7815213,\n",
       "        2.6667929,  2.7794409,  2.666754 ,  2.7791665,  2.6673589,\n",
       "        2.7773879,  2.6675372,  2.7769136,  2.6683455,  2.775837 ,\n",
       "        2.6688418,  2.7751236,  2.6673741,  2.7763932,  2.666405 ,\n",
       "        2.7781863,  2.664905 ,  2.7785394,  2.6648896,  2.777467 ,\n",
       "        2.6659403,  2.7757952,  2.6651416,  2.7781732,  2.6643693,\n",
       "        2.7776644,  2.6647024,  2.7772658,  2.6654038,  2.7760236,\n",
       "        2.6648726,  2.7752597,  2.6660156,  2.7727058,  2.666174 ,\n",
       "        2.7728295,  2.665893 ,  2.7735658,  2.665291 ,  2.7737298,\n",
       "        2.664354 ,  2.7748823,  2.663673 ,  2.7746804,  2.663566 ,\n",
       "        2.7753618,  2.6624687,  2.7757442,  2.6621404,  2.7758124,\n",
       "        2.6615028,  2.7757478,  2.6609838,  2.7758296,  2.661126 ,\n",
       "        2.7752213,  2.662276 ,  2.7734728,  2.6631277,  2.7710936,\n",
       "        2.664444 ,  2.768663 ,  2.665224 ,  2.7681122,  2.666109 ,\n",
       "        2.7667284,  2.6641576,  2.7676399,  2.6634216,  2.7671897,\n",
       "        2.6624553,  2.7664883,  2.6641216,  2.7645564,  2.6646533,\n",
       "        2.762012 ,  2.6643403,  2.7621272,  2.6647747,  2.7609673,\n",
       "        2.6657655,  2.7596703,  2.6668646,  2.7591941,  2.664609 ,\n",
       "        2.7608945,  2.6635387,  2.7618577,  2.6624157,  2.762113 ,\n",
       "        2.6620467,  2.7621636,  2.6617815,  2.7617643,  2.6611347,\n",
       "        2.7612948,  2.6617093,  2.7602208,  2.6618843,  2.7589622,\n",
       "        2.663745 ,  2.756795 ,  2.6631353,  2.7566133,  2.6636896,\n",
       "        2.7555904,  2.6637821,  2.7535892,  2.6656077,  2.7518876,\n",
       "        2.6665306,  2.750059 ,  2.6666257,  2.7494462,  2.6662738,\n",
       "        2.7482321,  2.6672688,  2.7465708,  2.6683826,  2.7448192,\n",
       "        2.669182 ,  2.7433972,  2.6688485,  2.7429566,  2.6676154,\n",
       "        2.7425365,  2.66881  ,  2.741876 ,  2.667048 ,  2.7429242,\n",
       "        2.6659486,  2.7446377,  2.6641264,  2.7443604,  2.666606 ,\n",
       "        2.7422228,  2.666934 ,  2.741147 ,  2.6677587,  2.7387397,\n",
       "        2.6676629,  2.7371662,  2.667905 ,  2.736205 ,  2.6691153,\n",
       "        2.7360985,  2.6686437,  2.7357469,  2.6663792,  2.738253 ,\n",
       "        2.6652193,  2.7382824,  2.6650567,  2.738699 ,  2.6641371,\n",
       "        2.7382534,  2.6640642,  2.7380908,  2.664229 ,  2.7355742,\n",
       "        2.6643333,  2.7363753,  2.6652596,  2.7335837,  2.665046 ,\n",
       "        2.7354262,  2.6636105,  2.7339344,  2.6616719,  2.7379632,\n",
       "        2.6600938,  2.7374187,  2.6594903,  2.7393079,  2.6587448,\n",
       "        2.7371104,  2.6598372,  2.7363298,  2.6601982,  2.7352226,\n",
       "        2.6607335,  2.7355735,  2.6603925,  2.7342634,  2.6593678,\n",
       "        2.7373831,  2.6589596,  2.7356162,  2.6595535,  2.735031 ,\n",
       "        2.6606839,  2.7324636,  2.6621203,  2.73058  ,  2.663552 ,\n",
       "        2.7276318,  2.663619 ,  2.7290163,  2.6630456,  2.7273815,\n",
       "        2.6621854,  2.7290258,  2.6611218,  2.729134 ,  2.661309 ,\n",
       "        2.729273 ,  2.6606078,  2.7291763,  2.6606987,  2.728846 ,\n",
       "        2.6613579,  2.7255938,  2.6637967,  2.725007 ,  2.664181 ,\n",
       "        2.722597 ,  2.6648002,  2.7210932,  2.66597  ,  2.7216005,\n",
       "        2.6649594,  2.7216635,  2.6642041,  2.7207115,  2.664591 ,\n",
       "        2.720021 ,  2.6646464,  2.7185764,  2.6648185,  2.7175977,\n",
       "        2.6659873,  2.7169304,  2.6661716,  2.7150428,  2.6662369,\n",
       "        2.7153196,  2.6652799,  2.7170334,  2.6638055,  2.7158427,\n",
       "        2.6641152,  2.7151775,  2.6638691,  2.7161396,  2.6636379,\n",
       "        2.7140808,  2.664234 ,  2.713469 ,  2.6642091,  2.7127392,\n",
       "        2.6645277,  2.7121737,  2.6646564,  2.709723 ,  2.6652308,\n",
       "        2.7118654,  2.6629245,  2.7119079,  2.6619775,  2.7113192,\n",
       "        2.6631896,  2.7095692,  2.6637552,  2.7116885,  2.6626728,\n",
       "        2.710254 ,  2.6617672,  2.7102563,  2.6640275,  2.7091022,\n",
       "        2.6632867,  2.7093124,  2.6622002,  2.7083447,  2.6631339,\n",
       "        2.7071383,  2.6623142,  2.7080748,  2.6614904,  2.7080488,\n",
       "        2.6605208,  2.7083163,  2.6629848,  2.7060163,  2.664245 ,\n",
       "        2.705969 ,  2.6638885,  2.704809 ,  2.664079 ,  2.7030706,\n",
       "        2.6647482,  2.7029545,  2.662429 ,  2.7062597,  2.6611924,\n",
       "        2.7053285,  2.6618233,  2.7037332,  2.662968 ,  2.701508 ,\n",
       "        2.6627936,  2.7030485,  2.6624842,  2.7023609,  2.661909 ,\n",
       "        2.7022336,  2.6613114,  2.7016642,  2.6608567,  2.7026362,\n",
       "        2.6595857,  2.7019153,  2.6600623,  2.7004638,  2.66106  ,\n",
       "        2.699406 ,  2.6609166,  2.6997414,  2.6610672,  2.698321 ,\n",
       "        2.6624703,  2.6956503,  2.6637807,  2.6942992,  2.663636 ,\n",
       "        2.6942468,  2.6636868,  2.6919243,  2.6652107,  2.6914783,\n",
       "        2.6655362,  2.6906722,  2.665038 ,  2.690783 ,  2.6639786,\n",
       "        2.691996 ,  2.6627328,  2.6899025,  2.6640003,  2.6899064,\n",
       "        2.6637912,  2.6896925,  2.6624544,  2.6904566,  2.662329 ,\n",
       "        2.691218 ,  2.6615486,  2.691355 ,  2.6613646,  2.6910937,\n",
       "        2.6606452,  2.6921072,  2.6595225,  2.691149 ,  2.6596243,\n",
       "        2.6907525,  2.6612236,  2.6898816,  2.660697 ,  2.689212 ,\n",
       "        2.6611493,  2.6895943,  2.659828 ,  2.6899898,  2.6591935,\n",
       "        2.6904335,  2.6586459,  2.6886902,  2.6595254,  2.6889305,\n",
       "        2.6592114,  2.6886492,  2.6610982,  2.68716  ,  2.66059  ,\n",
       "        2.68715  ,  2.659477 ,  2.686926 ,  2.6588855,  2.6871371,\n",
       "        2.66059  ,  2.6855702,  2.6608322,  2.685224 ,  2.6606014,\n",
       "        2.685732 ,  2.6587126,  2.686298 ,  2.6591134,  2.685109 ,\n",
       "        2.6602106,  2.6847034,  2.6590304,  2.683953 ,  2.66012  ,\n",
       "        2.6840959,  2.6588252,  2.683507 ,  2.660002 ,  2.6832206,\n",
       "        2.6588764,  2.6842878,  2.6579103,  2.683847 ,  2.6579833,\n",
       "        2.6833494,  2.6583188,  2.6842437,  2.6563456,  2.683707 ,\n",
       "        2.6577291,  2.6824784,  2.6575098,  2.6844983,  2.6556993,\n",
       "        2.684068 ,  2.6559575,  2.6830714,  2.6571083,  2.6838555,\n",
       "        2.6558673,  2.6826143,  2.6564107,  2.6825533,  2.655956 ,\n",
       "        2.6832848,  2.655692 ,  2.6823301,  2.6558478,  2.681489 ,\n",
       "        2.6561935,  2.6815658,  2.656019 ,  2.680738 ,  2.656373 ,\n",
       "        2.6789646,  2.6574767,  2.6790311,  2.6571305,  2.6784642,\n",
       "        2.6577296,  2.675731 ,  2.6581056,  2.6774983,  2.6570857,\n",
       "        2.677389 ,  2.656704 ,  2.6760106,  2.657271 ,  2.6762881,\n",
       "        2.6559217,  2.6756904,  2.6562343,  2.6762602,  2.6561942,\n",
       "        2.6756005,  2.6559553,  2.674857 ,  2.6550643,  2.6768956,\n",
       "        2.6534436,  2.6770377,  2.654251 ,  2.6746182,  2.6549897,\n",
       "        2.6736827,  2.655938 ,  2.6738281,  2.6549153,  2.6734939,\n",
       "        2.6552992,  2.6733627,  2.655312 ,  2.6730614,  2.6552846,\n",
       "        2.6726828,  2.6547136,  2.6732051,  2.6533892,  2.6746204,\n",
       "        2.6519961,  2.6744611,  2.6525726,  2.6731598,  2.6534193,\n",
       "        2.6723545,  2.6536198,  2.6715918,  2.654143 ,  2.6710868,\n",
       "        2.6534855,  2.6725235,  2.651134 ,  2.673357 ,  2.6504834],      dtype=float32)"
      ]
     },
     "execution_count": 35,
     "metadata": {},
     "output_type": "execute_result"
    }
   ],
   "source": [
    "rmse_trace(x_coin)"
   ]
  }
 ],
 "metadata": {
  "accelerator": "GPU",
  "colab": {
   "collapsed_sections": [
    "PAMr6QD-ttmT",
    "KaMMf_Yu2TmH",
    "yJr5lfAX2U5U",
    "T62bmxVZ2V6q"
   ],
   "include_colab_link": true,
   "name": "Bayesian Neural Network.ipynb",
   "provenance": []
  },
  "kernelspec": {
   "display_name": "Python 3 (ipykernel)",
   "language": "python",
   "name": "python3"
  },
  "language_info": {
   "codemirror_mode": {
    "name": "ipython",
    "version": 3
   },
   "file_extension": ".py",
   "mimetype": "text/x-python",
   "name": "python",
   "nbconvert_exporter": "python",
   "pygments_lexer": "ipython3",
   "version": "3.10.9"
  }
 },
 "nbformat": 4,
 "nbformat_minor": 1
}
