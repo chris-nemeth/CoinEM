{
 "cells": [
  {
   "attachments": {},
   "cell_type": "markdown",
   "metadata": {
    "id": "XotQU1Ootpi6"
   },
   "source": [
    "# Bayesian neural network"
   ]
  },
  {
   "attachments": {},
   "cell_type": "markdown",
   "metadata": {
    "id": "ErKddtPzM3_H"
   },
   "source": [
    "First, we load the modules we need:"
   ]
  },
  {
   "cell_type": "code",
   "execution_count": 104,
   "metadata": {
    "cellView": "form",
    "id": "QRkQ4RDsIAGf"
   },
   "outputs": [],
   "source": [
    "import jax.numpy as jnp\n",
    "import jax\n",
    "from jaxtyping import Array, Float\n",
    "from dataclasses import dataclass\n",
    "\n",
    "import jax.numpy as jnp\n",
    "import jax.random as jr\n",
    "import matplotlib.pyplot as plt\n",
    "\n",
    "from coinem.model import AbstractModel\n",
    "from coinem.dataset import Dataset\n",
    "\n",
    "# Pyplot for plots.\n",
    "import matplotlib.pyplot as plt \n",
    "\n",
    "from jax import vmap"
   ]
  },
  {
   "cell_type": "code",
   "execution_count": 105,
   "metadata": {},
   "outputs": [
    {
     "data": {
      "text/plain": [
       "(455, 13)"
      ]
     },
     "execution_count": 105,
     "metadata": {},
     "output_type": "execute_result"
    }
   ],
   "source": [
    "import numpy as np\n",
    "import random\n",
    "\n",
    "np.random.seed(1)\n",
    "''' load data file '''\n",
    "data = np.loadtxt('data/boston_housing')\n",
    "\n",
    "# Please make sure that the last column is the label and the other columns are features\n",
    "X_input = data[ :, range(data.shape[ 1 ] - 1) ]\n",
    "y_input = data[ :, data.shape[ 1 ] - 1 ]\n",
    "\n",
    "''' build the training and testing data set'''\n",
    "train_ratio = 0.9 # We create the train and test sets with 90% and 10% of the data\n",
    "permutation = np.arange(X_input.shape[0])\n",
    "random.shuffle(permutation) \n",
    "\n",
    "size_train = int(np.round(X_input.shape[ 0 ] * train_ratio))\n",
    "index_train = permutation[ 0 : size_train]\n",
    "index_test = permutation[ size_train : ]\n",
    "\n",
    "X_train, y_train = X_input[ index_train, : ], y_input[ index_train ]\n",
    "X_test, y_test = X_input[ index_test, : ], y_input[ index_test ]\n",
    "\n",
    "from sklearn.preprocessing import StandardScaler\n",
    "\n",
    "scaler = StandardScaler()\n",
    "X_train = scaler.fit_transform(X_train)\n",
    "X_test = scaler.transform(X_test)\n",
    "\n",
    "train_data = Dataset(jnp.array(X_train), jnp.array(y_train).reshape(-1, 1))\n",
    "X_train.shape"
   ]
  },
  {
   "attachments": {},
   "cell_type": "markdown",
   "metadata": {
    "vscode": {
     "languageId": "plaintext"
    }
   },
   "source": [
    "## Model\n",
    "\n",
    "Decribe."
   ]
  },
  {
   "cell_type": "code",
   "execution_count": 106,
   "metadata": {},
   "outputs": [],
   "source": [
    "import tensorflow_probability.substrates.jax.distributions as tfd\n",
    "\n",
    "@dataclass\n",
    "class BayesianNeuralNetwork(AbstractModel):\n",
    "    \"\"\"Bayesian Neural Network for regression.\"\"\"\n",
    "    num_datapoints: int\n",
    "    feature_dim: int\n",
    "    num_hidden: int = 50\n",
    "    \n",
    "\n",
    "    def init_params(self, num_particles, a0=1.0, b0=0.1, key=jr.PRNGKey(42)):     \n",
    "        \n",
    "        key_w1, key_b1, key_w2, key_b2, key_gamma, key_lambda = jr.split(key, 6)\n",
    "\n",
    "        w1 = 1.0 / jnp.sqrt(self.feature_dim + 1) * jr.normal(key_w1, (num_particles, self.feature_dim, self.num_hidden))\n",
    "        b1 = jr.normal(key_b1, (num_particles, self.num_hidden))\n",
    "    \n",
    "        w2 = 1.0 / jnp.sqrt(self.num_hidden + 1) *  jr.normal(key_w2, (num_particles, self.num_hidden ))\n",
    "        b2 = jr.normal(key_b2, (num_particles, 1))\n",
    "        \n",
    "        log_gamma = jnp.log(tfd.Gamma(a0, b0).sample(seed=key_gamma, sample_shape=(num_particles, 1)))\n",
    "        log_lambda = jnp.log(tfd.Gamma(a0, b0).sample(seed=key_lambda, sample_shape=(num_particles, 1)))\n",
    "\n",
    "        latent = {'w1': w1, 'b1': b1, 'w2': w2, 'b2': b2, 'log_gamma': log_gamma, 'log_lambda': log_lambda}\n",
    "        theta = {\"a0\": jnp.log(a0), \"b0\": jnp.log(b0)}\n",
    "        return latent, theta\n",
    "    \n",
    "    def predict(self, latent, X_test):\n",
    "        foward = jnp.dot(jax.nn.relu(jnp.dot(X_test, latent[\"w1\"])+ latent[\"b1\"]), latent[\"w2\"]) + latent[\"b2\"]\n",
    "        return foward\n",
    "\n",
    "    def log_prob(self, latent, theta, batch):\n",
    "        X, y = batch.X, batch.y\n",
    "\n",
    "        #theta = {\"a0\": jnp.log(1.0), \"b0\": jnp.log(0.1)}\n",
    "\n",
    "        num_vars = self.feature_dim * self.num_hidden + self.num_hidden * 2 + 3  # w1: d*n_hidden; b1: n_hidden; w2 = n_hidden; b2 = 1; 2 variances\n",
    "\n",
    "        foward = jnp.dot(jax.nn.relu(jnp.dot(X, latent[\"w1\"])+ latent[\"b1\"]), latent[\"w2\"]) + latent[\"b2\"]\n",
    "        log_lik_data = -0.5 * X.shape[0] * (jnp.log(2*jnp.pi) - latent[\"log_gamma\"]) - (jnp.exp(latent[\"log_gamma\"])/2) * jnp.sum(jnp.power(foward.squeeze() - y.squeeze(), 2))\n",
    "        log_prior_data = (jnp.exp(theta[\"a0\"]) - 1) * latent[\"log_gamma\"] - jnp.exp(theta[\"b0\"]) * jnp.exp(latent[\"log_gamma\"]) + latent[\"log_gamma\"]\n",
    "        log_prior_w = -0.5 * (num_vars-2.0) * (jnp.log(2.0*jnp.pi)-latent[\"log_lambda\"]) - (jnp.exp(latent[\"log_lambda\"])/2.0)*((latent[\"w1\"]**2).sum() + (latent[\"w2\"]**2).sum() + (latent[\"b1\"]**2).sum() + latent[\"b2\"]**2)  \\\n",
    "                        + (jnp.exp(theta[\"a0\"])-1) * latent[\"log_lambda\"] - jnp.exp(theta[\"b0\"]) * jnp.exp(latent[\"log_lambda\"]) + latent[\"log_lambda\"]\n",
    "\n",
    "        # # sub-sampling mini-batches of data, where (X, y) is the batch data, and N is the number of whole observations\n",
    "\n",
    "        penalty = jnp.sum((theta[\"a0\"]) ** 2 + (theta[\"b0\"])**2)\n",
    "\n",
    "        return (log_lik_data * self.num_datapoints / batch.n + log_prior_data + log_prior_w + penalty).squeeze()"
   ]
  },
  {
   "attachments": {},
   "cell_type": "markdown",
   "metadata": {
    "id": "9Rf35vq3IC7T"
   },
   "source": [
    "We then implement the algorithms. They take in the following inputs:\n",
    "\n",
    "*   itrain : training set labels,\n",
    "*   itrain : training set images,\n",
    "*   itest : test set labels,\n",
    "*   itest : test set images,\n",
    "*   h : step-size,\n",
    "*   K : number of steps,\n",
    "*   N : number of particles,\n",
    "*   a : 1-dimensional vector with initial alpha guess,\n",
    "*   b : 1-dimensional vector with initial beta guess,\n",
    "*   w : Dw x N matrix storing the input layer weights of the initial particle cloud,\n",
    "*   v : Dv x N matrix storing the output layer weights of the initial particle cloud.\n",
    "\n",
    "They return the following outputs:\n",
    "\n",
    "*   a : K-dimensional vector of alpha estimates,\n",
    "*   b : K-dimensional vector of beta estimates,\n",
    "*   w : Dw x N matrix storing the input layer weights of the final particle cloud,\n",
    "*   v : Dv x N matrix storing the output layer weights of the final particle cloud,\n",
    "*   lppd : log pointwise predictive density (LPPD) as a function of k,\n",
    "*   error : test error as a function of k."
   ]
  },
  {
   "attachments": {},
   "cell_type": "markdown",
   "metadata": {
    "id": "kKT-6l_6urur"
   },
   "source": [
    "We can now run the algorithms using an 80/20 training/test split of the data:"
   ]
  },
  {
   "cell_type": "code",
   "execution_count": 107,
   "metadata": {},
   "outputs": [],
   "source": [
    "import jax.tree_util as jtu\n",
    "# Set approximation parameters:\n",
    "h = 1e-1 # Step-size. \n",
    "K = 1000  # Number of steps.\n",
    "N = 100  # Number of particles.\n",
    "\n",
    "key = jr.PRNGKey(42)\n",
    "\n",
    "model = BayesianNeuralNetwork(num_datapoints=train_data.n, feature_dim=train_data.X.shape[-1], num_hidden=50)\n",
    "\n",
    "latent, theta = model.init_params(N)"
   ]
  },
  {
   "cell_type": "code",
   "execution_count": 114,
   "metadata": {
    "id": "8qZD69GRu0G2",
    "outputId": "c352999b-0472-4669-b53a-0bf44a4db099"
   },
   "outputs": [],
   "source": [
    "from coinem.zoo import coin_svgd, pgd, adam_svgd, soul\n",
    "\n",
    "x_coin, theta_coin = coin_svgd(model, train_data, latent, theta, K, alpha=100.0)\n",
    "#x_pgd, theta_pgd = pgd(model, train_data, latent, theta, K, latent_step_size=1e-3, theta_step_size=1e-3)\n",
    "x_adam, theta_adam = adam_svgd(model, train_data, latent, theta, K, latent_step_size=1e-1, theta_step_size=1e-1)\n",
    "#x_soul, theta_soul = soul(model, train_data, latent, theta, K, latent_step_size=1e-3, theta_step_size=1e-3)\n"
   ]
  },
  {
   "cell_type": "code",
   "execution_count": 116,
   "metadata": {},
   "outputs": [
    {
     "data": {
      "text/plain": [
       "<matplotlib.legend.Legend at 0x3494e4100>"
      ]
     },
     "execution_count": 116,
     "metadata": {},
     "output_type": "execute_result"
    },
    {
     "data": {
      "image/png": "[encoded data removed]",
      "text/plain": [
       "<Figure size 640x480 with 1 Axes>"
      ]
     },
     "metadata": {},
     "output_type": "display_data"
    }
   ],
   "source": [
    "def rmse_trace(particles):\n",
    "    return vmap(lambda x_hat: jnp.sqrt(jnp.mean((y_test - vmap(lambda x: model.predict(x, X_test))(x_hat).mean(0)) ** 2)))(particles)\n",
    "\n",
    "plt.plot(rmse_trace(x_coin), label=\"Coin SVGD\")\n",
    "#plt.plot(rmse_trace(x_pgd), label=\"PGD\")\n",
    "plt.plot(rmse_trace(x_adam), label=\"Adam SVGD\")\n",
    "#plt.plot(rmse_trace(x_soul), label=\"Soul\")\n",
    "\n",
    "plt.xlabel(\"Iteration\")\n",
    "plt.ylabel(\"RMSE\")\n",
    "plt.legend()"
   ]
  }
 ],
 "metadata": {
  "accelerator": "GPU",
  "colab": {
   "collapsed_sections": [
    "PAMr6QD-ttmT",
    "KaMMf_Yu2TmH",
    "yJr5lfAX2U5U",
    "T62bmxVZ2V6q"
   ],
   "include_colab_link": true,
   "name": "Bayesian Neural Network.ipynb",
   "provenance": []
  },
  "kernelspec": {
   "display_name": "Python 3 (ipykernel)",
   "language": "python",
   "name": "python3"
  },
  "language_info": {
   "codemirror_mode": {
    "name": "ipython",
    "version": 3
   },
   "file_extension": ".py",
   "mimetype": "text/x-python",
   "name": "python",
   "nbconvert_exporter": "python",
   "pygments_lexer": "ipython3",
   "version": "3.10.9"
  }
 },
 "nbformat": 4,
 "nbformat_minor": 1
}
