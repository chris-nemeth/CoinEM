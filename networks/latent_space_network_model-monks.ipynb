{
 "cells": [
  {
   "attachments": {},
   "cell_type": "markdown",
   "metadata": {
    "colab_type": "text",
    "id": "view-in-github"
   },
   "source": [
    "<a href=\"https://colab.research.google.com/github/juankuntz/ParEM/blob/main/jax/bayesian_logistic_regression.ipynb\" target=\"_parent\"><img src=\"https://colab.research.google.com/assets/colab-badge.svg\" alt=\"Open In Colab\"/></a>"
   ]
  },
  {
   "attachments": {},
   "cell_type": "markdown",
   "metadata": {
    "id": "B5E8v2cZ6Zkf"
   },
   "source": [
    "**Description:** This notebook demonstrates the application of PGD, PQN, PMGD, SOUL, and VI to the Bayesian latent space network model from Hoff et al. (2002). "
   ]
  },
  {
   "attachments": {},
   "cell_type": "markdown",
   "metadata": {
    "id": "XotQU1Ootpi6"
   },
   "source": [
    "# Latent space network model - Sampson Monks Data"
   ]
  },
  {
   "attachments": {},
   "cell_type": "markdown",
   "metadata": {
    "id": "ErKddtPzM3_H"
   },
   "source": [
    "First, we load the modules that we will need:"
   ]
  },
  {
   "cell_type": "code",
   "execution_count": 1,
   "metadata": {
    "cellView": "form",
    "colab": {
     "base_uri": "https://localhost:8080/"
    },
    "id": "QRkQ4RDsIAGf",
    "outputId": "d1eb59f0-7eb0-43da-a2ba-ff43b2c01b07"
   },
   "outputs": [],
   "source": [
    "#@title Load modules.\n",
    "\n",
    "# Install the wget package on Colab (if running the notebook locally,\n",
    "# comment the following line out).\n",
    "#!pip install wget\n",
    "\n",
    "# OS and wget to load dataset.\n",
    "import os\n",
    "from scipy.stats import norm\n",
    "from scipy.spatial.distance import pdist, squareform\n",
    "from scipy.spatial import procrustes\n",
    "\n",
    "# Numpy for computations.\n",
    "import numpy as np\n",
    "import jax.numpy as jnp\n",
    "from jax import grad, jit, vmap\n",
    "from jax import random\n",
    "\n",
    "key = random.PRNGKey(0)\n",
    "\n",
    "# Pyplot for plots.\n",
    "import matplotlib.pyplot as plt "
   ]
  },
  {
   "cell_type": "code",
   "execution_count": 2,
   "metadata": {},
   "outputs": [],
   "source": [
    "from load_monks import load_monks\n",
    "\n",
    "# Load Sampson's monastery network\n",
    "Y, labels, names = load_monks(dynamic=True, is_directed=False)\n",
    "y=jnp.asarray(Y[0])"
   ]
  },
  {
   "cell_type": "code",
   "execution_count": 1,
   "metadata": {},
   "outputs": [],
   "source": [
    "#log-target density p_theta(y,x)\n",
    "def log_target(th, z):\n",
    "\n",
    "    \n",
    "\n",
    "    dist = jnp.matmul(z,z.T)/jnp.linalg.norm(z,axis=1)\n",
    "    #dist = jnp.sqrt(jnp.sum((z[None, :] - z[:, None])**2, -1))\n",
    "    eta = th - dist\n",
    "    log_prior =  -jnp.sum(jnp.dot(z.T,z))  \n",
    "    log_lik = jnp.sum(jnp.multiply(y,eta) - jnp.log1p(jnp.exp(eta)))\n",
    "    return log_lik + log_prior\n",
    "\n",
    "#def log_target(th, z):\n",
    "#    #dist = jnp.matmul(z,z.T)/jnp.linalg.norm(z,axis=1)\n",
    "#    dist = (jnp.sqrt(jnp.sum((z[None, :] - z[:, None])**2, -1))).flatten()\n",
    "#    eta = th - dist\n",
    "#    log_prior =  -jnp.sum(jnp.dot(z.T,z))  \n",
    "#    log_lik = jnp.sum(y.flatten()*eta - jnp.log1p(jnp.exp(eta)))\n",
    "#    return log_lik + log_prior\n"
   ]
  },
  {
   "attachments": {},
   "cell_type": "markdown",
   "metadata": {
    "id": "R6VBGWiUNBLA"
   },
   "source": [
    "Next, we load and curate the dataset:"
   ]
  },
  {
   "cell_type": "code",
   "execution_count": 4,
   "metadata": {
    "cellView": "form",
    "id": "mENE7XXBNLf0"
   },
   "outputs": [],
   "source": [
    "# Sampson monk data\n",
    "\n",
    "#y = np.asarray([[0, 0, 1, 0, 1, 0, 0, 0, 0, 0, 0, 0, 0, 1, 0, 0, 0, 0],\n",
    "#[1, 0, 0, 0, 0, 0, 1, 0, 0, 0, 0, 0, 0, 1, 0, 0, 0, 0],\n",
    "#[1, 1, 0, 0, 0, 0, 0, 0, 0, 0, 0, 0, 0, 0, 0, 0, 1, 0],\n",
    "#[0, 0, 0, 0, 1, 1, 0, 0, 0, 1, 0, 0, 0, 0, 0, 0, 0, 0],\n",
    "#[0, 0, 0, 1, 0, 0, 0, 0, 0, 0, 1, 0, 1, 0, 0, 0, 0, 0],\n",
    "#[1, 0, 0, 1, 0, 0, 0, 0, 1, 0, 0, 0, 0, 0, 0, 0, 0, 0],\n",
    "#[0, 1, 0, 0, 0, 0, 0, 1, 0, 0, 0, 0, 0, 0, 0, 1, 0, 0],\n",
    "#[1, 1, 0, 0, 0, 0, 0, 0, 1, 0, 0, 0, 0, 0, 0, 0, 0, 0],\n",
    "#[0, 0, 0, 0, 1, 0, 0, 1, 0, 0, 0, 0, 0, 0, 0, 1, 0, 0],\n",
    "#[0, 0, 0, 1, 0, 0, 0, 1, 0, 0, 0, 0, 0, 1, 0, 0, 0, 0],\n",
    "#[0, 0, 0, 0, 1, 0, 0, 1, 0, 0, 0, 0, 0, 1, 0, 0, 0, 0],\n",
    "#[1, 1, 0, 0, 0, 0, 0, 0, 0, 0, 0, 0, 0, 1, 0, 0, 0, 0],\n",
    "#[0, 0, 0, 0, 1, 0, 1, 0, 0, 0, 0, 0, 0, 0, 0, 0, 0, 1],\n",
    "#[1, 0, 0, 0, 0, 0, 0, 0, 0, 0, 1, 1, 0, 0, 1, 0, 0, 0],\n",
    "#[1, 1, 0, 0, 0, 0, 0, 0, 0, 0, 0, 0, 0, 1, 0, 0, 0, 0],\n",
    "#[1, 1, 0, 0, 0, 0, 1, 0, 0, 0, 0, 0, 0, 0, 0, 0, 0, 0],\n",
    "#[0, 0, 1, 0, 0, 0, 0, 0, 0, 0, 0, 0, 1, 0, 0, 0, 0, 1],\n",
    "#[1, 1, 0, 0, 0, 0, 1, 0, 0, 0, 0, 0, 0, 0, 0, 0, 0, 0]])\n",
    "\n"
   ]
  },
  {
   "attachments": {},
   "cell_type": "markdown",
   "metadata": {
    "id": "9Rf35vq3IC7T"
   },
   "source": [
    "We then implement the algorithms. They take the following inputs:\n",
    "\n",
    "*   y : n x n adjacency matrix,\n",
    "*   Z : n x D latent positions\n",
    "*   K : number of steps,\n",
    "*   N : number of particles,\n",
    "*   th : 1-dimensional vector with parameter guess,\n",
    "*   X : D x N matrix storing the initial particle cloud.\n",
    "\n",
    "They return the following outputs:\n",
    "\n",
    "*   th : K-dimensional vector of parameter estimates,\n",
    "*   X : D x (KN) matrix storing the particle clouds (the kth cloud is X[:, (k-1)$^\\ast$N : k$^\\ast$N])."
   ]
  },
  {
   "cell_type": "code",
   "execution_count": 5,
   "metadata": {
    "cellView": "form",
    "id": "LtqjvuN98ZmU"
   },
   "outputs": [],
   "source": [
    "#@title Implement algorithms\n",
    "\n",
    "# Algorithms.\n",
    "\n",
    "def vi(l, f, h, K, N, th, X, mu=None):\n",
    "  D = f[0, :].size  # Extract latent variable dimension.\n",
    "  mu = np.zeros(D) if mu is None else mu\n",
    "  z = np.ones(D)\n",
    "  for k in range(K):\n",
    "    # update q\n",
    "    def loss(mu, z):\n",
    "      s2 = softplus(z)\n",
    "      x = (np.random.normal(0, 1, (N, D)) * s2 ** 0.5  + mu).T\n",
    "      log_prior =  - np.sum((x - th[k]) ** 2, 0) / 5  # Shape (N)\n",
    "      log_likel =  l * np.matmul(f, x) - np.log(1 + np.exp(np.matmul(f, x)))  # (M, N)\n",
    "      log_prob = np.sum(log_likel, 0)\n",
    "      entropy = 0.5 * np.sum(np.log(s2))\n",
    "      return np.mean(log_prob + log_prior, 0) + entropy\n",
    "    step_size = h\n",
    "    mu, z = mu + step_size * grad(loss, 0)(mu, z), z + step_size * grad(loss, 1)(mu, z)\n",
    "    s2 = softplus(z)\n",
    "    Xk = (np.random.normal(0, 1, (N, D)) * s2 ** 0.5 + mu).T\n",
    "    # update theta\n",
    "    th = np.append(th, th[k] + h*ave_grad_th(th[k], Xk))\n",
    "    X = np.append(X, Xk, axis=1) # Store updated cloud.\n",
    "  return th, X, mu, softplus(z)\n",
    "\n",
    "\n",
    "def pgd(y, h, K, N, th, X):\n",
    "    D = X[:,:,0].shape  # Extract latent variable dimension.\n",
    "    Xkp1 = np.copy(X)\n",
    "    \n",
    "    for k in range(K):\n",
    "        #Update particle cloud:\n",
    "        gx = [grad_x(th[k],X[:,:,i]) for i in range(N)]\n",
    "        for i in range(N):\n",
    "            Xkp1[:,:,i] =  X[:,:,i] + h*gx[i] + np.sqrt(2*h)*np.random.normal(0, 1, D)\n",
    "\n",
    "        #Procrustes transformation\n",
    "        Xnew = np.copy(X)\n",
    "        for i in range(N):\n",
    "            _, Xnew[:,:,i], _ = procrustes(X[:,:,i], Xkp1[:,:,i])\n",
    "    \n",
    "        X = Xnew\n",
    "        \n",
    "        th = np.append(th, th[k] + h*np.mean([grad_alpha(th[k],X[:,:,i]) for i in range(N)]))  # Update theta.\n",
    "    return th, X\n",
    "\n",
    "#Coin version of the PGD function\n",
    "def coin(y, K, N, th, X):\n",
    "    theta0 = np.copy(th)\n",
    "    x_shape = X.shape\n",
    "    X0 = X.reshape(-1,X.shape[-1])\n",
    "\n",
    "    # initialise other vars for X and theta\n",
    "    L_theta, L_X = 0, 0\n",
    "    grad_theta_sum, grad_Xk_sum = 0, 0\n",
    "    reward_theta, reward_X = 0, 0\n",
    "    abs_grad_theta_sum, abs_grad_Xk_sum = 0, 0\n",
    "    for k in range(K):\n",
    "        Xk = X.reshape(-1,X.shape[-1])  # Extract current particle cloud.\n",
    "        # Update particle cloud:\n",
    "        \n",
    "        # calculate kernel matrix\n",
    "        kxy, dx_kxy = svgd_kernel(Xk, h=-1)\n",
    "\n",
    "        # gradient\n",
    "        gx = [grad_x(th[k],X[:,:,i]).flatten() for i in range(N)]\n",
    "        grad_Xk = (np.matmul(kxy, np.asarray(gx).T) + dx_kxy) \n",
    "\n",
    "        # |gradient|\n",
    "        abs_grad_Xk = abs(grad_Xk)\n",
    "\n",
    "        # constant\n",
    "        L_X = np.maximum(abs_grad_Xk, L_X)\n",
    "\n",
    "        # sum of gradients\n",
    "        grad_Xk_sum += grad_Xk\n",
    "        abs_grad_Xk_sum += abs_grad_Xk\n",
    "\n",
    "        # 'reward'\n",
    "        reward_X = np.maximum(reward_X + np.multiply(Xk - X0, grad_Xk), 0)\n",
    "\n",
    "        # X update\n",
    "        Xkp1 = X0 + grad_Xk_sum / (L_X * (abs_grad_Xk_sum + L_X)) * (L_X + reward_X)\n",
    "        \n",
    "        Xkp1 = Xkp1.reshape(x_shape)\n",
    "        \n",
    "        Xnew = np.zeros(x_shape)\n",
    "        #Procrustes transformation\n",
    "        for i in range(N):\n",
    "            _, Xnew[:,:,i], _ = procrustes(X[:,:,i], Xkp1[:,:,i])\n",
    "    \n",
    "        \n",
    "        X = jnp.copy(Xnew)\n",
    "        \n",
    "        # Update theta:\n",
    "        # gradient\n",
    "        grad_theta = np.mean([grad_alpha(th[k],X[:,:,i]) for i in range(N)]) \n",
    "\n",
    "        # |gradient|\n",
    "        abs_grad_theta = abs(grad_theta)\n",
    "\n",
    "        # constant\n",
    "        L_theta = np.maximum(abs_grad_theta, L_theta)\n",
    "\n",
    "        # sum of gradients\n",
    "        grad_theta_sum += grad_theta\n",
    "        abs_grad_theta_sum += abs_grad_theta\n",
    "\n",
    "        # 'reward'\n",
    "        reward_theta = np.maximum(reward_theta + np.multiply(th[k] - theta0, grad_theta), 0)\n",
    "\n",
    "        # theta update\n",
    "        th = np.append(th, theta0 + grad_theta_sum / (L_theta * (abs_grad_theta_sum + L_theta)) * (L_theta + reward_theta))  # Update theta.\n",
    "    return th, X\n",
    "\n",
    "\n",
    "\n",
    "def pqn(l, f, h, K, N, th, X):\n",
    "    D = f[0, :].size  # Extract latent variable dimension.\n",
    "    for k in range(K):\n",
    "        Xk = X[:, -N:]  # Extract current particle cloud.\n",
    "        # Update particle cloud:\n",
    "        Xkp1 = (Xk + h*grad_x(th[k], Xk, l, f)\n",
    "                   + np.sqrt(2*h)*np.random.normal(0, 1, (D, N)))\n",
    "        X = np.append(X, Xkp1, axis=1)  # Store updated cloud.\n",
    "        # Update theta:\n",
    "        th = np.append(th, th[k] \n",
    "                           + h*(ave_neg_hess_th(D)**-1)*ave_grad_th(th[k], Xk))  \n",
    "    return th, X\n",
    "\n",
    "\n",
    "def pmgd(l, f, h, K, N, th, X):\n",
    "    D = f[0, :].size  # Extract latent variable dimension.\n",
    "    for k in range(K):\n",
    "        Xk = X[:, -N:]  # Extract current particle cloud.\n",
    "        # Update particle cloud:\n",
    "        Xkp1 = (Xk + h*grad_x(th[k], Xk, l, f)\n",
    "                   + np.sqrt(2*h)*np.random.normal(0, 1, (D, N)))\n",
    "        X = np.append(X, Xkp1, axis=1)  # Store updated cloud.\n",
    "        th = np.append(th, theta_opt(Xkp1))  # Update theta.\n",
    "    return th, X\n",
    "\n",
    "\n",
    "def soul(l, f, h, K, N, th, X):\n",
    "    D = f[0, :].size  # Extract latent variable dimension.\n",
    "    for k in range(K):\n",
    "        # Run ULA chain:\n",
    "        for n in range(N):\n",
    "            Xkn = X[:, -1].reshape(D, 1)  # Extract current particle position.\n",
    "            # Take a step:\n",
    "            Xknp1 = (Xkn + h*grad_x(th[k], Xkn, l, f)\n",
    "                          + np.sqrt(2*h)*np.random.normal(0, 1, (D, 1)))\n",
    "            X = np.append(X, Xknp1, axis=1)  # Store new particle position.\n",
    "        th = np.append(th, th[k] + h*ave_grad_th(th[k], X[:, -N:]))  # Update theta.\n",
    "    return th, X\n",
    "\n",
    "\n",
    "# Auxiliary functions.\n",
    "\n",
    "def ave_grad_th(th, x):\n",
    "    \"\"\"Returns theta-gradient of log density averaged over particle cloud.\"\"\"\n",
    "    return ((x-th).sum(0)).mean()/5\n",
    "\n",
    "\n",
    "def ave_neg_hess_th(D):\n",
    "    \"\"\"Returns negative-theta-Hessian of log density averaged over particles.\n",
    "    \"\"\"\n",
    "    return D/5\n",
    "\n",
    "\n",
    "def grad_x(th, x, l, f):\n",
    "    \"\"\"Returns x-gradient of log density vectorized over particles.\"\"\"\n",
    "    s = 1/(1+np.exp(- np.matmul(f, x)))\n",
    "    return np.matmul((l-s).transpose(), f).transpose() - (x-th)/5\n",
    "\n",
    "def softplus(x):\n",
    "    return np.log1p(np.exp(-np.abs(x))) + np.maximum(x, 0)\n",
    "\n",
    "\n",
    "def theta_opt(X):\n",
    "    return X.mean()  # Return optimal parameter for particle cloud X.\n",
    "\n",
    "def svgd_kernel(theta, h = -1):\n",
    "    sq_dist = pdist(theta)\n",
    "    pairwise_dists = squareform(sq_dist) ** 2\n",
    "\n",
    "    # if h < 0, using median trick\n",
    "    if h < 0:\n",
    "        h = np.median(pairwise_dists)\n",
    "        h = np.sqrt(0.5 * h / np.log(theta.shape[0] + 1))\n",
    "\n",
    "    # rbf kernel\n",
    "    kxy = np.exp(-pairwise_dists / h ** 2 / 2)\n",
    "\n",
    "    # rbf kernel grad\n",
    "    dx_kxy = -np.matmul(kxy, theta)\n",
    "    sum_kxy = np.sum(kxy, axis=1)\n",
    "\n",
    "    for i in range(theta.shape[1]):\n",
    "        dx_kxy[:, i] = dx_kxy[:, i] + np.multiply(theta[:, i], sum_kxy)\n",
    "\n",
    "    dx_kxy = dx_kxy / (h ** 2)\n",
    "\n",
    "    return kxy, dx_kxy\n",
    "\n",
    "grad_alpha = grad(log_target, 0)\n",
    "grad_x = grad(log_target,1)"
   ]
  },
  {
   "attachments": {},
   "cell_type": "markdown",
   "metadata": {
    "id": "DFb772_telnV"
   },
   "source": [
    "## Run the various algorithms and plot the latent representation"
   ]
  },
  {
   "attachments": {},
   "cell_type": "markdown",
   "metadata": {
    "id": "kKT-6l_6urur"
   },
   "source": [
    "We run the algorithms using an 80/20 training/test split of the data:"
   ]
  },
  {
   "cell_type": "code",
   "execution_count": 6,
   "metadata": {
    "id": "5WG-_AlQR_S_"
   },
   "outputs": [
    {
     "name": "stderr",
     "output_type": "stream",
     "text": [
      "/Users/christophernemeth/Library/Python/3.9/lib/python/site-packages/jax/_src/numpy/lax_numpy.py:2009: ComplexWarning: Casting complex values to real discards the imaginary part\n",
      "  out_array: Array = lax_internal._convert_element_type(out, dtype, weak_type=weak_type)\n"
     ]
    }
   ],
   "source": [
    "# Set approximation parameters:\n",
    "h = 1e-2 # Step-size. \n",
    "K = 100  # Number of steps.\n",
    "N = 10  # Number of particles.\n",
    "D = y.shape[0]\n",
    "\n",
    "# Initialize the latent positions using the random dot product graph latent representation\n",
    "Lambda, U = jnp.linalg.eig(y)\n",
    "x_latent = jnp.dot(U[:,:2],np.diag(np.sqrt(np.sort(np.abs(Lambda))[::-1][:2])))\n",
    "x_latent = jnp.asarray(x_latent,dtype=float)\n",
    "\n",
    "# Initialize parameter estimates and particle cloud, all at zero:\n",
    "th0 = jnp.array([[1.0]])  # Parameter estimate.\n",
    "key, x_key = random.split(key, 2)\n",
    "X0 = 0.01*random.normal(x_key,(D, 2, N))\n",
    "for i in range(N):\n",
    "    X0.at[:,:,i].set(X0[:,:,i]+x_latent)\n",
    "\n",
    "# Run algorithms:\n",
    "#th_vi, X_vi, m_vi, s_vi = vi(ltrain, ftrain, h, K, N, th0, X0)\n",
    "th_pgd, X_pgd = pgd(y, h, K, N, th0, X0)\n",
    "#th_pqn, X_pqn = pqn(ltrain, ftrain, h, K, N, th0, X0)\n",
    "#th_pmgd, X_pmgd = pmgd(ltrain, ftrain, h, K, N, th0, X0)\n",
    "#th_soul, X_soul = soul(ltrain, ftrain, h, K, N, th0, X0)\n",
    "th_coin, X_coin = coin(y, K, N, th0, X0)\n"
   ]
  },
  {
   "cell_type": "code",
   "execution_count": 7,
   "metadata": {},
   "outputs": [
    {
     "data": {
      "image/png": "[encoded data removed]",
      "text/plain": [
       "<Figure size 800x800 with 1 Axes>"
      ]
     },
     "metadata": {},
     "output_type": "display_data"
    }
   ],
   "source": [
    "import pandas as pd\n",
    "\n",
    "avg_X_coin = jnp.mean(X_coin,axis=2)\n",
    "avg_X_pgd = jnp.mean(X_pgd,axis=2)\n",
    "\n",
    "names = [\"John Bosco\", \"Gregory\", \"Basil\", \"Peter\", \"Bonaventure\", \"Berthold\", \"Mark\", \"Victor\", \"Ambrose\", \"Romauld\", \"Louis\", \"Winfrid\", \"Amand\", \"Hugh\", \"Boniface\", \"Albert\", \"Elias\", \"Simplicius\"]\n",
    "numbers = [str(a) for a in np.arange(1,19)]\n",
    "group = [\"Turks\", \"Turks\", \"Outcasts\", \"Loyal\", \"Loyal\", \"Loyal\", \"Turks\", \"Loyal\", \"Loyal\", \"Loyal\", \"Loyal\", \"Turks\", \"Outcasts\", \"Turks\", \"Turks\", \"Turks\", \"Outcasts\", \"Outcasts\"]\n",
    "waverers = [\"Turks\", \"Turks\", \"Outcasts\", \"Loyal\", \"Loyal\", \"Loyal\", \"Turks\", \"Waverers\", \"Loyal\", \"Waverers\", \"Loyal\", \"Turks\", \"Waverers\", \"Turks\", \"Turks\", \"Turks\", \"Outcasts\", \"Outcasts\"]\n",
    "\n",
    "data = pd.DataFrame({\"X\": avg_X_pgd[:,0], \"Y\": avg_X_pgd[:,1], \"Group\": waverers})\n",
    "groups = data.groupby(\"Group\")\n",
    "fig = plt.figure(figsize=(8,8), dpi= 100)\n",
    "for name, group in groups:\n",
    "    plt.plot(np.asarray(group[\"X\"]), np.asarray(group[\"Y\"]), marker=\"o\", linestyle=\"\", label=name)\n",
    "plt.legend()\n",
    "#plt.scatter(avg_X_pgd[:,0],avg_X_pgd[:,1])\n",
    "for i in range(D):\n",
    "    plt.text(x=avg_X_pgd[i,0]+0.003,y=avg_X_pgd[i,1]+0.003,s=numbers[i],fontdict=dict(color='red',size=10),bbox=dict(facecolor='yellow',alpha=0.5))"
   ]
  },
  {
   "attachments": {},
   "cell_type": "markdown",
   "metadata": {},
   "source": [
    "# Plot the results from the random dot product graph"
   ]
  },
  {
   "cell_type": "code",
   "execution_count": 8,
   "metadata": {},
   "outputs": [
    {
     "data": {
      "image/png": "[encoded data removed]",
      "text/plain": [
       "<Figure size 800x800 with 1 Axes>"
      ]
     },
     "metadata": {},
     "output_type": "display_data"
    }
   ],
   "source": [
    "import pandas as pd\n",
    "\n",
    "\n",
    "names = [\"John Bosco\", \"Gregory\", \"Basil\", \"Peter\", \"Bonaventure\", \"Berthold\", \"Mark\", \"Victor\", \"Ambrose\", \"Romauld\", \"Louis\", \"Winfrid\", \"Amand\", \"Hugh\", \"Boniface\", \"Albert\", \"Elias\", \"Simplicius\"]\n",
    "numbers = [str(a) for a in np.arange(1,19)]\n",
    "group = [\"Turks\", \"Turks\", \"Outcasts\", \"Loyal\", \"Loyal\", \"Loyal\", \"Turks\", \"Loyal\", \"Loyal\", \"Loyal\", \"Loyal\", \"Turks\", \"Outcasts\", \"Turks\", \"Turks\", \"Turks\", \"Outcasts\", \"Outcasts\"]\n",
    "waverers = [\"Turks\", \"Turks\", \"Outcasts\", \"Loyal\", \"Loyal\", \"Loyal\", \"Turks\", \"Waverers\", \"Loyal\", \"Waverers\", \"Loyal\", \"Turks\", \"Waverers\", \"Turks\", \"Turks\", \"Turks\", \"Outcasts\", \"Outcasts\"]\n",
    "\n",
    "data = pd.DataFrame({\"X\": x_latent[:,0], \"Y\": x_latent[:,1], \"Group\": waverers})\n",
    "groups = data.groupby(\"Group\")\n",
    "fig = plt.figure(figsize=(8,8), dpi= 100)\n",
    "for name, group in groups:\n",
    "    plt.plot(np.asarray(group[\"X\"]), np.asarray(group[\"Y\"]), marker=\"o\", linestyle=\"\", label=name)\n",
    "plt.legend()\n",
    "#plt.scatter(avg_X_pgd[:,0],avg_X_pgd[:,1])\n",
    "for i in range(D):\n",
    "    plt.text(x=x_latent[i,0]+0.03,y=x_latent[i,1]+0.03,s=numbers[i],fontdict=dict(color='red',size=10),bbox=dict(facecolor='yellow',alpha=0.5))"
   ]
  },
  {
   "attachments": {},
   "cell_type": "markdown",
   "metadata": {
    "id": "6woA0pl4fEaB"
   },
   "source": [
    "And plot the parameter estimates as a function of k:"
   ]
  },
  {
   "cell_type": "code",
   "execution_count": 9,
   "metadata": {
    "colab": {
     "base_uri": "https://localhost:8080/",
     "height": 282
    },
    "id": "R1XfFt7HfPDQ",
    "outputId": "bb276909-3f43-4350-9925-e979e4997560"
   },
   "outputs": [
    {
     "data": {
      "text/plain": [
       "<matplotlib.legend.Legend at 0x17f9618b0>"
      ]
     },
     "execution_count": 9,
     "metadata": {},
     "output_type": "execute_result"
    },
    {
     "data": {
      "image/png": "[encoded data removed]",
      "text/plain": [
       "<Figure size 640x480 with 1 Axes>"
      ]
     },
     "metadata": {},
     "output_type": "display_data"
    }
   ],
   "source": [
    "#plt.plot(th_vi, label='VI')\n",
    "plt.plot(th_pgd, label='PGD')\n",
    "#plt.xlim([-K/100, K])\n",
    "#plt.plot(th_pqn, label='PQN')\n",
    "#plt.plot(th_pmgd, label='PMGD')\n",
    "#plt.plot(th_soul, label='SOUL')\n",
    "plt.plot(th_coin, label='Coin')\n",
    "plt.legend(loc='upper right')"
   ]
  },
  {
   "attachments": {},
   "cell_type": "markdown",
   "metadata": {
    "id": "kgyOR3kTgIBG"
   },
   "source": [
    "The estimates produced by all five algorithms converge to the same limit after similar transients. To observe more significant differences between the algorithms' outputs, we examine the posterior approximations they return..."
   ]
  }
 ],
 "metadata": {
  "colab": {
   "include_colab_link": true,
   "provenance": []
  },
  "kernelspec": {
   "display_name": "Python 3 (ipykernel)",
   "language": "python",
   "name": "python3"
  },
  "language_info": {
   "codemirror_mode": {
    "name": "ipython",
    "version": 3
   },
   "file_extension": ".py",
   "mimetype": "text/x-python",
   "name": "python",
   "nbconvert_exporter": "python",
   "pygments_lexer": "ipython3",
   "version": "3.10.9"
  }
 },
 "nbformat": 4,
 "nbformat_minor": 1
}
