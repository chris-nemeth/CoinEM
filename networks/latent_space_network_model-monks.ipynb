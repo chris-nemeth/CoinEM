{
 "cells": [
  {
   "attachments": {},
   "cell_type": "markdown",
   "metadata": {
    "colab_type": "text",
    "id": "view-in-github"
   },
   "source": [
    "<a href=\"https://colab.research.google.com/github/juankuntz/ParEM/blob/main/jax/bayesian_logistic_regression.ipynb\" target=\"_parent\"><img src=\"https://colab.research.google.com/assets/colab-badge.svg\" alt=\"Open In Colab\"/></a>"
   ]
  },
  {
   "attachments": {},
   "cell_type": "markdown",
   "metadata": {
    "id": "B5E8v2cZ6Zkf"
   },
   "source": [
    "**Description:** This notebook demonstrates the application of PGD, PQN, PMGD, SOUL, and VI to the Bayesian latent space network model from Hoff et al. (2002). "
   ]
  },
  {
   "attachments": {},
   "cell_type": "markdown",
   "metadata": {
    "id": "XotQU1Ootpi6"
   },
   "source": [
    "# Latent space network model - Sampson Monks Data"
   ]
  },
  {
   "attachments": {},
   "cell_type": "markdown",
   "metadata": {
    "id": "ErKddtPzM3_H"
   },
   "source": [
    "First, we load the modules that we will need:"
   ]
  },
  {
   "cell_type": "code",
   "execution_count": 1,
   "metadata": {
    "cellView": "form",
    "colab": {
     "base_uri": "https://localhost:8080/"
    },
    "id": "QRkQ4RDsIAGf",
    "outputId": "d1eb59f0-7eb0-43da-a2ba-ff43b2c01b07"
   },
   "outputs": [],
   "source": [
    "import os\n",
    "from scipy.stats import norm\n",
    "from scipy.spatial.distance import pdist, squareform\n",
    "from scipy.spatial import procrustes\n",
    "\n",
    "# Numpy for computations.\n",
    "import numpy as np\n",
    "import jax.numpy as jnp\n",
    "from jax import grad, jit, vmap\n",
    "from jax import random\n",
    "\n",
    "key = random.PRNGKey(0)\n",
    "\n",
    "# Pyplot for plots.\n",
    "import matplotlib.pyplot as plt "
   ]
  },
  {
   "cell_type": "markdown",
   "metadata": {},
   "source": [
    "We load the network data as a $D \\times D$ binary adjacency matrix. Sampson (1968) collected data on a variety of interpersonal relations among 18 monks. Of particular interest has been the data on positive affect relations, in which each monk was asked whether he had positive relations to each of the other monks. Based on the network and other data, Sampson originally classified each monk as belonging to one of four groups: the loyal opposition, the young Turks, the outcasts, or the waverers.   "
   ]
  },
  {
   "cell_type": "code",
   "execution_count": 2,
   "metadata": {},
   "outputs": [],
   "source": [
    "from load_monks import load_monks\n",
    "\n",
    "# Load Sampson's monastery network\n",
    "Y, labels, names = load_monks(dynamic=True, is_directed=False)\n",
    "y=jnp.asarray(Y[0]) #the data is recorded over several time points, so we just choose one."
   ]
  },
  {
   "cell_type": "markdown",
   "metadata": {},
   "source": [
    "The data we model consist of an $D \\times D$ matrix Y, with each entry $y_{i,j}$ denoting the value of the relation from node $i$ to node $j$. We focus on binary-valued relations, although this could be extended to more general relations, e.g. count data or weighted networks. These extensions to more general relations are essentially alternative generalised linear models. Both directed and undirected relations can be analysed with the following model.\n",
    "\n",
    "We take a conditional independence approach to modeling by assuming that the presence or absence of a tie between two individuals (i.e. nodes) is independent of all other ties in the system, given the unobserved positions in social space of the two individuals,\n",
    "\n",
    "$P(Y|X,\\theta) = \\prod_{i \\neq j} P(y_{i,j}|x_{i,j},\\theta)$.\n",
    "\n",
    "A convenient model for $P(y_{i,j}|x_{i,j},\\theta)$ is the logistic regression model, where the probability of a tie between nodes $i$ and $j$ depends on the Euclidean distance between $x_i$ and $x_j$,\n",
    "\n",
    "$\\eta_{i,j} = \\mbox{log-odds}(y_{i,j}=1|x_i, x_j, \\theta) = \\alpha - ||x_i-x_j||.$"
   ]
  },
  {
   "cell_type": "code",
   "execution_count": 1,
   "metadata": {},
   "outputs": [],
   "source": [
    "#log-target density p_theta(y,x)\n",
    "def log_target(th, z):\n",
<<<<<<< HEAD
    "    dist = jnp.sqrt(jnp.sum((z[None, :] - z[:, None])**2, -1)+10e-6)\n",
    "    eta = th - dist\n",
    "    log_prior =  -jnp.sum(jnp.dot(z.T,z))  \n",
    "    log_lik = jnp.sum(jnp.multiply(y,eta) - jnp.log1p(jnp.exp(eta)))\n",
    "    return log_lik + log_prior"
=======
    "\n",
    "    \n",
    "\n",
    "    dist = jnp.matmul(z,z.T)/jnp.linalg.norm(z,axis=1)\n",
    "    #dist = jnp.sqrt(jnp.sum((z[None, :] - z[:, None])**2, -1))\n",
    "    eta = th - dist\n",
    "    log_prior =  -jnp.sum(jnp.dot(z.T,z))  \n",
    "    log_lik = jnp.sum(jnp.multiply(y,eta) - jnp.log1p(jnp.exp(eta)))\n",
    "    return log_lik + log_prior\n",
    "\n",
    "#def log_target(th, z):\n",
    "#    #dist = jnp.matmul(z,z.T)/jnp.linalg.norm(z,axis=1)\n",
    "#    dist = (jnp.sqrt(jnp.sum((z[None, :] - z[:, None])**2, -1))).flatten()\n",
    "#    eta = th - dist\n",
    "#    log_prior =  -jnp.sum(jnp.dot(z.T,z))  \n",
    "#    log_lik = jnp.sum(y.flatten()*eta - jnp.log1p(jnp.exp(eta)))\n",
    "#    return log_lik + log_prior\n"
   ]
  },
  {
   "attachments": {},
   "cell_type": "markdown",
   "metadata": {
    "id": "R6VBGWiUNBLA"
   },
   "source": [
    "Next, we load and curate the dataset:"
   ]
  },
  {
   "cell_type": "code",
   "execution_count": 4,
   "metadata": {
    "cellView": "form",
    "id": "mENE7XXBNLf0"
   },
   "outputs": [],
   "source": [
    "# Sampson monk data\n",
    "\n",
    "#y = np.asarray([[0, 0, 1, 0, 1, 0, 0, 0, 0, 0, 0, 0, 0, 1, 0, 0, 0, 0],\n",
    "#[1, 0, 0, 0, 0, 0, 1, 0, 0, 0, 0, 0, 0, 1, 0, 0, 0, 0],\n",
    "#[1, 1, 0, 0, 0, 0, 0, 0, 0, 0, 0, 0, 0, 0, 0, 0, 1, 0],\n",
    "#[0, 0, 0, 0, 1, 1, 0, 0, 0, 1, 0, 0, 0, 0, 0, 0, 0, 0],\n",
    "#[0, 0, 0, 1, 0, 0, 0, 0, 0, 0, 1, 0, 1, 0, 0, 0, 0, 0],\n",
    "#[1, 0, 0, 1, 0, 0, 0, 0, 1, 0, 0, 0, 0, 0, 0, 0, 0, 0],\n",
    "#[0, 1, 0, 0, 0, 0, 0, 1, 0, 0, 0, 0, 0, 0, 0, 1, 0, 0],\n",
    "#[1, 1, 0, 0, 0, 0, 0, 0, 1, 0, 0, 0, 0, 0, 0, 0, 0, 0],\n",
    "#[0, 0, 0, 0, 1, 0, 0, 1, 0, 0, 0, 0, 0, 0, 0, 1, 0, 0],\n",
    "#[0, 0, 0, 1, 0, 0, 0, 1, 0, 0, 0, 0, 0, 1, 0, 0, 0, 0],\n",
    "#[0, 0, 0, 0, 1, 0, 0, 1, 0, 0, 0, 0, 0, 1, 0, 0, 0, 0],\n",
    "#[1, 1, 0, 0, 0, 0, 0, 0, 0, 0, 0, 0, 0, 1, 0, 0, 0, 0],\n",
    "#[0, 0, 0, 0, 1, 0, 1, 0, 0, 0, 0, 0, 0, 0, 0, 0, 0, 1],\n",
    "#[1, 0, 0, 0, 0, 0, 0, 0, 0, 0, 1, 1, 0, 0, 1, 0, 0, 0],\n",
    "#[1, 1, 0, 0, 0, 0, 0, 0, 0, 0, 0, 0, 0, 1, 0, 0, 0, 0],\n",
    "#[1, 1, 0, 0, 0, 0, 1, 0, 0, 0, 0, 0, 0, 0, 0, 0, 0, 0],\n",
    "#[0, 0, 1, 0, 0, 0, 0, 0, 0, 0, 0, 0, 1, 0, 0, 0, 0, 1],\n",
    "#[1, 1, 0, 0, 0, 0, 1, 0, 0, 0, 0, 0, 0, 0, 0, 0, 0, 0]])\n",
    "\n"
>>>>>>> 9f83fad (Add network versions of the algorithms.)
   ]
  },
  {
   "attachments": {},
   "cell_type": "markdown",
   "metadata": {
    "id": "9Rf35vq3IC7T"
   },
   "source": [
    "We then implement the algorithms. They take the following inputs:\n",
    "\n",
    "*   y : D x D adjacency matrix,\n",
    "*   h : step size parameter \n",
    "*   K : number of steps,\n",
    "*   N : number of particles,\n",
    "*   th : 1-dimensional vector with parameter guess,\n",
    "*   X : D x N matrix storing the initial particle cloud.\n",
    "\n",
    "The following inference algorithms return the following outputs:\n",
    "\n",
    "*   th : K-dimensional vector of parameter estimates,\n",
    "*   X : [D, 2, N]) matrix storing the particle clouds, assuming a 2-dimensional latent space."
   ]
  },
  {
   "cell_type": "code",
   "execution_count": 4,
   "metadata": {
    "cellView": "form",
    "id": "LtqjvuN98ZmU"
   },
   "outputs": [],
   "source": [
    "#@title Implement algorithms\n",
    "\n",
    "# Algorithms.\n",
    "\n",
    "#Particle gradient descent\n",
    "def pgd(y, h, K, N, th, X):\n",
    "    D = X[:,:,0].shape  # Extract latent variable dimension.\n",
    "    \n",
    "    for k in range(K):\n",
    "        #Update particle cloud:\n",
    "        Xkp1 = np.copy(X)\n",
    "        gx = [grad_x(th[k],X[:,:,i]) for i in range(N)]\n",
    "        for i in range(N):\n",
    "            Xkp1[:,:,i] =  X[:,:,i] + h*gx[i] + np.sqrt(2*h)*np.random.normal(0, 1, D)\n",
    "        X = np.copy(Xkp1)\n",
    "        th = np.append(th, th[k] + h*np.mean([grad_theta(th[k],X[:,:,i]) for i in range(N)]))  # Update theta.\n",
    "    return th, X\n",
    "\n",
    "#Coin version of the PGD function\n",
    "def coin(y, K, N, th, X):\n",
    "    theta0 = np.copy(th)\n",
    "    x_shape = X.shape\n",
    "    X0 = X.reshape(-1,X.shape[-1])\n",
    "\n",
    "    # initialise other vars for X and theta\n",
    "    L_theta, L_X = 0, 0\n",
    "    grad_theta_sum, grad_Xk_sum = 0, 0\n",
    "    reward_theta, reward_X = 0, 0\n",
    "    abs_grad_theta_sum, abs_grad_Xk_sum = 0, 0\n",
    "    for k in range(K):\n",
    "        Xk = X.reshape(-1,X.shape[-1])  # Extract current particle cloud.\n",
    "        # Update particle cloud:\n",
    "        \n",
    "        # calculate kernel matrix\n",
    "        kxy, dx_kxy = svgd_kernel(Xk, h=-1)\n",
    "\n",
    "        # gradient\n",
    "        gx = [grad_x(th[k],X[:,:,i]).flatten() for i in range(N)]\n",
    "        grad_Xk = (np.matmul(kxy, np.asarray(gx).T) + dx_kxy) \n",
    "\n",
    "        # |gradient|\n",
    "        abs_grad_Xk = abs(grad_Xk)\n",
    "\n",
    "        # constant\n",
    "        L_X = np.maximum(abs_grad_Xk, L_X)\n",
    "\n",
    "        # sum of gradients\n",
    "        grad_Xk_sum += grad_Xk\n",
    "        abs_grad_Xk_sum += abs_grad_Xk\n",
    "\n",
    "        # 'reward'\n",
    "        reward_X = np.maximum(reward_X + np.multiply(Xk - X0, grad_Xk), 0)\n",
    "\n",
    "        # X update\n",
    "        Xkp1 = X0 + grad_Xk_sum / (L_X * (abs_grad_Xk_sum + L_X)) * (L_X + reward_X)\n",
    "        \n",
    "        X = Xkp1.reshape(x_shape)\n",
    "        \n",
    "        # Update theta:\n",
    "        # gradient\n",
    "        grad_th = np.mean([grad_theta(th[k],X[:,:,i]) for i in range(N)]) \n",
    "\n",
    "        # |gradient|\n",
    "        abs_grad_theta = abs(grad_th)\n",
    "\n",
    "        # constant\n",
    "        L_theta = np.maximum(abs_grad_theta, L_theta)\n",
    "\n",
    "        # sum of gradients\n",
    "        grad_theta_sum += grad_th\n",
    "        abs_grad_theta_sum += abs_grad_theta\n",
    "\n",
    "        # 'reward'\n",
    "        reward_theta = np.maximum(reward_theta + np.multiply(th[k] - theta0, grad_th), 0)\n",
    "\n",
    "        # theta update\n",
    "        th = np.append(th, theta0 + grad_theta_sum / (L_theta * (abs_grad_theta_sum + L_theta)) * (L_theta + reward_theta))  # Update theta.\n",
    "    return th, X\n",
    "\n",
    "\n",
    "\n",
    "# Auxiliary functions.\n",
    "\n",
    "def svgd_kernel(theta, h = -1):\n",
    "    sq_dist = pdist(theta)\n",
    "    pairwise_dists = squareform(sq_dist) ** 2\n",
    "\n",
    "    # if h < 0, using median trick\n",
    "    if h < 0:\n",
    "        h = np.median(pairwise_dists)\n",
    "        h = np.sqrt(0.5 * h / np.log(theta.shape[0] + 1))\n",
    "\n",
    "    # rbf kernel\n",
    "    kxy = np.exp(-pairwise_dists / h ** 2 / 2)\n",
    "\n",
    "    # rbf kernel grad\n",
    "    dx_kxy = -np.matmul(kxy, theta)\n",
    "    sum_kxy = np.sum(kxy, axis=1)\n",
    "\n",
    "    for i in range(theta.shape[1]):\n",
    "        dx_kxy[:, i] = dx_kxy[:, i] + np.multiply(theta[:, i], sum_kxy)\n",
    "\n",
    "    dx_kxy = dx_kxy / (h ** 2)\n",
    "\n",
    "    return kxy, dx_kxy\n",
    "\n",
    "def procrustes_transform(X, mle):\n",
    "    Xtrans = np.copy(X)\n",
    "    for i in range(N):\n",
    "        _, Xtrans[:,:,i], _ = procrustes(mle, X[:,:,i])    \n",
    "    return Xtrans\n",
    " \n",
    "#Autodiff for gradients wrt theta and X    \n",
    "grad_theta = grad(log_target, 0)\n",
    "grad_x = grad(log_target,1)"
   ]
  },
  {
   "attachments": {},
   "cell_type": "markdown",
   "metadata": {
    "id": "DFb772_telnV"
   },
   "source": [
    "## Run the inference algorithms to learn $\\theta$ and the latent positions of the network nodes $X$. "
   ]
  },
  {
   "attachments": {},
   "cell_type": "markdown",
   "metadata": {
    "id": "kKT-6l_6urur"
   },
   "source": [
    "We start by running a simple gradient descent algorithm to find the maximum likelihood estimate for $\\theta$ and $X$."
   ]
  },
  {
   "cell_type": "code",
   "execution_count": 5,
   "metadata": {},
   "outputs": [
    {
     "name": "stdout",
     "output_type": "stream",
     "text": [
      "Log_target -193.75166\n",
      "theta [[-0.36683607]]\n",
      "Log_target -150.27016\n",
      "theta [[0.38740075]]\n",
      "Log_target -150.27014\n",
      "theta [[0.38793546]]\n",
      "Log_target -150.27014\n",
      "theta [[0.38793546]]\n",
      "Log_target -150.27014\n",
      "theta [[0.38793546]]\n",
      "Log_target -150.27014\n",
      "theta [[0.38793546]]\n",
      "Log_target -150.27014\n",
      "theta [[0.38793546]]\n",
      "Log_target -150.27014\n",
      "theta [[0.38793546]]\n",
      "Log_target -150.27014\n",
      "theta [[0.38793546]]\n",
      "Log_target -150.27014\n",
      "theta [[0.38793546]]\n"
     ]
    }
   ],
   "source": [
    "#Find the MLE\n",
    "D = y.shape[0]\n",
    "# Initialize parameter estimates and particle cloud, all at zero:\n",
    "key, x_key = random.split(key, 2)\n",
    "th = jnp.array([[1.0]])\n",
    "x = 0.1*random.normal(x_key,(D, 2))\n",
    "\n",
    "lr = 0.01\n",
    "for step in range(10000):\n",
    "    x_grad = grad_x(th,x)\n",
    "    x += lr*x_grad\n",
    "    th_grad = grad_theta(th,x) \n",
    "    th += lr*th_grad\n",
    "    if step % 1000 == 0:\n",
    "        print('Log_target', log_target(th,x))\n",
    "        print('theta',th)\n",
    "Xmle = x\n",
    "\n",
    "#Because reflections, rotations and translations of X will lead to the same likelihood value, so use a procrustean transformation X to a reference set X0.\n",
    "Xmle, _ ,_ = procrustes(random.normal(x_key,(D, 2)), x)  "
   ]
  },
  {
   "cell_type": "code",
   "execution_count": 6,
   "metadata": {
    "id": "5WG-_AlQR_S_"
   },
   "outputs": [],
   "source": [
    "# Set approximation parameters:\n",
    "h = 1e-2 # Step-size. \n",
    "K = 1000  # Number of steps.\n",
    "N = 10  # Number of particles.\n",
    "D = y.shape[0]\n",
    "\n",
    "# Initialize parameter estimates and particle cloud, all at zero:\n",
    "th0 = th  # Parameter estimate.\n",
    "key, x_key = random.split(key, 2)\n",
    "X0 = 0.01*random.normal(x_key,(D, 2, N))\n",
    "for i in range(N):\n",
    "    X0.at[:,:,i].set(X0[:,:,i]+Xmle)\n",
    "\n",
    "# Run algorithms:\n",
    "#th_vi, X_vi, m_vi, s_vi = vi(ltrain, ftrain, h, K, N, th0, X0)\n",
    "th_pgd, X_pgd = pgd(y, h, K, N, th0, X0)\n",
    "th_coin, X_coin = coin(y, K, N, th0, X0)\n",
    "\n",
    "  \n",
    "#Procrustes transformation - post-processing step\n",
    "X_pgd = procrustes_transform(X_pgd, Xmle)\n",
    "X_coin = procrustes_transform(X_coin, Xmle)"
   ]
  },
  {
   "cell_type": "code",
   "execution_count": 7,
   "metadata": {},
   "outputs": [
    {
     "data": {
      "image/png": "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",
      "text/plain": [
       "<Figure size 800x800 with 1 Axes>"
      ]
     },
     "metadata": {},
     "output_type": "display_data"
    }
   ],
   "source": [
    "#Plot the output from the algorithms\n",
    "   \n",
    "import pandas as pd\n",
    "\n",
    "avg_X_coin = jnp.mean(X_coin,axis=2)\n",
    "avg_X_pgd = jnp.mean(X_pgd,axis=2)\n",
    "\n",
    "names = [\"John Bosco\", \"Gregory\", \"Basil\", \"Peter\", \"Bonaventure\", \"Berthold\", \"Mark\", \"Victor\", \"Ambrose\", \"Romauld\", \"Louis\", \"Winfrid\", \"Amand\", \"Hugh\", \"Boniface\", \"Albert\", \"Elias\", \"Simplicius\"]\n",
    "numbers = [str(a) for a in np.arange(1,19)]\n",
    "group = [\"Turks\", \"Turks\", \"Outcasts\", \"Loyal\", \"Loyal\", \"Loyal\", \"Turks\", \"Loyal\", \"Loyal\", \"Loyal\", \"Loyal\", \"Turks\", \"Outcasts\", \"Turks\", \"Turks\", \"Turks\", \"Outcasts\", \"Outcasts\"]\n",
    "waverers = [\"Turks\", \"Turks\", \"Outcasts\", \"Loyal\", \"Loyal\", \"Loyal\", \"Turks\", \"Waverers\", \"Loyal\", \"Waverers\", \"Loyal\", \"Turks\", \"Waverers\", \"Turks\", \"Turks\", \"Turks\", \"Outcasts\", \"Outcasts\"]\n",
    "\n",
    "data = pd.DataFrame({\"X\": avg_X_coin[:,0], \"Y\": avg_X_coin[:,1], \"Group\": waverers})\n",
    "groups = data.groupby(\"Group\")\n",
    "\n",
    "fig = plt.figure(figsize=(8,8), dpi= 100)\n",
    "for name, group in groups:\n",
    "    plt.plot(np.asarray(group[\"X\"]), np.asarray(group[\"Y\"]), marker=\"o\", linestyle=\"\", label=name)\n",
    "plt.legend()\n",
    "#plt.scatter(avg_X_pgd[:,0],avg_X_pgd[:,1])\n",
    "for i in range(D):\n",
    "    plt.text(x=avg_X_coin[i,0]+0.001,y=avg_X_coin[i,1]+0.001,s=names[i],fontdict=dict(color='red',size=10),bbox=dict(facecolor='yellow',alpha=0.5))"
   ]
  },
  {
   "attachments": {},
   "cell_type": "markdown",
   "metadata": {},
   "source": [
    "The resulting latent represenation of the nodes clearly separates the Loyalists from the Outcasts. The Turks and Waverers fall between the Loyalist and Outcast groups. "
   ]
  },
  {
   "attachments": {},
   "cell_type": "markdown",
   "metadata": {
    "id": "6woA0pl4fEaB"
   },
   "source": [
    "And plot the parameter estimates for $\\theta$ as a function of iterations:"
   ]
  },
  {
   "cell_type": "code",
   "execution_count": 8,
   "metadata": {
    "colab": {
     "base_uri": "https://localhost:8080/",
     "height": 282
    },
    "id": "R1XfFt7HfPDQ",
    "outputId": "bb276909-3f43-4350-9925-e979e4997560"
   },
   "outputs": [
    {
     "data": {
      "text/plain": [
       "<matplotlib.legend.Legend at 0x28314b880>"
      ]
     },
     "execution_count": 8,
     "metadata": {},
     "output_type": "execute_result"
    },
    {
     "data": {
      "image/png": "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",
      "text/plain": [
       "<Figure size 640x480 with 1 Axes>"
      ]
     },
     "metadata": {},
     "output_type": "display_data"
    }
   ],
   "source": [
    "#plt.plot(th_vi, label='VI')\n",
    "plt.plot(th_pgd, label='PGD')\n",
    "plt.plot(th_coin, label='Coin')\n",
    "plt.legend(loc='upper right')"
   ]
<<<<<<< HEAD
=======
  },
  {
   "attachments": {},
   "cell_type": "markdown",
   "metadata": {
    "id": "kgyOR3kTgIBG"
   },
   "source": [
    "The estimates produced by all five algorithms converge to the same limit after similar transients. To observe more significant differences between the algorithms' outputs, we examine the posterior approximations they return..."
   ]
>>>>>>> 9f83fad (Add network versions of the algorithms.)
  }
 ],
 "metadata": {
  "colab": {
   "include_colab_link": true,
   "provenance": []
  },
  "kernelspec": {
   "display_name": "Python 3 (ipykernel)",
   "language": "python",
   "name": "python3"
  },
  "language_info": {
   "codemirror_mode": {
    "name": "ipython",
    "version": 3
   },
   "file_extension": ".py",
   "mimetype": "text/x-python",
   "name": "python",
   "nbconvert_exporter": "python",
   "pygments_lexer": "ipython3",
   "version": "3.10.9"
  }
 },
 "nbformat": 4,
 "nbformat_minor": 1
}
