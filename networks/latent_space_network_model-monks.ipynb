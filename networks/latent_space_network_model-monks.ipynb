{
 "cells": [
  {
   "cell_type": "markdown",
   "metadata": {
    "colab_type": "text",
    "id": "view-in-github"
   },
   "source": [
    "<a href=\"https://colab.research.google.com/github/juankuntz/ParEM/blob/main/jax/bayesian_logistic_regression.ipynb\" target=\"_parent\"><img src=\"https://colab.research.google.com/assets/colab-badge.svg\" alt=\"Open In Colab\"/></a>"
   ]
  },
  {
   "cell_type": "markdown",
   "metadata": {
    "id": "B5E8v2cZ6Zkf"
   },
   "source": [
    "**Description:** This notebook demonstrates the application of PGD, PQN, PMGD, SOUL, and VI to the Bayesian latent space network model from Hoff et al. (2002). "
   ]
  },
  {
   "cell_type": "markdown",
   "metadata": {
    "id": "XotQU1Ootpi6"
   },
   "source": [
    "# Latent space network model - Sampson Monks Data"
   ]
  },
  {
   "cell_type": "markdown",
   "metadata": {
    "id": "ErKddtPzM3_H"
   },
   "source": [
    "First, we load the modules that we will need:"
   ]
  },
  {
   "cell_type": "code",
   "execution_count": 1,
   "metadata": {
    "cellView": "form",
    "colab": {
     "base_uri": "https://localhost:8080/"
    },
    "id": "QRkQ4RDsIAGf",
    "outputId": "d1eb59f0-7eb0-43da-a2ba-ff43b2c01b07"
   },
   "outputs": [],
   "source": [
    "#@title Load modules.\n",
    "\n",
    "# Install the wget package on Colab (if running the notebook locally,\n",
    "# comment the following line out).\n",
    "#!pip install wget\n",
    "\n",
    "# OS and wget to load dataset.\n",
    "import os\n",
    "from scipy.stats import norm\n",
    "from scipy.spatial.distance import pdist, squareform\n",
    "from scipy.spatial import procrustes\n",
    "\n",
    "# Numpy for computations.\n",
    "import numpy as np\n",
    "import jax.numpy as jnp\n",
    "from jax import grad, jit, vmap\n",
    "from jax import random\n",
    "\n",
    "key = random.PRNGKey(0)\n",
    "\n",
    "# Pyplot for plots.\n",
    "import matplotlib.pyplot as plt "
   ]
  },
  {
   "cell_type": "code",
   "execution_count": 2,
   "metadata": {},
   "outputs": [],
   "source": [
    "from load_monks import load_monks\n",
    "\n",
    "# Load Sampson's monastery network\n",
    "Y, labels, names = load_monks(dynamic=True, is_directed=False)\n",
    "y=jnp.asarray(Y[0])"
   ]
  },
  {
   "cell_type": "code",
   "execution_count": 3,
   "metadata": {},
   "outputs": [],
   "source": [
    "#log-target density p_theta(y,x)\n",
    "def log_target(th, z):\n",
    "    #dist = jnp.matmul(z,z.T)/jnp.linalg.norm(z,axis=1)\n",
    "    dist = jnp.sqrt(jnp.sum((z[None, :] - z[:, None])**2, -1)+10e-6)\n",
    "    eta = th - dist\n",
    "    log_prior =  -jnp.sum(jnp.dot(z.T,z))  \n",
    "    log_lik = jnp.sum(jnp.multiply(y,eta) - jnp.log1p(jnp.exp(eta)))\n",
    "    return log_lik + log_prior"
   ]
  },
  {
   "cell_type": "markdown",
   "metadata": {
    "id": "R6VBGWiUNBLA"
   },
   "source": [
    "Next, we load and curate the dataset:"
   ]
  },
  {
   "cell_type": "markdown",
   "metadata": {
    "id": "9Rf35vq3IC7T"
   },
   "source": [
    "We then implement the algorithms. They take the following inputs:\n",
    "\n",
    "*   y : n x n adjacency matrix,\n",
    "*   Z : n x D latent positions\n",
    "*   K : number of steps,\n",
    "*   N : number of particles,\n",
    "*   th : 1-dimensional vector with parameter guess,\n",
    "*   X : D x N matrix storing the initial particle cloud.\n",
    "\n",
    "They return the following outputs:\n",
    "\n",
    "*   th : K-dimensional vector of parameter estimates,\n",
    "*   X : D x (KN) matrix storing the particle clouds (the kth cloud is X[:, (k-1)$^\\ast$N : k$^\\ast$N])."
   ]
  },
  {
   "cell_type": "code",
   "execution_count": 4,
   "metadata": {
    "cellView": "form",
    "id": "LtqjvuN98ZmU"
   },
   "outputs": [],
   "source": [
    "#@title Implement algorithms\n",
    "\n",
    "# Algorithms.\n",
    "\n",
    "def vi(l, f, h, K, N, th, X, mu=None):\n",
    "  D = f[0, :].size  # Extract latent variable dimension.\n",
    "  mu = np.zeros(D) if mu is None else mu\n",
    "  z = np.ones(D)\n",
    "  for k in range(K):\n",
    "    # update q\n",
    "    def loss(mu, z):\n",
    "      s2 = softplus(z)\n",
    "      x = (np.random.normal(0, 1, (N, D)) * s2 ** 0.5  + mu).T\n",
    "      log_prior =  - np.sum((x - th[k]) ** 2, 0) / 5  # Shape (N)\n",
    "      log_likel =  l * np.matmul(f, x) - np.log(1 + np.exp(np.matmul(f, x)))  # (M, N)\n",
    "      log_prob = np.sum(log_likel, 0)\n",
    "      entropy = 0.5 * np.sum(np.log(s2))\n",
    "      return np.mean(log_prob + log_prior, 0) + entropy\n",
    "    step_size = h\n",
    "    mu, z = mu + step_size * grad(loss, 0)(mu, z), z + step_size * grad(loss, 1)(mu, z)\n",
    "    s2 = softplus(z)\n",
    "    Xk = (np.random.normal(0, 1, (N, D)) * s2 ** 0.5 + mu).T\n",
    "    # update theta\n",
    "    th = np.append(th, th[k] + h*ave_grad_th(th[k], Xk))\n",
    "    X = np.append(X, Xk, axis=1) # Store updated cloud.\n",
    "  return th, X, mu, softplus(z)\n",
    "\n",
    "\n",
    "def pgd(y, h, K, N, th, X):\n",
    "    D = X[:,:,0].shape  # Extract latent variable dimension.\n",
    "    \n",
    "    for k in range(K):\n",
    "        #Update particle cloud:\n",
    "        Xkp1 = np.copy(X)\n",
    "        gx = [grad_x(th[k],X[:,:,i]) for i in range(N)]\n",
    "        for i in range(N):\n",
    "            Xkp1[:,:,i] =  X[:,:,i] + h*gx[i] + np.sqrt(2*h)*np.random.normal(0, 1, D)\n",
    "        X = np.copy(Xkp1)\n",
    "        th = np.append(th, th[k] + h*np.mean([grad_alpha(th[k],X[:,:,i]) for i in range(N)]))  # Update theta.\n",
    "    return th, X\n",
    "\n",
    "#Coin version of the PGD function\n",
    "def coin(y, K, N, th, X):\n",
    "    theta0 = np.copy(th)\n",
    "    x_shape = X.shape\n",
    "    X0 = X.reshape(-1,X.shape[-1])\n",
    "\n",
    "    # initialise other vars for X and theta\n",
    "    L_theta, L_X = 0, 0\n",
    "    grad_theta_sum, grad_Xk_sum = 0, 0\n",
    "    reward_theta, reward_X = 0, 0\n",
    "    abs_grad_theta_sum, abs_grad_Xk_sum = 0, 0\n",
    "    for k in range(K):\n",
    "        Xk = X.reshape(-1,X.shape[-1])  # Extract current particle cloud.\n",
    "        # Update particle cloud:\n",
    "        \n",
    "        # calculate kernel matrix\n",
    "        kxy, dx_kxy = svgd_kernel(Xk, h=-1)\n",
    "\n",
    "        # gradient\n",
    "        gx = [grad_x(th[k],X[:,:,i]).flatten() for i in range(N)]\n",
    "        grad_Xk = (np.matmul(kxy, np.asarray(gx).T) + dx_kxy) \n",
    "\n",
    "        # |gradient|\n",
    "        abs_grad_Xk = abs(grad_Xk)\n",
    "\n",
    "        # constant\n",
    "        L_X = np.maximum(abs_grad_Xk, L_X)\n",
    "\n",
    "        # sum of gradients\n",
    "        grad_Xk_sum += grad_Xk\n",
    "        abs_grad_Xk_sum += abs_grad_Xk\n",
    "\n",
    "        # 'reward'\n",
    "        reward_X = np.maximum(reward_X + np.multiply(Xk - X0, grad_Xk), 0)\n",
    "\n",
    "        # X update\n",
    "        Xkp1 = X0 + grad_Xk_sum / (L_X * (abs_grad_Xk_sum + L_X)) * (L_X + reward_X)\n",
    "        \n",
    "        X = Xkp1.reshape(x_shape)\n",
    "        \n",
    "        # Update theta:\n",
    "        # gradient\n",
    "        grad_theta = np.mean([grad_alpha(th[k],X[:,:,i]) for i in range(N)]) \n",
    "\n",
    "        # |gradient|\n",
    "        abs_grad_theta = abs(grad_theta)\n",
    "\n",
    "        # constant\n",
    "        L_theta = np.maximum(abs_grad_theta, L_theta)\n",
    "\n",
    "        # sum of gradients\n",
    "        grad_theta_sum += grad_theta\n",
    "        abs_grad_theta_sum += abs_grad_theta\n",
    "\n",
    "        # 'reward'\n",
    "        reward_theta = np.maximum(reward_theta + np.multiply(th[k] - theta0, grad_theta), 0)\n",
    "\n",
    "        # theta update\n",
    "        th = np.append(th, theta0 + grad_theta_sum / (L_theta * (abs_grad_theta_sum + L_theta)) * (L_theta + reward_theta))  # Update theta.\n",
    "    return th, X\n",
    "\n",
    "\n",
    "\n",
    "# Auxiliary functions.\n",
    "\n",
    "def svgd_kernel(theta, h = -1):\n",
    "    sq_dist = pdist(theta)\n",
    "    pairwise_dists = squareform(sq_dist) ** 2\n",
    "\n",
    "    # if h < 0, using median trick\n",
    "    if h < 0:\n",
    "        h = np.median(pairwise_dists)\n",
    "        h = np.sqrt(0.5 * h / np.log(theta.shape[0] + 1))\n",
    "\n",
    "    # rbf kernel\n",
    "    kxy = np.exp(-pairwise_dists / h ** 2 / 2)\n",
    "\n",
    "    # rbf kernel grad\n",
    "    dx_kxy = -np.matmul(kxy, theta)\n",
    "    sum_kxy = np.sum(kxy, axis=1)\n",
    "\n",
    "    for i in range(theta.shape[1]):\n",
    "        dx_kxy[:, i] = dx_kxy[:, i] + np.multiply(theta[:, i], sum_kxy)\n",
    "\n",
    "    dx_kxy = dx_kxy / (h ** 2)\n",
    "\n",
    "    return kxy, dx_kxy\n",
    "\n",
    "def procrustes_transform(X, mle):\n",
    "    Xtrans = np.copy(X)\n",
    "    for i in range(N):\n",
    "        _, Xtrans[:,:,i], _ = procrustes(mle, X[:,:,i])    \n",
    "    return Xtrans\n",
    " \n",
    "grad_alpha = grad(log_target, 0)\n",
    "grad_x = grad(log_target,1)"
   ]
  },
  {
   "cell_type": "markdown",
   "metadata": {
    "id": "DFb772_telnV"
   },
   "source": [
    "## Run the various algorithms and plot the latent representation"
   ]
  },
  {
   "cell_type": "markdown",
   "metadata": {
    "id": "kKT-6l_6urur"
   },
   "source": [
    "We run the algorithms using an 80/20 training/test split of the data:"
   ]
  },
  {
   "cell_type": "code",
   "execution_count": 5,
   "metadata": {},
   "outputs": [
    {
     "name": "stdout",
     "output_type": "stream",
     "text": [
      "Log_target -193.75166\n",
      "alpha [[-0.36683607]]\n",
      "Log_target -150.27016\n",
      "alpha [[0.38740075]]\n",
      "Log_target -150.27014\n",
      "alpha [[0.38793546]]\n",
      "Log_target -150.27014\n",
      "alpha [[0.38793546]]\n",
      "Log_target -150.27014\n",
      "alpha [[0.38793546]]\n",
      "Log_target -150.27014\n",
      "alpha [[0.38793546]]\n",
      "Log_target -150.27014\n",
      "alpha [[0.38793546]]\n",
      "Log_target -150.27014\n",
      "alpha [[0.38793546]]\n",
      "Log_target -150.27014\n",
      "alpha [[0.38793546]]\n",
      "Log_target -150.27014\n",
      "alpha [[0.38793546]]\n"
     ]
    }
   ],
   "source": [
    "#Find the MLE\n",
    "D = y.shape[0]\n",
    "# Initialize parameter estimates and particle cloud, all at zero:\n",
    "th0 = jnp.array([[1.0]])  # Parameter estimate.\n",
    "key, x_key = random.split(key, 2)\n",
    "\n",
    "th = th0\n",
    "x = 0.1*random.normal(x_key,(D, 2))\n",
    "\n",
    "lr = 0.01\n",
    "for step in range(10000):\n",
    "    x_grad = grad_x(th,x)\n",
    "    x += lr*x_grad\n",
    "    th_grad = grad_alpha(th,x) \n",
    "    th += lr*th_grad\n",
    "    if step % 1000 == 0:\n",
    "        print('Log_target', log_target(th,x))\n",
    "        print('alpha',th)\n",
    "Xmle = x\n",
    "Xmle, _ ,_ = procrustes(random.normal(x_key,(D, 2)), x)  "
   ]
  },
  {
   "cell_type": "code",
   "execution_count": 6,
   "metadata": {
    "id": "5WG-_AlQR_S_"
   },
   "outputs": [],
   "source": [
    "# Set approximation parameters:\n",
    "h = 1e-2 # Step-size. \n",
    "K = 1000  # Number of steps.\n",
    "N = 10  # Number of particles.\n",
    "D = y.shape[0]\n",
    "\n",
    "# Initialize parameter estimates and particle cloud, all at zero:\n",
    "th0 = th  # Parameter estimate.\n",
    "key, x_key = random.split(key, 2)\n",
    "X0 = 0.01*random.normal(x_key,(D, 2, N))\n",
    "for i in range(N):\n",
    "    X0.at[:,:,i].set(X0[:,:,i]+Xmle)\n",
    "\n",
    "# Run algorithms:\n",
    "#th_vi, X_vi, m_vi, s_vi = vi(ltrain, ftrain, h, K, N, th0, X0)\n",
    "th_pgd, X_pgd = pgd(y, h, K, N, th0, X0)\n",
    "th_coin, X_coin = coin(y, K, N, th0, X0)\n",
    "\n",
    "  \n",
    "#Procrustes transformation - post-processing step\n",
    "X_pgd = procrustes_transform(X_pgd, Xmle)\n",
    "X_coin = procrustes_transform(X_coin, Xmle)"
   ]
  },
  {
   "cell_type": "code",
   "execution_count": 7,
   "metadata": {},
   "outputs": [
    {
     "data": {
      "image/png": "[encoded data removed]",
      "text/plain": [
       "<Figure size 800x800 with 1 Axes>"
      ]
     },
     "metadata": {},
     "output_type": "display_data"
    }
   ],
   "source": [
    "#Plot the output from the algorithms\n",
    "   \n",
    "import pandas as pd\n",
    "\n",
    "avg_X_coin = jnp.mean(X_coin,axis=2)\n",
    "avg_X_pgd = jnp.mean(X_pgd,axis=2)\n",
    "\n",
    "names = [\"John Bosco\", \"Gregory\", \"Basil\", \"Peter\", \"Bonaventure\", \"Berthold\", \"Mark\", \"Victor\", \"Ambrose\", \"Romauld\", \"Louis\", \"Winfrid\", \"Amand\", \"Hugh\", \"Boniface\", \"Albert\", \"Elias\", \"Simplicius\"]\n",
    "numbers = [str(a) for a in np.arange(1,19)]\n",
    "group = [\"Turks\", \"Turks\", \"Outcasts\", \"Loyal\", \"Loyal\", \"Loyal\", \"Turks\", \"Loyal\", \"Loyal\", \"Loyal\", \"Loyal\", \"Turks\", \"Outcasts\", \"Turks\", \"Turks\", \"Turks\", \"Outcasts\", \"Outcasts\"]\n",
    "waverers = [\"Turks\", \"Turks\", \"Outcasts\", \"Loyal\", \"Loyal\", \"Loyal\", \"Turks\", \"Waverers\", \"Loyal\", \"Waverers\", \"Loyal\", \"Turks\", \"Waverers\", \"Turks\", \"Turks\", \"Turks\", \"Outcasts\", \"Outcasts\"]\n",
    "\n",
    "data = pd.DataFrame({\"X\": avg_X_coin[:,0], \"Y\": avg_X_coin[:,1], \"Group\": waverers})\n",
    "groups = data.groupby(\"Group\")\n",
    "\n",
    "fig = plt.figure(figsize=(8,8), dpi= 100)\n",
    "for name, group in groups:\n",
    "    plt.plot(np.asarray(group[\"X\"]), np.asarray(group[\"Y\"]), marker=\"o\", linestyle=\"\", label=name)\n",
    "plt.legend()\n",
    "#plt.scatter(avg_X_pgd[:,0],avg_X_pgd[:,1])\n",
    "for i in range(D):\n",
    "    plt.text(x=avg_X_coin[i,0]+0.001,y=avg_X_coin[i,1]+0.001,s=numbers[i],fontdict=dict(color='red',size=10),bbox=dict(facecolor='yellow',alpha=0.5))"
   ]
  },
  {
   "cell_type": "markdown",
   "metadata": {
    "id": "6woA0pl4fEaB"
   },
   "source": [
    "And plot the parameter estimates as a function of k:"
   ]
  },
  {
   "cell_type": "code",
   "execution_count": 8,
   "metadata": {
    "colab": {
     "base_uri": "https://localhost:8080/",
     "height": 282
    },
    "id": "R1XfFt7HfPDQ",
    "outputId": "bb276909-3f43-4350-9925-e979e4997560"
   },
   "outputs": [
    {
     "data": {
      "text/plain": [
       "<matplotlib.legend.Legend at 0x281148c10>"
      ]
     },
     "execution_count": 8,
     "metadata": {},
     "output_type": "execute_result"
    },
    {
     "data": {
      "image/png": "[encoded data removed]",
      "text/plain": [
       "<Figure size 640x480 with 1 Axes>"
      ]
     },
     "metadata": {},
     "output_type": "display_data"
    }
   ],
   "source": [
    "#plt.plot(th_vi, label='VI')\n",
    "plt.plot(th_pgd, label='PGD')\n",
    "#plt.xlim([-K/100, K])\n",
    "plt.plot(th_coin, label='Coin')\n",
    "plt.legend(loc='upper right')"
   ]
  },
  {
   "cell_type": "markdown",
   "metadata": {
    "id": "kgyOR3kTgIBG"
   },
   "source": [
    "The estimates produced by all five algorithms converge to the same limit after similar transients. To observe more significant differences between the algorithms' outputs, we examine the posterior approximations they return..."
   ]
  }
 ],
 "metadata": {
  "colab": {
   "include_colab_link": true,
   "provenance": []
  },
  "kernelspec": {
   "display_name": "Python 3 (ipykernel)",
   "language": "python",
   "name": "python3"
  },
  "language_info": {
   "codemirror_mode": {
    "name": "ipython",
    "version": 3
   },
   "file_extension": ".py",
   "mimetype": "text/x-python",
   "name": "python",
   "nbconvert_exporter": "python",
   "pygments_lexer": "ipython3",
   "version": "3.9.15"
  }
 },
 "nbformat": 4,
 "nbformat_minor": 1
}
